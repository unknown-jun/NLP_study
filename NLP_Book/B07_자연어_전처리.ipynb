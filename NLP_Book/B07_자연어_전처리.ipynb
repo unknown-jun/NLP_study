{
  "nbformat": 4,
  "nbformat_minor": 0,
  "metadata": {
    "colab": {
      "name": "B07_자연어_전처리.ipynb",
      "provenance": [],
      "collapsed_sections": [],
      "machine_shape": "hm",
      "authorship_tag": "ABX9TyMF8VGmPFMVdHEbnM+sXZof",
      "include_colab_link": true
    },
    "kernelspec": {
      "name": "python3",
      "display_name": "Python 3"
    },
    "language_info": {
      "name": "python"
    },
    "accelerator": "GPU",
    "gpuClass": "standard"
  },
  "cells": [
    {
      "cell_type": "markdown",
      "metadata": {
        "id": "view-in-github",
        "colab_type": "text"
      },
      "source": [
        "<a href=\"https://colab.research.google.com/github/unknown-jun/NLP_study/blob/main/NLP_Book/B07_%EC%9E%90%EC%97%B0%EC%96%B4_%EC%A0%84%EC%B2%98%EB%A6%AC.ipynb\" target=\"_parent\"><img src=\"https://colab.research.google.com/assets/colab-badge.svg\" alt=\"Open In Colab\"/></a>"
      ]
    },
    {
      "cell_type": "markdown",
      "source": [
        "# 자연어 처리\n",
        "## 자연어 처리 관련 용어\n",
        "- **<span style=\"color: 2D3748; background-color:#fff5b1;\">토큰(token)</span>**: 자연어 처리를 하기 위한 최소 단위, 문자열을 토큰으로 나누는 작업을 토큰 생성(tokenizing)이라고 하며, 문자열을 토큰으로 분리하는 함수를 토큰 함수라고 한다.\n",
        "- **<span style=\"color: 2D3748; background-color:#fff5b1;\">토큰화(tokenization)</span>**: 텍스트를 문장이나 단어로 분리하는 것을 의미함. 토큰화 단계를 마치면 텍스트가 단어 단위로 분리됨\n",
        "- **<span style=\"color: 2D3748; background-color:#fff5b1;\">불용어(stop words):</span>** 문장 내에서 많이 등장하는 단어. 분석과 관계없으며 자주 등장하는 빈도 때문에 성능에 영향을 미치므로 사전에 제거를 해야 함. 예로는 \"a\", \"the\", \"she\", \"he\"가 있다.\n",
        "- **<span style=\"color: 2D3748; background-color:#fff5b1;\">어간 추출(stemming):</span>** 단어를 기본형태로 만드는 작업. 예를 들어 \"consign\", \"consigning\", \"consignment\"가 있을 때 기본 단어인 \"consign\"으로 통일하는 것\n",
        "- **<span style=\"color: 2D3748; background-color:#fff5b1;\">표제어 추출(lemmatization):</span>** 단어가 문장 속에서 어떤 품사로 쓰이는 지를 고려하여 단어를 기본형태로 만드는 작업. 예를 들어 \"am\", \"are\", \"is\"는 \"be\"로 바뀐다.\n",
        "- **<span style=\"color: 2D3748; background-color:#fff5b1;\">품사 태깅(part-of-speech tagging):</span>** 주어진 문장에서 품사를 식별하기 위해 붙여주는 태그(식별 정보)\n"
      ],
      "metadata": {
        "id": "1PGNJOPdwvaO"
      }
    },
    {
      "cell_type": "code",
      "execution_count": 1,
      "metadata": {
        "colab": {
          "base_uri": "https://localhost:8080/"
        },
        "id": "d49dg4-YuKhu",
        "outputId": "0c449c0a-81c2-4103-a0df-9b9aa447ca41"
      },
      "outputs": [
        {
          "output_type": "stream",
          "name": "stdout",
          "text": [
            "Looking in indexes: https://pypi.org/simple, https://us-python.pkg.dev/colab-wheels/public/simple/\n",
            "Requirement already satisfied: nltk in /usr/local/lib/python3.7/dist-packages (3.7)\n",
            "Requirement already satisfied: regex>=2021.8.3 in /usr/local/lib/python3.7/dist-packages (from nltk) (2022.6.2)\n",
            "Requirement already satisfied: joblib in /usr/local/lib/python3.7/dist-packages (from nltk) (1.1.0)\n",
            "Requirement already satisfied: tqdm in /usr/local/lib/python3.7/dist-packages (from nltk) (4.64.0)\n",
            "Requirement already satisfied: click in /usr/local/lib/python3.7/dist-packages (from nltk) (7.1.2)\n"
          ]
        }
      ],
      "source": [
        "!pip install nltk"
      ]
    },
    {
      "cell_type": "code",
      "source": [
        "# 문장 토큰화\n",
        "import nltk\n",
        "\n",
        "nltk.download('punkt')\n",
        "text = nltk.word_tokenize('Is it possible distinguishing cats and dogs')\n",
        "print(text)"
      ],
      "metadata": {
        "colab": {
          "base_uri": "https://localhost:8080/"
        },
        "id": "Xd_UXZ1KuieX",
        "outputId": "e2b7194c-9cc7-4ae2-a16d-c6817c7d139a"
      },
      "execution_count": 2,
      "outputs": [
        {
          "output_type": "stream",
          "name": "stderr",
          "text": [
            "[nltk_data] Downloading package punkt to /root/nltk_data...\n",
            "[nltk_data]   Unzipping tokenizers/punkt.zip.\n"
          ]
        },
        {
          "output_type": "stream",
          "name": "stdout",
          "text": [
            "['Is', 'it', 'possible', 'distinguishing', 'cats', 'and', 'dogs']\n"
          ]
        }
      ]
    },
    {
      "cell_type": "code",
      "source": [
        "# 태깅에 필요한 자원 내려 받기\n",
        "nltk.download('averaged_perceptron_tagger')"
      ],
      "metadata": {
        "colab": {
          "base_uri": "https://localhost:8080/"
        },
        "id": "5TjQzuzHuzLZ",
        "outputId": "8d36a90b-a99b-45e5-8b62-ec9eca82fcca"
      },
      "execution_count": 3,
      "outputs": [
        {
          "output_type": "stream",
          "name": "stderr",
          "text": [
            "[nltk_data] Downloading package averaged_perceptron_tagger to\n",
            "[nltk_data]     /root/nltk_data...\n",
            "[nltk_data]   Unzipping taggers/averaged_perceptron_tagger.zip.\n"
          ]
        },
        {
          "output_type": "execute_result",
          "data": {
            "text/plain": [
              "True"
            ]
          },
          "metadata": {},
          "execution_count": 3
        }
      ]
    },
    {
      "cell_type": "code",
      "source": [
        "# 품사 태깅\n",
        "nltk.pos_tag(text)"
      ],
      "metadata": {
        "colab": {
          "base_uri": "https://localhost:8080/"
        },
        "id": "CKE3X0O3z1Nx",
        "outputId": "1cd70406-e933-4e31-b59a-e5827fa1ae79"
      },
      "execution_count": 4,
      "outputs": [
        {
          "output_type": "execute_result",
          "data": {
            "text/plain": [
              "[('Is', 'VBZ'),\n",
              " ('it', 'PRP'),\n",
              " ('possible', 'JJ'),\n",
              " ('distinguishing', 'VBG'),\n",
              " ('cats', 'NNS'),\n",
              " ('and', 'CC'),\n",
              " ('dogs', 'NNS')]"
            ]
          },
          "metadata": {},
          "execution_count": 4
        }
      ]
    },
    {
      "cell_type": "markdown",
      "source": [
        "## 자연어 처리 과정\n",
        "1. 인간의 언어인 자연어가 입력 텍스트로 들어옴\n",
        "2. 입력 텍스트에 대한 전처리\n",
        "  1. 토큰화\n",
        "  2. 불용어 제거\n",
        "  3. 어간 추출\n",
        "  4. 정규화\n",
        "3. 전처리가 끝난 단어들을 임베딩\n",
        "4. 모델/모형 적용"
      ],
      "metadata": {
        "id": "3UE_zR1q3S2A"
      }
    },
    {
      "cell_type": "markdown",
      "source": [
        "### NLTK가 제공하는 주요 기능\n",
        "- 말뭉치\n",
        "- 토큰 생성\n",
        "- 형태소 분석\n",
        "- 품사 태깅"
      ],
      "metadata": {
        "id": "s8DDzL-e3rHV"
      }
    },
    {
      "cell_type": "code",
      "source": [
        "# nltk 라이브러리 호출 및 문장 정의\n",
        "import nltk\n",
        "nltk.download('punkt')\n",
        "string1 = \"my favorite subject is math\"\n",
        "string2 = \"my favorite subject is math, english, economic and computer science\"\n",
        "nltk.word_tokenize(string1)"
      ],
      "metadata": {
        "colab": {
          "base_uri": "https://localhost:8080/"
        },
        "id": "0QQhuSc8z5As",
        "outputId": "a4d5014c-df3d-4d70-bea0-d2d76e42d9eb"
      },
      "execution_count": 5,
      "outputs": [
        {
          "output_type": "stream",
          "name": "stderr",
          "text": [
            "[nltk_data] Downloading package punkt to /root/nltk_data...\n",
            "[nltk_data]   Package punkt is already up-to-date!\n"
          ]
        },
        {
          "output_type": "execute_result",
          "data": {
            "text/plain": [
              "['my', 'favorite', 'subject', 'is', 'math']"
            ]
          },
          "metadata": {},
          "execution_count": 5
        }
      ]
    },
    {
      "cell_type": "code",
      "source": [
        "nltk.word_tokenize(string2)"
      ],
      "metadata": {
        "colab": {
          "base_uri": "https://localhost:8080/"
        },
        "id": "2UfjgU3B4fqB",
        "outputId": "2b72608b-e48b-46ac-df5a-10cd3de2b844"
      },
      "execution_count": 6,
      "outputs": [
        {
          "output_type": "execute_result",
          "data": {
            "text/plain": [
              "['my',\n",
              " 'favorite',\n",
              " 'subject',\n",
              " 'is',\n",
              " 'math',\n",
              " ',',\n",
              " 'english',\n",
              " ',',\n",
              " 'economic',\n",
              " 'and',\n",
              " 'computer',\n",
              " 'science']"
            ]
          },
          "metadata": {},
          "execution_count": 6
        }
      ]
    },
    {
      "cell_type": "markdown",
      "source": [
        "### KoNLPy"
      ],
      "metadata": {
        "id": "q_4x5GSA4x7L"
      }
    },
    {
      "cell_type": "code",
      "source": [
        "# 라이브러리 설치(코랩)\n",
        "\n",
        "%%bash\n",
        "apt-get update\n",
        "apt-get install g++ openjdk-8-jdk python-dev python3-dev\n",
        "pip3 install JPype1\n",
        "pip3 install konlpy"
      ],
      "metadata": {
        "id": "02IbX_8j4jCy"
      },
      "execution_count": null,
      "outputs": []
    },
    {
      "cell_type": "code",
      "source": [
        "# 라이브러리 호출 및 문장을 형태소로 변환\n",
        "from konlpy.tag import Komoran\n",
        "komoran = Komoran()\n",
        "print(komoran.morphs('딥러닝이 쉽나요? 어렵나요?')) # 텍스트를 형태소로 변환"
      ],
      "metadata": {
        "colab": {
          "base_uri": "https://localhost:8080/"
        },
        "id": "9Em-b9_d4vsC",
        "outputId": "d19d54ee-35bb-41f2-abe0-13759fbc3fc2"
      },
      "execution_count": 8,
      "outputs": [
        {
          "output_type": "stream",
          "name": "stdout",
          "text": [
            "['딥러닝이', '쉽', '나요', '?', '어렵', '나요', '?']\n"
          ]
        }
      ]
    },
    {
      "cell_type": "code",
      "source": [
        "# 품사태깅\n",
        "print(komoran.pos('소파 위에 있는 것이 고양이인가요? 강아지인가요?'))  # 품사 태깅"
      ],
      "metadata": {
        "colab": {
          "base_uri": "https://localhost:8080/"
        },
        "id": "10Ufvne45Jy4",
        "outputId": "608ae9fa-bbe4-41df-f005-568acbece7e9"
      },
      "execution_count": 9,
      "outputs": [
        {
          "output_type": "stream",
          "name": "stdout",
          "text": [
            "[('소파', 'NNP'), ('위', 'NNG'), ('에', 'JKB'), ('있', 'VV'), ('는', 'ETM'), ('것', 'NNB'), ('이', 'JKS'), ('고양이', 'NNG'), ('이', 'VCP'), ('ㄴ가요', 'EF'), ('?', 'SF'), ('강아지', 'NNG'), ('이', 'VCP'), ('ㄴ가요', 'EF'), ('?', 'SF')]\n"
          ]
        }
      ]
    },
    {
      "cell_type": "markdown",
      "source": [
        "형태소:  \n",
        "언어를 쪼갤 때 의미를 갖는 최소 단위.  \n",
        "![image.png](data:image/png;base64,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)"
      ],
      "metadata": {
        "id": "ivak7qfb5rkv"
      }
    },
    {
      "cell_type": "markdown",
      "source": [
        "### scikit-learn이 제공하는 NLP 기능\n",
        "- **<span style=\"color: 2D3748; background-color:#fff5b1;\">CountVectorizer:</span>** 텍스트에서 단어의 등장 횟수를 기준으로 특성을 추출함\n",
        "- **<span style=\"color: 2D3748; background-color:#fff5b1;\">Tfidfvectorizer:</span>** TF-IDF 값을 사용하여 텍스트에서 특성을 추출함\n",
        "- **<span style=\"color: 2D3748; background-color:#fff5b1;\">HashingVectorizer:</span>** CountVectorizer와 방법이 동일하지만 텍스트를 추출할 때 해시 함수를 사용하기 때문에 실행 시간이 감소한다.\n"
      ],
      "metadata": {
        "id": "3BcXIfLq7Bpj"
      }
    },
    {
      "cell_type": "code",
      "source": [
        "from sklearn.feature_extraction.text import CountVectorizer\n",
        "from nltk.stem.snowball import SnowballStemmer\n",
        "from nltk.tokenize import word_tokenize\n",
        "from nltk.corpus import stopwords\n",
        "\n",
        "import nltk\n",
        "import warnings\n",
        "import numpy as np\n",
        "warnings.filterwarnings('ignore')\n",
        "\n",
        "x_data = np.array([\n",
        "  'me free lottery',\n",
        "  'free get free you',\n",
        "  'you free scholarship',\n",
        "  'free to contact me',\n",
        "  'you won award',\n",
        "  'you ticket lottery',\n",
        "  'you ticket lottery',\n",
        "  'you ticket lottery',\n",
        "  'you ticket lottery',\n",
        "  'you ticket lottery'\n",
        "])\n",
        "y_data = np.array([1, 1, 1, 1, 1, 0, 0, 0, 0, 0])\n",
        "\n",
        "nltk.download('punkt')\n",
        "nltk.download('stopwords')"
      ],
      "metadata": {
        "colab": {
          "base_uri": "https://localhost:8080/"
        },
        "id": "lxtF1LXF5TZO",
        "outputId": "0e343533-fdca-4dd1-a05d-7fcb2c848603"
      },
      "execution_count": 10,
      "outputs": [
        {
          "output_type": "stream",
          "name": "stderr",
          "text": [
            "[nltk_data] Downloading package punkt to /root/nltk_data...\n",
            "[nltk_data]   Package punkt is already up-to-date!\n",
            "[nltk_data] Downloading package stopwords to /root/nltk_data...\n",
            "[nltk_data]   Unzipping corpora/stopwords.zip.\n"
          ]
        },
        {
          "output_type": "execute_result",
          "data": {
            "text/plain": [
              "True"
            ]
          },
          "metadata": {},
          "execution_count": 10
        }
      ]
    },
    {
      "cell_type": "code",
      "source": [
        "for i, document in enumerate(x_data):\n",
        "  document = word_tokenize(document)\n",
        "  clean_words = []\n",
        "  for word in document:\n",
        "    word = word.lower()\n",
        "    if word not in stopwords.words('english'): # 불용어 제거\n",
        "      stemmer = SnowballStemmer('english')\n",
        "      word = stemmer.stem(word) # 어간 추출\n",
        "      clean_words.append(word)\n",
        "    document = ' '.join(clean_words)\n",
        "    x_data[i] = document\n",
        "  \n",
        "x_data"
      ],
      "metadata": {
        "colab": {
          "base_uri": "https://localhost:8080/"
        },
        "id": "u4sS4_tP8HLR",
        "outputId": "5701ab3c-d3ad-4446-dee2-ebf538283596"
      },
      "execution_count": 11,
      "outputs": [
        {
          "output_type": "execute_result",
          "data": {
            "text/plain": [
              "array(['free lotteri', 'free get free', 'free scholarship',\n",
              "       'free contact', 'award', 'ticket lotteri', 'ticket lotteri',\n",
              "       'ticket lotteri', 'ticket lotteri', 'ticket lotteri'], dtype='<U20')"
            ]
          },
          "metadata": {},
          "execution_count": 11
        }
      ]
    },
    {
      "cell_type": "code",
      "source": [
        "vectorizer = CountVectorizer()\n",
        "\n",
        "vectorizer.fit(x_data)\n",
        "print(vectorizer.get_feature_names())\n",
        "print(vectorizer.vocabulary_)"
      ],
      "metadata": {
        "colab": {
          "base_uri": "https://localhost:8080/"
        },
        "id": "zmdvX_i--Y4V",
        "outputId": "6c1f0b06-2335-45b5-8027-dc9dbd095e3c"
      },
      "execution_count": 12,
      "outputs": [
        {
          "output_type": "stream",
          "name": "stdout",
          "text": [
            "['award', 'contact', 'free', 'get', 'lotteri', 'scholarship', 'ticket']\n",
            "{'free': 2, 'lotteri': 4, 'get': 3, 'scholarship': 5, 'contact': 1, 'award': 0, 'ticket': 6}\n"
          ]
        }
      ]
    },
    {
      "cell_type": "code",
      "source": [
        "x_data = vectorizer.transform(x_data)\n",
        "print(x_data.shape)\n",
        "print(x_data)"
      ],
      "metadata": {
        "colab": {
          "base_uri": "https://localhost:8080/"
        },
        "id": "zwVa5jPp-85M",
        "outputId": "f32a6b7a-8c84-461c-c5a2-7a07494a14de"
      },
      "execution_count": 13,
      "outputs": [
        {
          "output_type": "stream",
          "name": "stdout",
          "text": [
            "(10, 7)\n",
            "  (0, 2)\t1\n",
            "  (0, 4)\t1\n",
            "  (1, 2)\t2\n",
            "  (1, 3)\t1\n",
            "  (2, 2)\t1\n",
            "  (2, 5)\t1\n",
            "  (3, 1)\t1\n",
            "  (3, 2)\t1\n",
            "  (4, 0)\t1\n",
            "  (5, 4)\t1\n",
            "  (5, 6)\t1\n",
            "  (6, 4)\t1\n",
            "  (6, 6)\t1\n",
            "  (7, 4)\t1\n",
            "  (7, 6)\t1\n",
            "  (8, 4)\t1\n",
            "  (8, 6)\t1\n",
            "  (9, 4)\t1\n",
            "  (9, 6)\t1\n"
          ]
        }
      ]
    },
    {
      "cell_type": "code",
      "source": [
        "print(x_data.toarray())"
      ],
      "metadata": {
        "colab": {
          "base_uri": "https://localhost:8080/"
        },
        "id": "aOz-8zuZ_SHJ",
        "outputId": "112fb870-b919-41eb-8dbd-936a723db990"
      },
      "execution_count": 14,
      "outputs": [
        {
          "output_type": "stream",
          "name": "stdout",
          "text": [
            "[[0 0 1 0 1 0 0]\n",
            " [0 0 2 1 0 0 0]\n",
            " [0 0 1 0 0 1 0]\n",
            " [0 1 1 0 0 0 0]\n",
            " [1 0 0 0 0 0 0]\n",
            " [0 0 0 0 1 0 1]\n",
            " [0 0 0 0 1 0 1]\n",
            " [0 0 0 0 1 0 1]\n",
            " [0 0 0 0 1 0 1]\n",
            " [0 0 0 0 1 0 1]]\n"
          ]
        }
      ]
    },
    {
      "cell_type": "markdown",
      "source": [
        "### 토큰화\n",
        "**<span style=\"color: 2D3748; background-color:#fff5b1;\">토큰화</span>**란 주어진 텍스트를 단어/문장 단위로 자르는 것을 의미. 따라서 토큰화는 문장 토큰화와 단어 토큰화로 구분된다. \n",
        "- **<span style=\"color: 2D3748; background-color:#fff5b1;\">문장 토큰화</span>**: 주어진 문장을 토큰화한다는 것은 마침표(,), 느낌표(!), 물음표(?) 등 문장의 마지막을 뜻하는 기호에 따라 분리하는 것"
      ],
      "metadata": {
        "id": "Y9eocPwiAls2"
      }
    },
    {
      "cell_type": "code",
      "source": [
        "# 문장 토큰화\n",
        "from nltk import sent_tokenize\n",
        "\n",
        "text_sample = 'Natural Language Processing, or NLP, is the process of extracting the meaning, or intent, behind human language. In the field of Conversational artificial intelligence (AI), NLP allows machines and applications to understand the intent of human language inputs, and then generate appropriate responses, resulting in a natural conversation flow.'\n",
        "\n",
        "tokenized_sentences = sent_tokenize(text_sample)\n",
        "tokenized_sentences"
      ],
      "metadata": {
        "colab": {
          "base_uri": "https://localhost:8080/"
        },
        "id": "OtS-PfaK_cKt",
        "outputId": "ef42f067-f21f-4c70-c548-4d166ac02a39"
      },
      "execution_count": 15,
      "outputs": [
        {
          "output_type": "execute_result",
          "data": {
            "text/plain": [
              "['Natural Language Processing, or NLP, is the process of extracting the meaning, or intent, behind human language.',\n",
              " 'In the field of Conversational artificial intelligence (AI), NLP allows machines and applications to understand the intent of human language inputs, and then generate appropriate responses, resulting in a natural conversation flow.']"
            ]
          },
          "metadata": {},
          "execution_count": 15
        }
      ]
    },
    {
      "cell_type": "markdown",
      "source": [
        "- **<span style=\"color: 2D3748; background-color:#fff5b1;\">단어 토큰화</span>**: 단어 토큰화는 띄어쓰기를 기준으로 문장을 구분한다.  \n",
        "하지만 한국어는 띄어쓰기만으로 토큰을 구분하기 어려운 단점이 있다."
      ],
      "metadata": {
        "id": "zDOMtLGUBesl"
      }
    },
    {
      "cell_type": "code",
      "source": [
        "# 단어 토큰화\n",
        "from nltk import word_tokenize\n",
        "\n",
        "sentence = \"This book is for deep learning learners\"\n",
        "words = word_tokenize(sentence)\n",
        "print(words)"
      ],
      "metadata": {
        "colab": {
          "base_uri": "https://localhost:8080/"
        },
        "id": "-TGb6M8rAbPu",
        "outputId": "bf43cf1e-a60e-46ab-a1b4-9e717a6b472b"
      },
      "execution_count": 16,
      "outputs": [
        {
          "output_type": "stream",
          "name": "stdout",
          "text": [
            "['This', 'book', 'is', 'for', 'deep', 'learning', 'learners']\n"
          ]
        }
      ]
    },
    {
      "cell_type": "code",
      "source": [
        "# 아포스트로피가 포함된 문장에서 단어 토큰화\n",
        "from nltk.tokenize import WordPunctTokenizer\n",
        "\n",
        "sentence = \"it's nothing that you don't already know except most people aren't aware of how their inner world works\"\n",
        "words = WordPunctTokenizer().tokenize(sentence)\n",
        "print(words)"
      ],
      "metadata": {
        "colab": {
          "base_uri": "https://localhost:8080/"
        },
        "id": "vuit3gyMB5wk",
        "outputId": "4b8e89f9-82be-46ca-a2b2-ab793da4a3b4"
      },
      "execution_count": 17,
      "outputs": [
        {
          "output_type": "stream",
          "name": "stdout",
          "text": [
            "['it', \"'\", 's', 'nothing', 'that', 'you', 'don', \"'\", 't', 'already', 'know', 'except', 'most', 'people', 'aren', \"'\", 't', 'aware', 'of', 'how', 'their', 'inner', 'world', 'works']\n"
          ]
        }
      ]
    },
    {
      "cell_type": "markdown",
      "source": [
        "### 한글 토큰화 예제"
      ],
      "metadata": {
        "id": "B6jF0InwDQD7"
      }
    },
    {
      "cell_type": "code",
      "source": [
        "!wget https://raw.githubusercontent.com/gilbutITbook/080289/main/chap09/data/ratings_train.txt"
      ],
      "metadata": {
        "colab": {
          "base_uri": "https://localhost:8080/"
        },
        "id": "7H6kTfK6D-iK",
        "outputId": "c3e0aa70-74f0-4e66-c153-50a373e91ee3"
      },
      "execution_count": 18,
      "outputs": [
        {
          "output_type": "stream",
          "name": "stdout",
          "text": [
            "--2022-06-26 08:38:53--  https://raw.githubusercontent.com/gilbutITbook/080289/main/chap09/data/ratings_train.txt\n",
            "Resolving raw.githubusercontent.com (raw.githubusercontent.com)... 185.199.108.133, 185.199.109.133, 185.199.110.133, ...\n",
            "Connecting to raw.githubusercontent.com (raw.githubusercontent.com)|185.199.108.133|:443... connected.\n",
            "HTTP request sent, awaiting response... 200 OK\n",
            "Length: 14628806 (14M) [text/plain]\n",
            "Saving to: ‘ratings_train.txt’\n",
            "\n",
            "ratings_train.txt   100%[===================>]  13.95M  --.-KB/s    in 0.08s   \n",
            "\n",
            "2022-06-26 08:38:53 (179 MB/s) - ‘ratings_train.txt’ saved [14628806/14628806]\n",
            "\n"
          ]
        }
      ]
    },
    {
      "cell_type": "code",
      "source": [
        "# 라이브러리 호출 및 데이터셋 준비\n",
        "import csv\n",
        "from konlpy.tag import Okt\n",
        "from gensim.models import word2vec\n",
        "\n",
        "f = open(r'/content/ratings_train.txt', 'r', encoding='utf-8')\n",
        "rdr = csv.reader(f, delimiter='\\t')\n",
        "rdw = list(rdr)\n",
        "f.close()"
      ],
      "metadata": {
        "id": "r2ogwnq0Clq0"
      },
      "execution_count": 19,
      "outputs": []
    },
    {
      "cell_type": "code",
      "source": [
        "# 오픈소스 한글 형태소 분석기 호출\n",
        "twitter = Okt()\n",
        "\n",
        "result = []\n",
        "break_num = 0\n",
        "for line in rdw:    # 텍스트를 한 줄씩 처리\n",
        "  malist = twitter.pos(line[1], norm=True, stem=True)  # 형태소 분석\n",
        "  r = []\n",
        "  for word in malist:\n",
        "    if not word[1] in [\"Josa\", 'Eomi', 'Punctuation']: # 조사, 어미, 문장 부호는 제외하고 처리\n",
        "      r.append(word[0])\n",
        "  rl = (' '.join(r)).strip()  # 형태소 사이에 \" \"(공백)을 넣고, 양쪽 공백은 삭제\n",
        "  result.append(rl)\n",
        "  \n",
        "  break_num += 1\n",
        "  if break_num <= 10:\n",
        "    print(rl)"
      ],
      "metadata": {
        "colab": {
          "base_uri": "https://localhost:8080/"
        },
        "id": "fN-az8t7DWKE",
        "outputId": "c8beeb2f-ae12-436a-8c84-5e3f9e406b9f"
      },
      "execution_count": 20,
      "outputs": [
        {
          "output_type": "stream",
          "name": "stdout",
          "text": [
            "document\n",
            "아 더빙 진짜 짜증나다 목소리\n",
            "흠 포스터 보고 초딩 영화 줄 오버 연기 가볍다 않다\n",
            "너 무재 밓었 다그 래서 보다 추천 다\n",
            "교도소 이야기 구먼 솔직하다 재미 없다 평점 조정\n",
            "사이 몬페 그 의 익살스럽다 연기 돋보이다 영화 스파이더맨 늙다 보이다 하다 커스틴 던스트 너무나도 이쁘다 보이다\n",
            "막 걸음 마 떼다 3 세 초등학교 1 학년 생인 8 살다 영화 ㅋㅋㅋ 별 반개 아깝다 움\n",
            "원작 긴장감 제대로 살리다 하다\n",
            "별 반개 아깝다 욕 나오다 이응경 길용우 연 기 생활 몇 년 정말 발 해도 그것 낫다 납치 감금 반복 반복 이 드라마 가족 없다 연기 못 하다 사람 모 엿 네\n",
            "액션 없다 재미 있다 몇 안되다 영화\n"
          ]
        }
      ]
    },
    {
      "cell_type": "code",
      "source": [
        "# 형태소 저장\n",
        "with open(\"NaverMovie.nlp\", 'w', encoding='utf-8') as fp:\n",
        "  fp.write('\\n'.join(result))"
      ],
      "metadata": {
        "id": "z_3qSBYlFr1b"
      },
      "execution_count": 21,
      "outputs": []
    },
    {
      "cell_type": "code",
      "source": [
        "# word2vec 모델 생성\n",
        "mData = word2vec.LineSentence(\"NaverMovie.nlp\")\n",
        "mModel = word2vec.Word2Vec(mData, size= 200, window=10, hs=1, min_count=2, sg=1)\n",
        "mModel.save('NaverMovie.model')  # 모델 저장"
      ],
      "metadata": {
        "id": "l1UawJT_GjnF"
      },
      "execution_count": 22,
      "outputs": []
    },
    {
      "cell_type": "markdown",
      "source": [
        "### 불용어 제거\n",
        "- 불용어 제거란 문장 내에서 빈번하게 발생하여 의미를 부여하기 어려운 단어들을 의미한다.\n",
        "- 예를 들어 'a', 'the'와 같은 단어들은 모든 구문에 매우 많이 등장히기 때문에 아무런 의미를 가지지 않는다.\n",
        "- 특히 불용어는 자연어 처리에 있어 효율성을 감소시키고 처리 시간이 길어지는 단점이 있기 때문에 반드시 제거가 필요하다."
      ],
      "metadata": {
        "id": "WpoyxE3pKWtV"
      }
    },
    {
      "cell_type": "code",
      "source": [
        "# 불용어 처리\n",
        "import nltk\n",
        "from nltk.corpus import stopwords\n",
        "nltk.download('stopwords')\n",
        "nltk.download('punkt')\n",
        "from nltk.tokenize import word_tokenize\n",
        "\n",
        "sample_text = \"One of the first things that we ask ourselves is what are the pros and cons of any task we perform\"\n",
        "text_tokens = word_tokenize(sample_text)\n",
        "\n",
        "tokens_without_sw = [word for word in text_tokens if not word in stopwords.words('english')]\n",
        "\n",
        "print('불용어 제거 미적용: ', text_tokens, '\\n')\n",
        "print('불용어 제거 적용: ', tokens_without_sw)"
      ],
      "metadata": {
        "id": "nWEaOKHsG74K"
      },
      "execution_count": 22,
      "outputs": []
    },
    {
      "cell_type": "markdown",
      "source": [
        "### 어간 추출\n",
        "- 어간 추출(stemming)과 표제어 추출(lemmatization)은 단어의 원형을 찾아주는 것\n",
        "- **<span style=\"color: 2D3748; background-color:#fff5b1;\">어간 추출(stemming)</span>**은 단어 그 자체만 고려하기 때문에 품사가 달라도 사용이 가능\n",
        "- 반면 **<span style=\"color: 2D3748; background-color:#fff5b1;\">표제어 추출(lemmatization)</span>**은 단어가 문장 속에서 어떤 품사로 쓰였는지 고려하기 때문에 품사가 같아야 사용이 가능하다.\n",
        "\n",
        "  - 어간 추출의 예:  \n",
        "  Automates, automatic, automation → automat\n",
        "  - 표제어 추출의 예:  \n",
        "  am, are, is → be  \n",
        "  car, cars, car's, cars' → car\n",
        "\n",
        "- 어간 추출과 표제어 추출 모두 어근 추출이 목적이지만, 어간 추출은 사전에 없어도 추출할 수 있고 표제어 추출은 사전에 있는 단어만 추출할 수 있다는 차이점이 있다.\n",
        "- NLTK의 어간 추출에는 <span style=\"color: 2D3748; background-color:#fff5b1;\">포터(porter)</span>와 <span style=\"color: 2D3748; background-color:#fff5b1;\">랭커스터(lancaster)</span> 알고리즘이 있다."
      ],
      "metadata": {
        "id": "9pPd8FneL2X-"
      }
    },
    {
      "cell_type": "code",
      "source": [
        "# 포터 알고리즘\n",
        "from nltk.stem import PorterStemmer\n",
        "\n",
        "stemmer = PorterStemmer()\n",
        "print(stemmer.stem('obsses'), stemmer.stem('obssesed'))\n",
        "print(stemmer.stem('standardizes'), stemmer.stem('standardization'))\n",
        "print(stemmer.stem('national'), stemmer.stem('nation'))\n",
        "print(stemmer.stem('absentness'), stemmer.stem('abscently'))\n",
        "print(stemmer.stem('tribalical'), stemmer.stem('tribalicalized'))  # 사전에 없는 단어"
      ],
      "metadata": {
        "colab": {
          "base_uri": "https://localhost:8080/"
        },
        "id": "M0zYpWSuL1am",
        "outputId": "fdab2d64-1e78-4e10-dcde-0082c08bd402"
      },
      "execution_count": 25,
      "outputs": [
        {
          "output_type": "stream",
          "name": "stdout",
          "text": [
            "obss obsses\n",
            "standard standard\n",
            "nation nation\n",
            "absent abscent\n",
            "tribal tribalic\n"
          ]
        }
      ]
    },
    {
      "cell_type": "code",
      "source": [
        "# 랭커스터 알고리즘\n",
        "from nltk.stem import LancasterStemmer\n",
        "\n",
        "stemmer = LancasterStemmer()\n",
        "print(stemmer.stem('obsses'), stemmer.stem('obssesed'))\n",
        "print(stemmer.stem('standardizes'), stemmer.stem('standardization'))\n",
        "print(stemmer.stem('national'), stemmer.stem('nation'))\n",
        "print(stemmer.stem('absentness'), stemmer.stem('abscently'))\n",
        "print(stemmer.stem('tribalical'), stemmer.stem('tribalicalized'))  # 사전에 없는 단어"
      ],
      "metadata": {
        "colab": {
          "base_uri": "https://localhost:8080/"
        },
        "id": "uW4tjRWALukD",
        "outputId": "edbf1870-c083-442b-cfe1-3a10f8f3c76a"
      },
      "execution_count": 26,
      "outputs": [
        {
          "output_type": "stream",
          "name": "stdout",
          "text": [
            "obss obsses\n",
            "standard standard\n",
            "nat nat\n",
            "abs absc\n",
            "trib trib\n"
          ]
        }
      ]
    },
    {
      "cell_type": "markdown",
      "source": [
        "- 랭커스터 알고리즘은 단어의 원형을 알아볼 수 없을 정도로 축소시키기 때문에 정확도가 낮다.\n",
        "- 따라서 일반적인 상황보다는 데이터셋을 축소시켜야 하는 특정한 상황에서나 유용하다."
      ],
      "metadata": {
        "id": "K6_5p4hcOdsy"
      }
    },
    {
      "cell_type": "markdown",
      "source": [
        "### 표제어 추출\n",
        "- 일반적으로 어간 추출보다는 표제어 추출의 성능이 더 좋다.\n",
        "- 품사와 같은 문법 뿐만 아니라 문장 내에서 단어의 의미도 고려하기 때문에 성능이 더 좋다.\n",
        "- 하지만 어간 추출보다 시간이 더 걸리는 단점이 존재한다.\n",
        "- 표제어 추출에는 `WordNetLemmatizer`를 주로 이용함"
      ],
      "metadata": {
        "id": "4mcStd_QOuo6"
      }
    },
    {
      "cell_type": "code",
      "source": [
        "import nltk\n",
        "nltk.download('wordnet')\n",
        "nltk.download('omw-1.4')"
      ],
      "metadata": {
        "colab": {
          "base_uri": "https://localhost:8080/"
        },
        "id": "lkLiONBpPmRN",
        "outputId": "e0d90f2c-eacb-4901-9fe1-4e7f4d4375f7"
      },
      "execution_count": 35,
      "outputs": [
        {
          "output_type": "stream",
          "name": "stderr",
          "text": [
            "[nltk_data] Downloading package wordnet to /root/nltk_data...\n",
            "[nltk_data]   Package wordnet is already up-to-date!\n",
            "[nltk_data] Downloading package omw-1.4 to /root/nltk_data...\n",
            "[nltk_data]   Unzipping corpora/omw-1.4.zip.\n"
          ]
        },
        {
          "output_type": "execute_result",
          "data": {
            "text/plain": [
              "True"
            ]
          },
          "metadata": {},
          "execution_count": 35
        }
      ]
    },
    {
      "cell_type": "code",
      "source": [
        "from nltk.stem import WordNetLemmatizer\n",
        "\n",
        "lemma = WordNetLemmatizer()\n",
        "print(lemma.lemmatize('obsses'), lemma.lemmatize('obssesed'))\n",
        "print(lemma.lemmatize('standardizes'), lemma.lemmatize('standardization'))\n",
        "print(lemma.lemmatize('national'), lemma.lemmatize('nation'))\n",
        "print(lemma.lemmatize('absentness'), lemma.lemmatize('abscently'))\n",
        "print(lemma.lemmatize('tribalical'), lemma.lemmatize('tribalicalized'))  # 사전에 없는 단어"
      ],
      "metadata": {
        "colab": {
          "base_uri": "https://localhost:8080/"
        },
        "id": "tMYoGZAhOYM7",
        "outputId": "01bd0fa9-0e07-4b62-a4ff-0fe22118c1b7"
      },
      "execution_count": 36,
      "outputs": [
        {
          "output_type": "stream",
          "name": "stdout",
          "text": [
            "ob obssesed\n",
            "standardizes standardization\n",
            "national nation\n",
            "absentness abscently\n",
            "tribalical tribalicalized\n"
          ]
        }
      ]
    },
    {
      "cell_type": "markdown",
      "source": [
        "- 일반적으로 표제어 추출의 성능을 높이고자 단어에 대한 품사 정보를 추가한다.\n",
        "- 다음과 같이 두번째 파라미터에 품사 정보를 넣어주면 정확하게 어근 단어를 추출할 수 있다."
      ],
      "metadata": {
        "id": "RYp_z6uBPg8L"
      }
    },
    {
      "cell_type": "code",
      "source": [
        "print(lemma.lemmatize('obsses', 'v'), lemma.lemmatize('obssesed', 'a'))\n",
        "print(lemma.lemmatize('standardizes', 'v'), lemma.lemmatize('standardization', 'n'))\n",
        "print(lemma.lemmatize('national', 'a'), lemma.lemmatize('nation', 'n'))\n",
        "print(lemma.lemmatize('absentness', 'n'), lemma.lemmatize('abscently', 'r'))\n",
        "print(lemma.lemmatize('tribalical', 'a'), lemma.lemmatize('tribalicalized', 'v'))  # 사전에 없는 단어"
      ],
      "metadata": {
        "colab": {
          "base_uri": "https://localhost:8080/"
        },
        "id": "uRcssk0wPamC",
        "outputId": "dc32672b-0bed-4ff8-95d3-a77269e59073"
      },
      "execution_count": 37,
      "outputs": [
        {
          "output_type": "stream",
          "name": "stdout",
          "text": [
            "obsses obssesed\n",
            "standardize standardization\n",
            "national nation\n",
            "absentness abscently\n",
            "tribalical tribalicalized\n"
          ]
        }
      ]
    },
    {
      "cell_type": "markdown",
      "source": [
        "### 정규화\n",
        "- 데이터셋이 가진 특성(혹은 컬럼)의 모든 데이터가 동일한 정도의 범위를 갖도록 하는 것이 정규화\n",
        "- 예를 들어 a라는 컬럼은 0\\~10000의 범위를 갖지만, b라는 컬럼은 0\\~5의 범위를 가진다고 가정하자\n",
        "- 이 경우 a의 값이 상당히 큰 값을 가지기 때문에 상대적으로 더 많은 영향을 끼치게 된다.\n",
        "- 하지만 값이 크다고 분석에 더 중요한 요소라고 간주할 수 없기 때문에 정규화가 필요하다."
      ],
      "metadata": {
        "id": "OGedPzAdRV_p"
      }
    },
    {
      "cell_type": "code",
      "source": [
        "# 라이브러리 호출\n",
        "import pandas as pd\n",
        "import torch\n",
        "import torch.nn as nn\n",
        "\n",
        "from torch.utils.data import DataLoader, Dataset\n",
        "from sklearn.model_selection import train_test_split\n",
        "from sklearn.preprocessing import StandardScaler, MinMaxScaler\n",
        "\n",
        "device = torch.device('cuda' if torch.cuda.is_available() else 'cpu')"
      ],
      "metadata": {
        "id": "hNojre-YQ5vM"
      },
      "execution_count": 77,
      "outputs": []
    },
    {
      "cell_type": "code",
      "source": [
        "# 데이터셋 경로 지정 및 훈련과 테스트 용도로 분리\n",
        "df = pd.read_csv('https://raw.githubusercontent.com/gilbutITbook/080289/main/chap09/data/diabetes.csv')\n",
        "X = df[df.columns[:-1]]\n",
        "y = df['Outcome']\n",
        "\n",
        "X = X.values\n",
        "y = torch.tensor(y.values)\n",
        "X_train, X_test, y_train, y_test = train_test_split(X, y, test_size=0.33, stratify=y, random_state=7)"
      ],
      "metadata": {
        "id": "H9Pbx42-SWLg"
      },
      "execution_count": 78,
      "outputs": []
    },
    {
      "cell_type": "code",
      "source": [
        "# 훈련과 테스트용 데이터를 정규화\n",
        "ms = MinMaxScaler()\n",
        "ss = StandardScaler()\n",
        "\n",
        "X_train = ss.fit_transform(X_train)\n",
        "X_test = ss.transform(X_test)\n",
        "\n",
        "y_train = y_train.reshape(-1, 1)\n",
        "y_test = y_test.reshape(-1, 1)\n",
        "\n",
        "y_train = ms.fit_transform(y_train)\n",
        "y_test = ms.transform(y_test)"
      ],
      "metadata": {
        "id": "usMwLwYuS9Ew"
      },
      "execution_count": 79,
      "outputs": []
    },
    {
      "cell_type": "code",
      "source": [
        "# 커스텀 데이터셋 생성\n",
        "class customdataset(Dataset):\n",
        "  def __init__(self, X, y):\n",
        "    self.X = X\n",
        "    self.y = y\n",
        "    self.len = len(self.X)\n",
        "  \n",
        "  def __getitem__(self, index):\n",
        "    return self.X[index], self.y[index]\n",
        "\n",
        "  def __len__(self):\n",
        "    return self.len"
      ],
      "metadata": {
        "id": "edoXeCLATeMl"
      },
      "execution_count": 80,
      "outputs": []
    },
    {
      "cell_type": "code",
      "source": [
        "# 데이터로더에 데이터 담기\n",
        "train_data = customdataset(torch.FloatTensor(X_train), \n",
        "                           torch.FloatTensor(y_train))\n",
        "test_data = customdataset(torch.FloatTensor(X_test),\n",
        "                          torch.FloatTensor(y_test))\n",
        "\n",
        "train_loader = DataLoader(dataset= train_data, batch_size=64, shuffle=True)\n",
        "test_loader = DataLoader(dataset = test_data, batch_size=64, shuffle=True)"
      ],
      "metadata": {
        "id": "QoyVoBI7UQ6L"
      },
      "execution_count": 81,
      "outputs": []
    },
    {
      "cell_type": "code",
      "source": [
        "# 네트워크 생성\n",
        "class binaryClassification(nn.Module):\n",
        "\n",
        "  def __init__(self):\n",
        "    super(binaryClassification, self).__init__()\n",
        "    self.layer_1 = nn.Linear(8, 64, bias=True)\n",
        "    self.layer_2 = nn.Linear(64, 64, bias=True)\n",
        "    self.layer_out = nn.Linear(64, 1, bias=True)\n",
        "    self.relu = nn.ReLU()\n",
        "    self.dropout = nn.Dropout(p=0.1)\n",
        "    self.batchnorm1 = nn.BatchNorm1d(64)\n",
        "    self.batchnorm2 = nn.BatchNorm1d(64)\n",
        "\n",
        "  def forward(self, inputs):\n",
        "    x = self.relu(self.layer_1(inputs))\n",
        "    x = self.batchnorm1(x)\n",
        "    x = self.relu(self.layer_2(x))\n",
        "    x = self.batchnorm2(x)\n",
        "    x = self.dropout(x)\n",
        "    x = self.layer_out(x)\n",
        "    return x"
      ],
      "metadata": {
        "id": "y38hi6UJU-lz"
      },
      "execution_count": 82,
      "outputs": []
    },
    {
      "cell_type": "code",
      "source": [
        "# 손실함수와 옵티마이저 지정\n",
        "epochs = 1000+1\n",
        "print_epoch = 100\n",
        "learning_rate = 1e-2\n",
        "\n",
        "model = binaryClassification()\n",
        "model.to(device)\n",
        "BCE = nn.BCEWithLogitsLoss()\n",
        "# 훈련 데이터셋에서 무작위로 샘플을 추출하고 그 샘플만 \n",
        "optimizer = torch.optim.SGD(model.parameters(), lr=learning_rate)"
      ],
      "metadata": {
        "id": "XBcsIHAnWCny"
      },
      "execution_count": 83,
      "outputs": []
    },
    {
      "cell_type": "code",
      "source": [
        "# 모델 성능 측정 함수 정의\n",
        "def accuracy(y_pred, y_test):\n",
        "  y_pred_tag = torch.round(torch.sigmoid(y_pred))\n",
        "  correct_results_sum = (y_pred_tag == y_test).sum().float()  \n",
        "  acc = correct_results_sum / y_test.shape[0]\n",
        "  acc = torch.round(acc * 100)\n",
        "\n",
        "  return acc"
      ],
      "metadata": {
        "id": "dpGiJwwnW8nS"
      },
      "execution_count": 84,
      "outputs": []
    },
    {
      "cell_type": "code",
      "source": [
        "# 모델 학습\n",
        "for epoch in range(epochs):\n",
        "  iteration_loss = 0.\n",
        "  iteration_accuracy =  0.\n",
        "\n",
        "  model.train()\n",
        "  for i, data in enumerate(train_loader):   # 데이터로더에서 훈련 데이터셋을 배치 크기만큼 불러옴\n",
        "    X, y = data\n",
        "    X, y = X.to(device), y.to(device)\n",
        "\n",
        "    y_pred = model(X.float()).to(device)      # 독립변수를 모델에 적용하여 훈련\n",
        "    loss = BCE(y_pred, y.reshape(-1, 1).float())  # 모델에 적용하여 훈련시킨 결과와 정답(레이블)를 손실함수에 적용\n",
        "    iteration_loss += loss\n",
        "    iteration_accuracy += accuracy(y_pred, y)     # 모델 성능(정확도)을 변수에 누적하여 저장\n",
        "    \n",
        "    optimizer.zero_grad()\n",
        "    loss.backward()\n",
        "    optimizer.step()\n",
        "  if (epoch % print_epoch == 0):\n",
        "    print('Train - epoch: {0} - loss: {1:.5f} - acc: {2:.3f}'.format(epoch, iteration_loss/(i+1), iteration_accuracy/(i+1)))\n",
        "\n",
        "  iteration_loss = 0.\n",
        "  iteration_accuracy = 0.\n",
        "\n",
        "  model.eval()\n",
        "  for i, data in enumerate(test_loader):\n",
        "    X, y = data\n",
        "    X, y = X.to(device), y.to(device)\n",
        "\n",
        "    y_pred = model(X.float()).to(device)\n",
        "    loss = BCE(y_pred, y.reshape(-1, 1).float())\n",
        "    iteration_loss += loss\n",
        "    iteration_accuracy += accuracy(y_pred, y)\n",
        "  \n",
        "  if (epoch % print_epoch == 0):\n",
        "    print('Test  - epoch: {0} - loss: {1:.5f} - acc: {2:.3f}'.format(epoch, iteration_loss/(i+1), iteration_accuracy/(i+1)))"
      ],
      "metadata": {
        "colab": {
          "base_uri": "https://localhost:8080/"
        },
        "id": "nekrMeRncGQ0",
        "outputId": "43172d5d-8409-44a7-d7f4-1eb7ad58d20a"
      },
      "execution_count": 85,
      "outputs": [
        {
          "output_type": "stream",
          "name": "stdout",
          "text": [
            "Train - epoch: 0 - loss: 0.69076 - acc: 56.222\n",
            "Test  - epoch: 0 - loss: 0.67458 - acc: 68.750\n",
            "Train - epoch: 100 - loss: 0.42152 - acc: 80.556\n",
            "Test  - epoch: 100 - loss: 0.51042 - acc: 76.250\n",
            "Train - epoch: 200 - loss: 0.32916 - acc: 85.222\n",
            "Test  - epoch: 200 - loss: 0.47916 - acc: 76.750\n",
            "Train - epoch: 300 - loss: 0.36154 - acc: 85.000\n",
            "Test  - epoch: 300 - loss: 0.52812 - acc: 75.750\n",
            "Train - epoch: 400 - loss: 0.40219 - acc: 78.222\n",
            "Test  - epoch: 400 - loss: 0.50922 - acc: 76.250\n",
            "Train - epoch: 500 - loss: 0.46114 - acc: 78.778\n",
            "Test  - epoch: 500 - loss: 0.51781 - acc: 74.000\n",
            "Train - epoch: 600 - loss: 0.52162 - acc: 74.222\n",
            "Test  - epoch: 600 - loss: 0.51885 - acc: 76.500\n",
            "Train - epoch: 700 - loss: 0.46994 - acc: 74.111\n",
            "Test  - epoch: 700 - loss: 0.49341 - acc: 77.500\n",
            "Train - epoch: 800 - loss: 0.47316 - acc: 81.667\n",
            "Test  - epoch: 800 - loss: 0.49696 - acc: 76.500\n",
            "Train - epoch: 900 - loss: 0.48032 - acc: 77.667\n",
            "Test  - epoch: 900 - loss: 0.51370 - acc: 74.000\n",
            "Train - epoch: 1000 - loss: 0.44680 - acc: 76.778\n",
            "Test  - epoch: 1000 - loss: 0.51110 - acc: 75.250\n"
          ]
        }
      ]
    }
  ]
}