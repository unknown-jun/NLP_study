{
  "nbformat": 4,
  "nbformat_minor": 0,
  "metadata": {
    "colab": {
      "name": "B10_BERT.ipynb",
      "provenance": [],
      "collapsed_sections": [],
      "machine_shape": "hm",
      "toc_visible": true,
      "authorship_tag": "ABX9TyMZlbDJoFNMmg+oPpm7ZFTV",
      "include_colab_link": true
    },
    "kernelspec": {
      "name": "python3",
      "display_name": "Python 3"
    },
    "language_info": {
      "name": "python"
    },
    "accelerator": "GPU",
    "gpuClass": "standard",
    "widgets": {
      "application/vnd.jupyter.widget-state+json": {
        "310d34d0a35b413d95ae06c1d649087a": {
          "model_module": "@jupyter-widgets/controls",
          "model_name": "HBoxModel",
          "model_module_version": "1.5.0",
          "state": {
            "_dom_classes": [],
            "_model_module": "@jupyter-widgets/controls",
            "_model_module_version": "1.5.0",
            "_model_name": "HBoxModel",
            "_view_count": null,
            "_view_module": "@jupyter-widgets/controls",
            "_view_module_version": "1.5.0",
            "_view_name": "HBoxView",
            "box_style": "",
            "children": [
              "IPY_MODEL_54cac0fb52d84d2ea95786b31ec5e240",
              "IPY_MODEL_459254a561e140df8d49da62987ae6bd",
              "IPY_MODEL_e334f1a3e1004628aa5aad5b5cf30298"
            ],
            "layout": "IPY_MODEL_852a41ce6bc14a42bc005376ec6e7565"
          }
        },
        "54cac0fb52d84d2ea95786b31ec5e240": {
          "model_module": "@jupyter-widgets/controls",
          "model_name": "HTMLModel",
          "model_module_version": "1.5.0",
          "state": {
            "_dom_classes": [],
            "_model_module": "@jupyter-widgets/controls",
            "_model_module_version": "1.5.0",
            "_model_name": "HTMLModel",
            "_view_count": null,
            "_view_module": "@jupyter-widgets/controls",
            "_view_module_version": "1.5.0",
            "_view_name": "HTMLView",
            "description": "",
            "description_tooltip": null,
            "layout": "IPY_MODEL_c7acc9d6923c4389a80dd098513e49af",
            "placeholder": "​",
            "style": "IPY_MODEL_3b1265b3600f40feac05fd9066d119b8",
            "value": "Downloading: 100%"
          }
        },
        "459254a561e140df8d49da62987ae6bd": {
          "model_module": "@jupyter-widgets/controls",
          "model_name": "FloatProgressModel",
          "model_module_version": "1.5.0",
          "state": {
            "_dom_classes": [],
            "_model_module": "@jupyter-widgets/controls",
            "_model_module_version": "1.5.0",
            "_model_name": "FloatProgressModel",
            "_view_count": null,
            "_view_module": "@jupyter-widgets/controls",
            "_view_module_version": "1.5.0",
            "_view_name": "ProgressView",
            "bar_style": "success",
            "description": "",
            "description_tooltip": null,
            "layout": "IPY_MODEL_4bb41fe94a554c5eba37d016c72aa887",
            "max": 995526,
            "min": 0,
            "orientation": "horizontal",
            "style": "IPY_MODEL_9e064f1c31f644df89bcc79f79433cad",
            "value": 995526
          }
        },
        "e334f1a3e1004628aa5aad5b5cf30298": {
          "model_module": "@jupyter-widgets/controls",
          "model_name": "HTMLModel",
          "model_module_version": "1.5.0",
          "state": {
            "_dom_classes": [],
            "_model_module": "@jupyter-widgets/controls",
            "_model_module_version": "1.5.0",
            "_model_name": "HTMLModel",
            "_view_count": null,
            "_view_module": "@jupyter-widgets/controls",
            "_view_module_version": "1.5.0",
            "_view_name": "HTMLView",
            "description": "",
            "description_tooltip": null,
            "layout": "IPY_MODEL_4b5d5c137150485bab70973093f6cb82",
            "placeholder": "​",
            "style": "IPY_MODEL_d9ae3e465f9c47e8a9e161408a9e98da",
            "value": " 972k/972k [00:01&lt;00:00, 1.11MB/s]"
          }
        },
        "852a41ce6bc14a42bc005376ec6e7565": {
          "model_module": "@jupyter-widgets/base",
          "model_name": "LayoutModel",
          "model_module_version": "1.2.0",
          "state": {
            "_model_module": "@jupyter-widgets/base",
            "_model_module_version": "1.2.0",
            "_model_name": "LayoutModel",
            "_view_count": null,
            "_view_module": "@jupyter-widgets/base",
            "_view_module_version": "1.2.0",
            "_view_name": "LayoutView",
            "align_content": null,
            "align_items": null,
            "align_self": null,
            "border": null,
            "bottom": null,
            "display": null,
            "flex": null,
            "flex_flow": null,
            "grid_area": null,
            "grid_auto_columns": null,
            "grid_auto_flow": null,
            "grid_auto_rows": null,
            "grid_column": null,
            "grid_gap": null,
            "grid_row": null,
            "grid_template_areas": null,
            "grid_template_columns": null,
            "grid_template_rows": null,
            "height": null,
            "justify_content": null,
            "justify_items": null,
            "left": null,
            "margin": null,
            "max_height": null,
            "max_width": null,
            "min_height": null,
            "min_width": null,
            "object_fit": null,
            "object_position": null,
            "order": null,
            "overflow": null,
            "overflow_x": null,
            "overflow_y": null,
            "padding": null,
            "right": null,
            "top": null,
            "visibility": null,
            "width": null
          }
        },
        "c7acc9d6923c4389a80dd098513e49af": {
          "model_module": "@jupyter-widgets/base",
          "model_name": "LayoutModel",
          "model_module_version": "1.2.0",
          "state": {
            "_model_module": "@jupyter-widgets/base",
            "_model_module_version": "1.2.0",
            "_model_name": "LayoutModel",
            "_view_count": null,
            "_view_module": "@jupyter-widgets/base",
            "_view_module_version": "1.2.0",
            "_view_name": "LayoutView",
            "align_content": null,
            "align_items": null,
            "align_self": null,
            "border": null,
            "bottom": null,
            "display": null,
            "flex": null,
            "flex_flow": null,
            "grid_area": null,
            "grid_auto_columns": null,
            "grid_auto_flow": null,
            "grid_auto_rows": null,
            "grid_column": null,
            "grid_gap": null,
            "grid_row": null,
            "grid_template_areas": null,
            "grid_template_columns": null,
            "grid_template_rows": null,
            "height": null,
            "justify_content": null,
            "justify_items": null,
            "left": null,
            "margin": null,
            "max_height": null,
            "max_width": null,
            "min_height": null,
            "min_width": null,
            "object_fit": null,
            "object_position": null,
            "order": null,
            "overflow": null,
            "overflow_x": null,
            "overflow_y": null,
            "padding": null,
            "right": null,
            "top": null,
            "visibility": null,
            "width": null
          }
        },
        "3b1265b3600f40feac05fd9066d119b8": {
          "model_module": "@jupyter-widgets/controls",
          "model_name": "DescriptionStyleModel",
          "model_module_version": "1.5.0",
          "state": {
            "_model_module": "@jupyter-widgets/controls",
            "_model_module_version": "1.5.0",
            "_model_name": "DescriptionStyleModel",
            "_view_count": null,
            "_view_module": "@jupyter-widgets/base",
            "_view_module_version": "1.2.0",
            "_view_name": "StyleView",
            "description_width": ""
          }
        },
        "4bb41fe94a554c5eba37d016c72aa887": {
          "model_module": "@jupyter-widgets/base",
          "model_name": "LayoutModel",
          "model_module_version": "1.2.0",
          "state": {
            "_model_module": "@jupyter-widgets/base",
            "_model_module_version": "1.2.0",
            "_model_name": "LayoutModel",
            "_view_count": null,
            "_view_module": "@jupyter-widgets/base",
            "_view_module_version": "1.2.0",
            "_view_name": "LayoutView",
            "align_content": null,
            "align_items": null,
            "align_self": null,
            "border": null,
            "bottom": null,
            "display": null,
            "flex": null,
            "flex_flow": null,
            "grid_area": null,
            "grid_auto_columns": null,
            "grid_auto_flow": null,
            "grid_auto_rows": null,
            "grid_column": null,
            "grid_gap": null,
            "grid_row": null,
            "grid_template_areas": null,
            "grid_template_columns": null,
            "grid_template_rows": null,
            "height": null,
            "justify_content": null,
            "justify_items": null,
            "left": null,
            "margin": null,
            "max_height": null,
            "max_width": null,
            "min_height": null,
            "min_width": null,
            "object_fit": null,
            "object_position": null,
            "order": null,
            "overflow": null,
            "overflow_x": null,
            "overflow_y": null,
            "padding": null,
            "right": null,
            "top": null,
            "visibility": null,
            "width": null
          }
        },
        "9e064f1c31f644df89bcc79f79433cad": {
          "model_module": "@jupyter-widgets/controls",
          "model_name": "ProgressStyleModel",
          "model_module_version": "1.5.0",
          "state": {
            "_model_module": "@jupyter-widgets/controls",
            "_model_module_version": "1.5.0",
            "_model_name": "ProgressStyleModel",
            "_view_count": null,
            "_view_module": "@jupyter-widgets/base",
            "_view_module_version": "1.2.0",
            "_view_name": "StyleView",
            "bar_color": null,
            "description_width": ""
          }
        },
        "4b5d5c137150485bab70973093f6cb82": {
          "model_module": "@jupyter-widgets/base",
          "model_name": "LayoutModel",
          "model_module_version": "1.2.0",
          "state": {
            "_model_module": "@jupyter-widgets/base",
            "_model_module_version": "1.2.0",
            "_model_name": "LayoutModel",
            "_view_count": null,
            "_view_module": "@jupyter-widgets/base",
            "_view_module_version": "1.2.0",
            "_view_name": "LayoutView",
            "align_content": null,
            "align_items": null,
            "align_self": null,
            "border": null,
            "bottom": null,
            "display": null,
            "flex": null,
            "flex_flow": null,
            "grid_area": null,
            "grid_auto_columns": null,
            "grid_auto_flow": null,
            "grid_auto_rows": null,
            "grid_column": null,
            "grid_gap": null,
            "grid_row": null,
            "grid_template_areas": null,
            "grid_template_columns": null,
            "grid_template_rows": null,
            "height": null,
            "justify_content": null,
            "justify_items": null,
            "left": null,
            "margin": null,
            "max_height": null,
            "max_width": null,
            "min_height": null,
            "min_width": null,
            "object_fit": null,
            "object_position": null,
            "order": null,
            "overflow": null,
            "overflow_x": null,
            "overflow_y": null,
            "padding": null,
            "right": null,
            "top": null,
            "visibility": null,
            "width": null
          }
        },
        "d9ae3e465f9c47e8a9e161408a9e98da": {
          "model_module": "@jupyter-widgets/controls",
          "model_name": "DescriptionStyleModel",
          "model_module_version": "1.5.0",
          "state": {
            "_model_module": "@jupyter-widgets/controls",
            "_model_module_version": "1.5.0",
            "_model_name": "DescriptionStyleModel",
            "_view_count": null,
            "_view_module": "@jupyter-widgets/base",
            "_view_module_version": "1.2.0",
            "_view_name": "StyleView",
            "description_width": ""
          }
        },
        "d5157e09fbb7480f9332b771aa05c28d": {
          "model_module": "@jupyter-widgets/controls",
          "model_name": "HBoxModel",
          "model_module_version": "1.5.0",
          "state": {
            "_dom_classes": [],
            "_model_module": "@jupyter-widgets/controls",
            "_model_module_version": "1.5.0",
            "_model_name": "HBoxModel",
            "_view_count": null,
            "_view_module": "@jupyter-widgets/controls",
            "_view_module_version": "1.5.0",
            "_view_name": "HBoxView",
            "box_style": "",
            "children": [
              "IPY_MODEL_ba0ac3f751ff4f7b95e0290bd75ad6c9",
              "IPY_MODEL_8ad8d8061f8f45109a89ae82c10a7ffb",
              "IPY_MODEL_ebf913db78d0431693a2ba94c6aea2e7"
            ],
            "layout": "IPY_MODEL_c06d1e7b2c86452dbd67dc8d1c6255b9"
          }
        },
        "ba0ac3f751ff4f7b95e0290bd75ad6c9": {
          "model_module": "@jupyter-widgets/controls",
          "model_name": "HTMLModel",
          "model_module_version": "1.5.0",
          "state": {
            "_dom_classes": [],
            "_model_module": "@jupyter-widgets/controls",
            "_model_module_version": "1.5.0",
            "_model_name": "HTMLModel",
            "_view_count": null,
            "_view_module": "@jupyter-widgets/controls",
            "_view_module_version": "1.5.0",
            "_view_name": "HTMLView",
            "description": "",
            "description_tooltip": null,
            "layout": "IPY_MODEL_e46557d29f024c30a66973b435138e55",
            "placeholder": "​",
            "style": "IPY_MODEL_dd2453ff84634c189c5664691bb16125",
            "value": "Downloading: 100%"
          }
        },
        "8ad8d8061f8f45109a89ae82c10a7ffb": {
          "model_module": "@jupyter-widgets/controls",
          "model_name": "FloatProgressModel",
          "model_module_version": "1.5.0",
          "state": {
            "_dom_classes": [],
            "_model_module": "@jupyter-widgets/controls",
            "_model_module_version": "1.5.0",
            "_model_name": "FloatProgressModel",
            "_view_count": null,
            "_view_module": "@jupyter-widgets/controls",
            "_view_module_version": "1.5.0",
            "_view_name": "ProgressView",
            "bar_style": "success",
            "description": "",
            "description_tooltip": null,
            "layout": "IPY_MODEL_cbda416950ba4fa5ac32c770bc2f969b",
            "max": 29,
            "min": 0,
            "orientation": "horizontal",
            "style": "IPY_MODEL_45eab16560b543d88a392fb38d24e601",
            "value": 29
          }
        },
        "ebf913db78d0431693a2ba94c6aea2e7": {
          "model_module": "@jupyter-widgets/controls",
          "model_name": "HTMLModel",
          "model_module_version": "1.5.0",
          "state": {
            "_dom_classes": [],
            "_model_module": "@jupyter-widgets/controls",
            "_model_module_version": "1.5.0",
            "_model_name": "HTMLModel",
            "_view_count": null,
            "_view_module": "@jupyter-widgets/controls",
            "_view_module_version": "1.5.0",
            "_view_name": "HTMLView",
            "description": "",
            "description_tooltip": null,
            "layout": "IPY_MODEL_3d308c867aa84cecae6d5af3c48bcced",
            "placeholder": "​",
            "style": "IPY_MODEL_2f1be892b51344d5ba09f90a5d5b7743",
            "value": " 29.0/29.0 [00:00&lt;00:00, 815B/s]"
          }
        },
        "c06d1e7b2c86452dbd67dc8d1c6255b9": {
          "model_module": "@jupyter-widgets/base",
          "model_name": "LayoutModel",
          "model_module_version": "1.2.0",
          "state": {
            "_model_module": "@jupyter-widgets/base",
            "_model_module_version": "1.2.0",
            "_model_name": "LayoutModel",
            "_view_count": null,
            "_view_module": "@jupyter-widgets/base",
            "_view_module_version": "1.2.0",
            "_view_name": "LayoutView",
            "align_content": null,
            "align_items": null,
            "align_self": null,
            "border": null,
            "bottom": null,
            "display": null,
            "flex": null,
            "flex_flow": null,
            "grid_area": null,
            "grid_auto_columns": null,
            "grid_auto_flow": null,
            "grid_auto_rows": null,
            "grid_column": null,
            "grid_gap": null,
            "grid_row": null,
            "grid_template_areas": null,
            "grid_template_columns": null,
            "grid_template_rows": null,
            "height": null,
            "justify_content": null,
            "justify_items": null,
            "left": null,
            "margin": null,
            "max_height": null,
            "max_width": null,
            "min_height": null,
            "min_width": null,
            "object_fit": null,
            "object_position": null,
            "order": null,
            "overflow": null,
            "overflow_x": null,
            "overflow_y": null,
            "padding": null,
            "right": null,
            "top": null,
            "visibility": null,
            "width": null
          }
        },
        "e46557d29f024c30a66973b435138e55": {
          "model_module": "@jupyter-widgets/base",
          "model_name": "LayoutModel",
          "model_module_version": "1.2.0",
          "state": {
            "_model_module": "@jupyter-widgets/base",
            "_model_module_version": "1.2.0",
            "_model_name": "LayoutModel",
            "_view_count": null,
            "_view_module": "@jupyter-widgets/base",
            "_view_module_version": "1.2.0",
            "_view_name": "LayoutView",
            "align_content": null,
            "align_items": null,
            "align_self": null,
            "border": null,
            "bottom": null,
            "display": null,
            "flex": null,
            "flex_flow": null,
            "grid_area": null,
            "grid_auto_columns": null,
            "grid_auto_flow": null,
            "grid_auto_rows": null,
            "grid_column": null,
            "grid_gap": null,
            "grid_row": null,
            "grid_template_areas": null,
            "grid_template_columns": null,
            "grid_template_rows": null,
            "height": null,
            "justify_content": null,
            "justify_items": null,
            "left": null,
            "margin": null,
            "max_height": null,
            "max_width": null,
            "min_height": null,
            "min_width": null,
            "object_fit": null,
            "object_position": null,
            "order": null,
            "overflow": null,
            "overflow_x": null,
            "overflow_y": null,
            "padding": null,
            "right": null,
            "top": null,
            "visibility": null,
            "width": null
          }
        },
        "dd2453ff84634c189c5664691bb16125": {
          "model_module": "@jupyter-widgets/controls",
          "model_name": "DescriptionStyleModel",
          "model_module_version": "1.5.0",
          "state": {
            "_model_module": "@jupyter-widgets/controls",
            "_model_module_version": "1.5.0",
            "_model_name": "DescriptionStyleModel",
            "_view_count": null,
            "_view_module": "@jupyter-widgets/base",
            "_view_module_version": "1.2.0",
            "_view_name": "StyleView",
            "description_width": ""
          }
        },
        "cbda416950ba4fa5ac32c770bc2f969b": {
          "model_module": "@jupyter-widgets/base",
          "model_name": "LayoutModel",
          "model_module_version": "1.2.0",
          "state": {
            "_model_module": "@jupyter-widgets/base",
            "_model_module_version": "1.2.0",
            "_model_name": "LayoutModel",
            "_view_count": null,
            "_view_module": "@jupyter-widgets/base",
            "_view_module_version": "1.2.0",
            "_view_name": "LayoutView",
            "align_content": null,
            "align_items": null,
            "align_self": null,
            "border": null,
            "bottom": null,
            "display": null,
            "flex": null,
            "flex_flow": null,
            "grid_area": null,
            "grid_auto_columns": null,
            "grid_auto_flow": null,
            "grid_auto_rows": null,
            "grid_column": null,
            "grid_gap": null,
            "grid_row": null,
            "grid_template_areas": null,
            "grid_template_columns": null,
            "grid_template_rows": null,
            "height": null,
            "justify_content": null,
            "justify_items": null,
            "left": null,
            "margin": null,
            "max_height": null,
            "max_width": null,
            "min_height": null,
            "min_width": null,
            "object_fit": null,
            "object_position": null,
            "order": null,
            "overflow": null,
            "overflow_x": null,
            "overflow_y": null,
            "padding": null,
            "right": null,
            "top": null,
            "visibility": null,
            "width": null
          }
        },
        "45eab16560b543d88a392fb38d24e601": {
          "model_module": "@jupyter-widgets/controls",
          "model_name": "ProgressStyleModel",
          "model_module_version": "1.5.0",
          "state": {
            "_model_module": "@jupyter-widgets/controls",
            "_model_module_version": "1.5.0",
            "_model_name": "ProgressStyleModel",
            "_view_count": null,
            "_view_module": "@jupyter-widgets/base",
            "_view_module_version": "1.2.0",
            "_view_name": "StyleView",
            "bar_color": null,
            "description_width": ""
          }
        },
        "3d308c867aa84cecae6d5af3c48bcced": {
          "model_module": "@jupyter-widgets/base",
          "model_name": "LayoutModel",
          "model_module_version": "1.2.0",
          "state": {
            "_model_module": "@jupyter-widgets/base",
            "_model_module_version": "1.2.0",
            "_model_name": "LayoutModel",
            "_view_count": null,
            "_view_module": "@jupyter-widgets/base",
            "_view_module_version": "1.2.0",
            "_view_name": "LayoutView",
            "align_content": null,
            "align_items": null,
            "align_self": null,
            "border": null,
            "bottom": null,
            "display": null,
            "flex": null,
            "flex_flow": null,
            "grid_area": null,
            "grid_auto_columns": null,
            "grid_auto_flow": null,
            "grid_auto_rows": null,
            "grid_column": null,
            "grid_gap": null,
            "grid_row": null,
            "grid_template_areas": null,
            "grid_template_columns": null,
            "grid_template_rows": null,
            "height": null,
            "justify_content": null,
            "justify_items": null,
            "left": null,
            "margin": null,
            "max_height": null,
            "max_width": null,
            "min_height": null,
            "min_width": null,
            "object_fit": null,
            "object_position": null,
            "order": null,
            "overflow": null,
            "overflow_x": null,
            "overflow_y": null,
            "padding": null,
            "right": null,
            "top": null,
            "visibility": null,
            "width": null
          }
        },
        "2f1be892b51344d5ba09f90a5d5b7743": {
          "model_module": "@jupyter-widgets/controls",
          "model_name": "DescriptionStyleModel",
          "model_module_version": "1.5.0",
          "state": {
            "_model_module": "@jupyter-widgets/controls",
            "_model_module_version": "1.5.0",
            "_model_name": "DescriptionStyleModel",
            "_view_count": null,
            "_view_module": "@jupyter-widgets/base",
            "_view_module_version": "1.2.0",
            "_view_name": "StyleView",
            "description_width": ""
          }
        },
        "e906a3e371324e74a5e5925ff790da60": {
          "model_module": "@jupyter-widgets/controls",
          "model_name": "HBoxModel",
          "model_module_version": "1.5.0",
          "state": {
            "_dom_classes": [],
            "_model_module": "@jupyter-widgets/controls",
            "_model_module_version": "1.5.0",
            "_model_name": "HBoxModel",
            "_view_count": null,
            "_view_module": "@jupyter-widgets/controls",
            "_view_module_version": "1.5.0",
            "_view_name": "HBoxView",
            "box_style": "",
            "children": [
              "IPY_MODEL_8ca5b4c4040140ed80a109edeff97c44",
              "IPY_MODEL_9dfc8c0fb344457bad5365fa2f8caf6d",
              "IPY_MODEL_e4aa0131e0024c109c1f0998ea69173e"
            ],
            "layout": "IPY_MODEL_cdf917c57dec4283bb180d8acc3fa337"
          }
        },
        "8ca5b4c4040140ed80a109edeff97c44": {
          "model_module": "@jupyter-widgets/controls",
          "model_name": "HTMLModel",
          "model_module_version": "1.5.0",
          "state": {
            "_dom_classes": [],
            "_model_module": "@jupyter-widgets/controls",
            "_model_module_version": "1.5.0",
            "_model_name": "HTMLModel",
            "_view_count": null,
            "_view_module": "@jupyter-widgets/controls",
            "_view_module_version": "1.5.0",
            "_view_name": "HTMLView",
            "description": "",
            "description_tooltip": null,
            "layout": "IPY_MODEL_7065f5ec517248f181d4ca428052926c",
            "placeholder": "​",
            "style": "IPY_MODEL_92f002f3ca084da183b834f64bd42c50",
            "value": "Downloading: 100%"
          }
        },
        "9dfc8c0fb344457bad5365fa2f8caf6d": {
          "model_module": "@jupyter-widgets/controls",
          "model_name": "FloatProgressModel",
          "model_module_version": "1.5.0",
          "state": {
            "_dom_classes": [],
            "_model_module": "@jupyter-widgets/controls",
            "_model_module_version": "1.5.0",
            "_model_name": "FloatProgressModel",
            "_view_count": null,
            "_view_module": "@jupyter-widgets/controls",
            "_view_module_version": "1.5.0",
            "_view_name": "ProgressView",
            "bar_style": "success",
            "description": "",
            "description_tooltip": null,
            "layout": "IPY_MODEL_91b60fae9f614373b08cf168acf56ed7",
            "max": 625,
            "min": 0,
            "orientation": "horizontal",
            "style": "IPY_MODEL_4245befc78494cc7b6efe2da80185657",
            "value": 625
          }
        },
        "e4aa0131e0024c109c1f0998ea69173e": {
          "model_module": "@jupyter-widgets/controls",
          "model_name": "HTMLModel",
          "model_module_version": "1.5.0",
          "state": {
            "_dom_classes": [],
            "_model_module": "@jupyter-widgets/controls",
            "_model_module_version": "1.5.0",
            "_model_name": "HTMLModel",
            "_view_count": null,
            "_view_module": "@jupyter-widgets/controls",
            "_view_module_version": "1.5.0",
            "_view_name": "HTMLView",
            "description": "",
            "description_tooltip": null,
            "layout": "IPY_MODEL_824f5b388cfa4ceb903950c7bbcf7c9a",
            "placeholder": "​",
            "style": "IPY_MODEL_24280aef0bc34537960585198c23bab0",
            "value": " 625/625 [00:00&lt;00:00, 16.2kB/s]"
          }
        },
        "cdf917c57dec4283bb180d8acc3fa337": {
          "model_module": "@jupyter-widgets/base",
          "model_name": "LayoutModel",
          "model_module_version": "1.2.0",
          "state": {
            "_model_module": "@jupyter-widgets/base",
            "_model_module_version": "1.2.0",
            "_model_name": "LayoutModel",
            "_view_count": null,
            "_view_module": "@jupyter-widgets/base",
            "_view_module_version": "1.2.0",
            "_view_name": "LayoutView",
            "align_content": null,
            "align_items": null,
            "align_self": null,
            "border": null,
            "bottom": null,
            "display": null,
            "flex": null,
            "flex_flow": null,
            "grid_area": null,
            "grid_auto_columns": null,
            "grid_auto_flow": null,
            "grid_auto_rows": null,
            "grid_column": null,
            "grid_gap": null,
            "grid_row": null,
            "grid_template_areas": null,
            "grid_template_columns": null,
            "grid_template_rows": null,
            "height": null,
            "justify_content": null,
            "justify_items": null,
            "left": null,
            "margin": null,
            "max_height": null,
            "max_width": null,
            "min_height": null,
            "min_width": null,
            "object_fit": null,
            "object_position": null,
            "order": null,
            "overflow": null,
            "overflow_x": null,
            "overflow_y": null,
            "padding": null,
            "right": null,
            "top": null,
            "visibility": null,
            "width": null
          }
        },
        "7065f5ec517248f181d4ca428052926c": {
          "model_module": "@jupyter-widgets/base",
          "model_name": "LayoutModel",
          "model_module_version": "1.2.0",
          "state": {
            "_model_module": "@jupyter-widgets/base",
            "_model_module_version": "1.2.0",
            "_model_name": "LayoutModel",
            "_view_count": null,
            "_view_module": "@jupyter-widgets/base",
            "_view_module_version": "1.2.0",
            "_view_name": "LayoutView",
            "align_content": null,
            "align_items": null,
            "align_self": null,
            "border": null,
            "bottom": null,
            "display": null,
            "flex": null,
            "flex_flow": null,
            "grid_area": null,
            "grid_auto_columns": null,
            "grid_auto_flow": null,
            "grid_auto_rows": null,
            "grid_column": null,
            "grid_gap": null,
            "grid_row": null,
            "grid_template_areas": null,
            "grid_template_columns": null,
            "grid_template_rows": null,
            "height": null,
            "justify_content": null,
            "justify_items": null,
            "left": null,
            "margin": null,
            "max_height": null,
            "max_width": null,
            "min_height": null,
            "min_width": null,
            "object_fit": null,
            "object_position": null,
            "order": null,
            "overflow": null,
            "overflow_x": null,
            "overflow_y": null,
            "padding": null,
            "right": null,
            "top": null,
            "visibility": null,
            "width": null
          }
        },
        "92f002f3ca084da183b834f64bd42c50": {
          "model_module": "@jupyter-widgets/controls",
          "model_name": "DescriptionStyleModel",
          "model_module_version": "1.5.0",
          "state": {
            "_model_module": "@jupyter-widgets/controls",
            "_model_module_version": "1.5.0",
            "_model_name": "DescriptionStyleModel",
            "_view_count": null,
            "_view_module": "@jupyter-widgets/base",
            "_view_module_version": "1.2.0",
            "_view_name": "StyleView",
            "description_width": ""
          }
        },
        "91b60fae9f614373b08cf168acf56ed7": {
          "model_module": "@jupyter-widgets/base",
          "model_name": "LayoutModel",
          "model_module_version": "1.2.0",
          "state": {
            "_model_module": "@jupyter-widgets/base",
            "_model_module_version": "1.2.0",
            "_model_name": "LayoutModel",
            "_view_count": null,
            "_view_module": "@jupyter-widgets/base",
            "_view_module_version": "1.2.0",
            "_view_name": "LayoutView",
            "align_content": null,
            "align_items": null,
            "align_self": null,
            "border": null,
            "bottom": null,
            "display": null,
            "flex": null,
            "flex_flow": null,
            "grid_area": null,
            "grid_auto_columns": null,
            "grid_auto_flow": null,
            "grid_auto_rows": null,
            "grid_column": null,
            "grid_gap": null,
            "grid_row": null,
            "grid_template_areas": null,
            "grid_template_columns": null,
            "grid_template_rows": null,
            "height": null,
            "justify_content": null,
            "justify_items": null,
            "left": null,
            "margin": null,
            "max_height": null,
            "max_width": null,
            "min_height": null,
            "min_width": null,
            "object_fit": null,
            "object_position": null,
            "order": null,
            "overflow": null,
            "overflow_x": null,
            "overflow_y": null,
            "padding": null,
            "right": null,
            "top": null,
            "visibility": null,
            "width": null
          }
        },
        "4245befc78494cc7b6efe2da80185657": {
          "model_module": "@jupyter-widgets/controls",
          "model_name": "ProgressStyleModel",
          "model_module_version": "1.5.0",
          "state": {
            "_model_module": "@jupyter-widgets/controls",
            "_model_module_version": "1.5.0",
            "_model_name": "ProgressStyleModel",
            "_view_count": null,
            "_view_module": "@jupyter-widgets/base",
            "_view_module_version": "1.2.0",
            "_view_name": "StyleView",
            "bar_color": null,
            "description_width": ""
          }
        },
        "824f5b388cfa4ceb903950c7bbcf7c9a": {
          "model_module": "@jupyter-widgets/base",
          "model_name": "LayoutModel",
          "model_module_version": "1.2.0",
          "state": {
            "_model_module": "@jupyter-widgets/base",
            "_model_module_version": "1.2.0",
            "_model_name": "LayoutModel",
            "_view_count": null,
            "_view_module": "@jupyter-widgets/base",
            "_view_module_version": "1.2.0",
            "_view_name": "LayoutView",
            "align_content": null,
            "align_items": null,
            "align_self": null,
            "border": null,
            "bottom": null,
            "display": null,
            "flex": null,
            "flex_flow": null,
            "grid_area": null,
            "grid_auto_columns": null,
            "grid_auto_flow": null,
            "grid_auto_rows": null,
            "grid_column": null,
            "grid_gap": null,
            "grid_row": null,
            "grid_template_areas": null,
            "grid_template_columns": null,
            "grid_template_rows": null,
            "height": null,
            "justify_content": null,
            "justify_items": null,
            "left": null,
            "margin": null,
            "max_height": null,
            "max_width": null,
            "min_height": null,
            "min_width": null,
            "object_fit": null,
            "object_position": null,
            "order": null,
            "overflow": null,
            "overflow_x": null,
            "overflow_y": null,
            "padding": null,
            "right": null,
            "top": null,
            "visibility": null,
            "width": null
          }
        },
        "24280aef0bc34537960585198c23bab0": {
          "model_module": "@jupyter-widgets/controls",
          "model_name": "DescriptionStyleModel",
          "model_module_version": "1.5.0",
          "state": {
            "_model_module": "@jupyter-widgets/controls",
            "_model_module_version": "1.5.0",
            "_model_name": "DescriptionStyleModel",
            "_view_count": null,
            "_view_module": "@jupyter-widgets/base",
            "_view_module_version": "1.2.0",
            "_view_name": "StyleView",
            "description_width": ""
          }
        },
        "1123fac776cb4ae691e1f15e1eb18885": {
          "model_module": "@jupyter-widgets/controls",
          "model_name": "HBoxModel",
          "model_module_version": "1.5.0",
          "state": {
            "_dom_classes": [],
            "_model_module": "@jupyter-widgets/controls",
            "_model_module_version": "1.5.0",
            "_model_name": "HBoxModel",
            "_view_count": null,
            "_view_module": "@jupyter-widgets/controls",
            "_view_module_version": "1.5.0",
            "_view_name": "HBoxView",
            "box_style": "",
            "children": [
              "IPY_MODEL_f761c1d538ae49a180fca556da6fc05e",
              "IPY_MODEL_17731fd7ed514849aab6ac72e0afba8c",
              "IPY_MODEL_c852698b50074007bc1d2ef6ea4dcfba"
            ],
            "layout": "IPY_MODEL_3791933df395446cbcabeff47871ea0f"
          }
        },
        "f761c1d538ae49a180fca556da6fc05e": {
          "model_module": "@jupyter-widgets/controls",
          "model_name": "HTMLModel",
          "model_module_version": "1.5.0",
          "state": {
            "_dom_classes": [],
            "_model_module": "@jupyter-widgets/controls",
            "_model_module_version": "1.5.0",
            "_model_name": "HTMLModel",
            "_view_count": null,
            "_view_module": "@jupyter-widgets/controls",
            "_view_module_version": "1.5.0",
            "_view_name": "HTMLView",
            "description": "",
            "description_tooltip": null,
            "layout": "IPY_MODEL_ddc4c3e5d64b4df5b30f9bb7d0ec2dec",
            "placeholder": "​",
            "style": "IPY_MODEL_769eb04cdd4a44dc8b9575c8a9dff3f6",
            "value": "Downloading: 100%"
          }
        },
        "17731fd7ed514849aab6ac72e0afba8c": {
          "model_module": "@jupyter-widgets/controls",
          "model_name": "FloatProgressModel",
          "model_module_version": "1.5.0",
          "state": {
            "_dom_classes": [],
            "_model_module": "@jupyter-widgets/controls",
            "_model_module_version": "1.5.0",
            "_model_name": "FloatProgressModel",
            "_view_count": null,
            "_view_module": "@jupyter-widgets/controls",
            "_view_module_version": "1.5.0",
            "_view_name": "ProgressView",
            "bar_style": "success",
            "description": "",
            "description_tooltip": null,
            "layout": "IPY_MODEL_c4e7f0a7bcd5439b86fda3c24b993646",
            "max": 371427,
            "min": 0,
            "orientation": "horizontal",
            "style": "IPY_MODEL_69aba5a831d1435d8e27698c08677eee",
            "value": 371427
          }
        },
        "c852698b50074007bc1d2ef6ea4dcfba": {
          "model_module": "@jupyter-widgets/controls",
          "model_name": "HTMLModel",
          "model_module_version": "1.5.0",
          "state": {
            "_dom_classes": [],
            "_model_module": "@jupyter-widgets/controls",
            "_model_module_version": "1.5.0",
            "_model_name": "HTMLModel",
            "_view_count": null,
            "_view_module": "@jupyter-widgets/controls",
            "_view_module_version": "1.5.0",
            "_view_name": "HTMLView",
            "description": "",
            "description_tooltip": null,
            "layout": "IPY_MODEL_e94262d0d4bc4f92ad711827132cc1c1",
            "placeholder": "​",
            "style": "IPY_MODEL_cca9ccbe6f1f4635800feefd3de3df82",
            "value": " 363k/363k [00:01&lt;00:00, 488kB/s]"
          }
        },
        "3791933df395446cbcabeff47871ea0f": {
          "model_module": "@jupyter-widgets/base",
          "model_name": "LayoutModel",
          "model_module_version": "1.2.0",
          "state": {
            "_model_module": "@jupyter-widgets/base",
            "_model_module_version": "1.2.0",
            "_model_name": "LayoutModel",
            "_view_count": null,
            "_view_module": "@jupyter-widgets/base",
            "_view_module_version": "1.2.0",
            "_view_name": "LayoutView",
            "align_content": null,
            "align_items": null,
            "align_self": null,
            "border": null,
            "bottom": null,
            "display": null,
            "flex": null,
            "flex_flow": null,
            "grid_area": null,
            "grid_auto_columns": null,
            "grid_auto_flow": null,
            "grid_auto_rows": null,
            "grid_column": null,
            "grid_gap": null,
            "grid_row": null,
            "grid_template_areas": null,
            "grid_template_columns": null,
            "grid_template_rows": null,
            "height": null,
            "justify_content": null,
            "justify_items": null,
            "left": null,
            "margin": null,
            "max_height": null,
            "max_width": null,
            "min_height": null,
            "min_width": null,
            "object_fit": null,
            "object_position": null,
            "order": null,
            "overflow": null,
            "overflow_x": null,
            "overflow_y": null,
            "padding": null,
            "right": null,
            "top": null,
            "visibility": null,
            "width": null
          }
        },
        "ddc4c3e5d64b4df5b30f9bb7d0ec2dec": {
          "model_module": "@jupyter-widgets/base",
          "model_name": "LayoutModel",
          "model_module_version": "1.2.0",
          "state": {
            "_model_module": "@jupyter-widgets/base",
            "_model_module_version": "1.2.0",
            "_model_name": "LayoutModel",
            "_view_count": null,
            "_view_module": "@jupyter-widgets/base",
            "_view_module_version": "1.2.0",
            "_view_name": "LayoutView",
            "align_content": null,
            "align_items": null,
            "align_self": null,
            "border": null,
            "bottom": null,
            "display": null,
            "flex": null,
            "flex_flow": null,
            "grid_area": null,
            "grid_auto_columns": null,
            "grid_auto_flow": null,
            "grid_auto_rows": null,
            "grid_column": null,
            "grid_gap": null,
            "grid_row": null,
            "grid_template_areas": null,
            "grid_template_columns": null,
            "grid_template_rows": null,
            "height": null,
            "justify_content": null,
            "justify_items": null,
            "left": null,
            "margin": null,
            "max_height": null,
            "max_width": null,
            "min_height": null,
            "min_width": null,
            "object_fit": null,
            "object_position": null,
            "order": null,
            "overflow": null,
            "overflow_x": null,
            "overflow_y": null,
            "padding": null,
            "right": null,
            "top": null,
            "visibility": null,
            "width": null
          }
        },
        "769eb04cdd4a44dc8b9575c8a9dff3f6": {
          "model_module": "@jupyter-widgets/controls",
          "model_name": "DescriptionStyleModel",
          "model_module_version": "1.5.0",
          "state": {
            "_model_module": "@jupyter-widgets/controls",
            "_model_module_version": "1.5.0",
            "_model_name": "DescriptionStyleModel",
            "_view_count": null,
            "_view_module": "@jupyter-widgets/base",
            "_view_module_version": "1.2.0",
            "_view_name": "StyleView",
            "description_width": ""
          }
        },
        "c4e7f0a7bcd5439b86fda3c24b993646": {
          "model_module": "@jupyter-widgets/base",
          "model_name": "LayoutModel",
          "model_module_version": "1.2.0",
          "state": {
            "_model_module": "@jupyter-widgets/base",
            "_model_module_version": "1.2.0",
            "_model_name": "LayoutModel",
            "_view_count": null,
            "_view_module": "@jupyter-widgets/base",
            "_view_module_version": "1.2.0",
            "_view_name": "LayoutView",
            "align_content": null,
            "align_items": null,
            "align_self": null,
            "border": null,
            "bottom": null,
            "display": null,
            "flex": null,
            "flex_flow": null,
            "grid_area": null,
            "grid_auto_columns": null,
            "grid_auto_flow": null,
            "grid_auto_rows": null,
            "grid_column": null,
            "grid_gap": null,
            "grid_row": null,
            "grid_template_areas": null,
            "grid_template_columns": null,
            "grid_template_rows": null,
            "height": null,
            "justify_content": null,
            "justify_items": null,
            "left": null,
            "margin": null,
            "max_height": null,
            "max_width": null,
            "min_height": null,
            "min_width": null,
            "object_fit": null,
            "object_position": null,
            "order": null,
            "overflow": null,
            "overflow_x": null,
            "overflow_y": null,
            "padding": null,
            "right": null,
            "top": null,
            "visibility": null,
            "width": null
          }
        },
        "69aba5a831d1435d8e27698c08677eee": {
          "model_module": "@jupyter-widgets/controls",
          "model_name": "ProgressStyleModel",
          "model_module_version": "1.5.0",
          "state": {
            "_model_module": "@jupyter-widgets/controls",
            "_model_module_version": "1.5.0",
            "_model_name": "ProgressStyleModel",
            "_view_count": null,
            "_view_module": "@jupyter-widgets/base",
            "_view_module_version": "1.2.0",
            "_view_name": "StyleView",
            "bar_color": null,
            "description_width": ""
          }
        },
        "e94262d0d4bc4f92ad711827132cc1c1": {
          "model_module": "@jupyter-widgets/base",
          "model_name": "LayoutModel",
          "model_module_version": "1.2.0",
          "state": {
            "_model_module": "@jupyter-widgets/base",
            "_model_module_version": "1.2.0",
            "_model_name": "LayoutModel",
            "_view_count": null,
            "_view_module": "@jupyter-widgets/base",
            "_view_module_version": "1.2.0",
            "_view_name": "LayoutView",
            "align_content": null,
            "align_items": null,
            "align_self": null,
            "border": null,
            "bottom": null,
            "display": null,
            "flex": null,
            "flex_flow": null,
            "grid_area": null,
            "grid_auto_columns": null,
            "grid_auto_flow": null,
            "grid_auto_rows": null,
            "grid_column": null,
            "grid_gap": null,
            "grid_row": null,
            "grid_template_areas": null,
            "grid_template_columns": null,
            "grid_template_rows": null,
            "height": null,
            "justify_content": null,
            "justify_items": null,
            "left": null,
            "margin": null,
            "max_height": null,
            "max_width": null,
            "min_height": null,
            "min_width": null,
            "object_fit": null,
            "object_position": null,
            "order": null,
            "overflow": null,
            "overflow_x": null,
            "overflow_y": null,
            "padding": null,
            "right": null,
            "top": null,
            "visibility": null,
            "width": null
          }
        },
        "cca9ccbe6f1f4635800feefd3de3df82": {
          "model_module": "@jupyter-widgets/controls",
          "model_name": "DescriptionStyleModel",
          "model_module_version": "1.5.0",
          "state": {
            "_model_module": "@jupyter-widgets/controls",
            "_model_module_version": "1.5.0",
            "_model_name": "DescriptionStyleModel",
            "_view_count": null,
            "_view_module": "@jupyter-widgets/base",
            "_view_module_version": "1.2.0",
            "_view_name": "StyleView",
            "description_width": ""
          }
        },
        "86f3395aa40d49eabfd7dd0ae975f39e": {
          "model_module": "@jupyter-widgets/controls",
          "model_name": "HBoxModel",
          "model_module_version": "1.5.0",
          "state": {
            "_dom_classes": [],
            "_model_module": "@jupyter-widgets/controls",
            "_model_module_version": "1.5.0",
            "_model_name": "HBoxModel",
            "_view_count": null,
            "_view_module": "@jupyter-widgets/controls",
            "_view_module_version": "1.5.0",
            "_view_name": "HBoxView",
            "box_style": "",
            "children": [
              "IPY_MODEL_bfa2dfdf1a534ddd96d06bd3d83be2f1",
              "IPY_MODEL_42ba2250e7fc4ebeb717dc5513b1c5af",
              "IPY_MODEL_1e85f5678ab447459efd7b33359eaee5"
            ],
            "layout": "IPY_MODEL_13ecbe04e2844f0582416b8a90f29c65"
          }
        },
        "bfa2dfdf1a534ddd96d06bd3d83be2f1": {
          "model_module": "@jupyter-widgets/controls",
          "model_name": "HTMLModel",
          "model_module_version": "1.5.0",
          "state": {
            "_dom_classes": [],
            "_model_module": "@jupyter-widgets/controls",
            "_model_module_version": "1.5.0",
            "_model_name": "HTMLModel",
            "_view_count": null,
            "_view_module": "@jupyter-widgets/controls",
            "_view_module_version": "1.5.0",
            "_view_name": "HTMLView",
            "description": "",
            "description_tooltip": null,
            "layout": "IPY_MODEL_fa50c1bd33104dc9b0b903842bf0cd83",
            "placeholder": "​",
            "style": "IPY_MODEL_a3d11432f71842b8a9e716a1cd3b3852",
            "value": "Downloading: 100%"
          }
        },
        "42ba2250e7fc4ebeb717dc5513b1c5af": {
          "model_module": "@jupyter-widgets/controls",
          "model_name": "FloatProgressModel",
          "model_module_version": "1.5.0",
          "state": {
            "_dom_classes": [],
            "_model_module": "@jupyter-widgets/controls",
            "_model_module_version": "1.5.0",
            "_model_name": "FloatProgressModel",
            "_view_count": null,
            "_view_module": "@jupyter-widgets/controls",
            "_view_module_version": "1.5.0",
            "_view_name": "ProgressView",
            "bar_style": "success",
            "description": "",
            "description_tooltip": null,
            "layout": "IPY_MODEL_baf3a77e8cca43c88fd0f693792564ea",
            "max": 244,
            "min": 0,
            "orientation": "horizontal",
            "style": "IPY_MODEL_dc2bbd61770b4e909701b05eb735c935",
            "value": 244
          }
        },
        "1e85f5678ab447459efd7b33359eaee5": {
          "model_module": "@jupyter-widgets/controls",
          "model_name": "HTMLModel",
          "model_module_version": "1.5.0",
          "state": {
            "_dom_classes": [],
            "_model_module": "@jupyter-widgets/controls",
            "_model_module_version": "1.5.0",
            "_model_name": "HTMLModel",
            "_view_count": null,
            "_view_module": "@jupyter-widgets/controls",
            "_view_module_version": "1.5.0",
            "_view_name": "HTMLView",
            "description": "",
            "description_tooltip": null,
            "layout": "IPY_MODEL_ace5657e03594cff8e219180451edb3a",
            "placeholder": "​",
            "style": "IPY_MODEL_4fb875f1c6064c41983257d5ea5d9051",
            "value": " 244/244 [00:00&lt;00:00, 4.95kB/s]"
          }
        },
        "13ecbe04e2844f0582416b8a90f29c65": {
          "model_module": "@jupyter-widgets/base",
          "model_name": "LayoutModel",
          "model_module_version": "1.2.0",
          "state": {
            "_model_module": "@jupyter-widgets/base",
            "_model_module_version": "1.2.0",
            "_model_name": "LayoutModel",
            "_view_count": null,
            "_view_module": "@jupyter-widgets/base",
            "_view_module_version": "1.2.0",
            "_view_name": "LayoutView",
            "align_content": null,
            "align_items": null,
            "align_self": null,
            "border": null,
            "bottom": null,
            "display": null,
            "flex": null,
            "flex_flow": null,
            "grid_area": null,
            "grid_auto_columns": null,
            "grid_auto_flow": null,
            "grid_auto_rows": null,
            "grid_column": null,
            "grid_gap": null,
            "grid_row": null,
            "grid_template_areas": null,
            "grid_template_columns": null,
            "grid_template_rows": null,
            "height": null,
            "justify_content": null,
            "justify_items": null,
            "left": null,
            "margin": null,
            "max_height": null,
            "max_width": null,
            "min_height": null,
            "min_width": null,
            "object_fit": null,
            "object_position": null,
            "order": null,
            "overflow": null,
            "overflow_x": null,
            "overflow_y": null,
            "padding": null,
            "right": null,
            "top": null,
            "visibility": null,
            "width": null
          }
        },
        "fa50c1bd33104dc9b0b903842bf0cd83": {
          "model_module": "@jupyter-widgets/base",
          "model_name": "LayoutModel",
          "model_module_version": "1.2.0",
          "state": {
            "_model_module": "@jupyter-widgets/base",
            "_model_module_version": "1.2.0",
            "_model_name": "LayoutModel",
            "_view_count": null,
            "_view_module": "@jupyter-widgets/base",
            "_view_module_version": "1.2.0",
            "_view_name": "LayoutView",
            "align_content": null,
            "align_items": null,
            "align_self": null,
            "border": null,
            "bottom": null,
            "display": null,
            "flex": null,
            "flex_flow": null,
            "grid_area": null,
            "grid_auto_columns": null,
            "grid_auto_flow": null,
            "grid_auto_rows": null,
            "grid_column": null,
            "grid_gap": null,
            "grid_row": null,
            "grid_template_areas": null,
            "grid_template_columns": null,
            "grid_template_rows": null,
            "height": null,
            "justify_content": null,
            "justify_items": null,
            "left": null,
            "margin": null,
            "max_height": null,
            "max_width": null,
            "min_height": null,
            "min_width": null,
            "object_fit": null,
            "object_position": null,
            "order": null,
            "overflow": null,
            "overflow_x": null,
            "overflow_y": null,
            "padding": null,
            "right": null,
            "top": null,
            "visibility": null,
            "width": null
          }
        },
        "a3d11432f71842b8a9e716a1cd3b3852": {
          "model_module": "@jupyter-widgets/controls",
          "model_name": "DescriptionStyleModel",
          "model_module_version": "1.5.0",
          "state": {
            "_model_module": "@jupyter-widgets/controls",
            "_model_module_version": "1.5.0",
            "_model_name": "DescriptionStyleModel",
            "_view_count": null,
            "_view_module": "@jupyter-widgets/base",
            "_view_module_version": "1.2.0",
            "_view_name": "StyleView",
            "description_width": ""
          }
        },
        "baf3a77e8cca43c88fd0f693792564ea": {
          "model_module": "@jupyter-widgets/base",
          "model_name": "LayoutModel",
          "model_module_version": "1.2.0",
          "state": {
            "_model_module": "@jupyter-widgets/base",
            "_model_module_version": "1.2.0",
            "_model_name": "LayoutModel",
            "_view_count": null,
            "_view_module": "@jupyter-widgets/base",
            "_view_module_version": "1.2.0",
            "_view_name": "LayoutView",
            "align_content": null,
            "align_items": null,
            "align_self": null,
            "border": null,
            "bottom": null,
            "display": null,
            "flex": null,
            "flex_flow": null,
            "grid_area": null,
            "grid_auto_columns": null,
            "grid_auto_flow": null,
            "grid_auto_rows": null,
            "grid_column": null,
            "grid_gap": null,
            "grid_row": null,
            "grid_template_areas": null,
            "grid_template_columns": null,
            "grid_template_rows": null,
            "height": null,
            "justify_content": null,
            "justify_items": null,
            "left": null,
            "margin": null,
            "max_height": null,
            "max_width": null,
            "min_height": null,
            "min_width": null,
            "object_fit": null,
            "object_position": null,
            "order": null,
            "overflow": null,
            "overflow_x": null,
            "overflow_y": null,
            "padding": null,
            "right": null,
            "top": null,
            "visibility": null,
            "width": null
          }
        },
        "dc2bbd61770b4e909701b05eb735c935": {
          "model_module": "@jupyter-widgets/controls",
          "model_name": "ProgressStyleModel",
          "model_module_version": "1.5.0",
          "state": {
            "_model_module": "@jupyter-widgets/controls",
            "_model_module_version": "1.5.0",
            "_model_name": "ProgressStyleModel",
            "_view_count": null,
            "_view_module": "@jupyter-widgets/base",
            "_view_module_version": "1.2.0",
            "_view_name": "StyleView",
            "bar_color": null,
            "description_width": ""
          }
        },
        "ace5657e03594cff8e219180451edb3a": {
          "model_module": "@jupyter-widgets/base",
          "model_name": "LayoutModel",
          "model_module_version": "1.2.0",
          "state": {
            "_model_module": "@jupyter-widgets/base",
            "_model_module_version": "1.2.0",
            "_model_name": "LayoutModel",
            "_view_count": null,
            "_view_module": "@jupyter-widgets/base",
            "_view_module_version": "1.2.0",
            "_view_name": "LayoutView",
            "align_content": null,
            "align_items": null,
            "align_self": null,
            "border": null,
            "bottom": null,
            "display": null,
            "flex": null,
            "flex_flow": null,
            "grid_area": null,
            "grid_auto_columns": null,
            "grid_auto_flow": null,
            "grid_auto_rows": null,
            "grid_column": null,
            "grid_gap": null,
            "grid_row": null,
            "grid_template_areas": null,
            "grid_template_columns": null,
            "grid_template_rows": null,
            "height": null,
            "justify_content": null,
            "justify_items": null,
            "left": null,
            "margin": null,
            "max_height": null,
            "max_width": null,
            "min_height": null,
            "min_width": null,
            "object_fit": null,
            "object_position": null,
            "order": null,
            "overflow": null,
            "overflow_x": null,
            "overflow_y": null,
            "padding": null,
            "right": null,
            "top": null,
            "visibility": null,
            "width": null
          }
        },
        "4fb875f1c6064c41983257d5ea5d9051": {
          "model_module": "@jupyter-widgets/controls",
          "model_name": "DescriptionStyleModel",
          "model_module_version": "1.5.0",
          "state": {
            "_model_module": "@jupyter-widgets/controls",
            "_model_module_version": "1.5.0",
            "_model_name": "DescriptionStyleModel",
            "_view_count": null,
            "_view_module": "@jupyter-widgets/base",
            "_view_module_version": "1.2.0",
            "_view_name": "StyleView",
            "description_width": ""
          }
        },
        "47b769d3fbf6452a9d3a66e84c192a62": {
          "model_module": "@jupyter-widgets/controls",
          "model_name": "HBoxModel",
          "model_module_version": "1.5.0",
          "state": {
            "_dom_classes": [],
            "_model_module": "@jupyter-widgets/controls",
            "_model_module_version": "1.5.0",
            "_model_name": "HBoxModel",
            "_view_count": null,
            "_view_module": "@jupyter-widgets/controls",
            "_view_module_version": "1.5.0",
            "_view_name": "HBoxView",
            "box_style": "",
            "children": [
              "IPY_MODEL_82e183d674304fb998397fa1caf40ecd",
              "IPY_MODEL_01ba90ef5dbb4812ac216af1817a2adb",
              "IPY_MODEL_012e5749cdd74821b3c28839d54d6807"
            ],
            "layout": "IPY_MODEL_8f822315fcdb4b6cb5eaace6241078b0"
          }
        },
        "82e183d674304fb998397fa1caf40ecd": {
          "model_module": "@jupyter-widgets/controls",
          "model_name": "HTMLModel",
          "model_module_version": "1.5.0",
          "state": {
            "_dom_classes": [],
            "_model_module": "@jupyter-widgets/controls",
            "_model_module_version": "1.5.0",
            "_model_name": "HTMLModel",
            "_view_count": null,
            "_view_module": "@jupyter-widgets/controls",
            "_view_module_version": "1.5.0",
            "_view_name": "HTMLView",
            "description": "",
            "description_tooltip": null,
            "layout": "IPY_MODEL_2d2155c98d6344bb96a60a1353a76159",
            "placeholder": "​",
            "style": "IPY_MODEL_56ed81509361410b898c4ee1e549c14b",
            "value": "Downloading: 100%"
          }
        },
        "01ba90ef5dbb4812ac216af1817a2adb": {
          "model_module": "@jupyter-widgets/controls",
          "model_name": "FloatProgressModel",
          "model_module_version": "1.5.0",
          "state": {
            "_dom_classes": [],
            "_model_module": "@jupyter-widgets/controls",
            "_model_module_version": "1.5.0",
            "_model_name": "FloatProgressModel",
            "_view_count": null,
            "_view_module": "@jupyter-widgets/controls",
            "_view_module_version": "1.5.0",
            "_view_name": "ProgressView",
            "bar_style": "success",
            "description": "",
            "description_tooltip": null,
            "layout": "IPY_MODEL_f0d2bb44b04c44f98464a1f59755d482",
            "max": 432,
            "min": 0,
            "orientation": "horizontal",
            "style": "IPY_MODEL_73ea078193ae4c0f87f61f44b689caf2",
            "value": 432
          }
        },
        "012e5749cdd74821b3c28839d54d6807": {
          "model_module": "@jupyter-widgets/controls",
          "model_name": "HTMLModel",
          "model_module_version": "1.5.0",
          "state": {
            "_dom_classes": [],
            "_model_module": "@jupyter-widgets/controls",
            "_model_module_version": "1.5.0",
            "_model_name": "HTMLModel",
            "_view_count": null,
            "_view_module": "@jupyter-widgets/controls",
            "_view_module_version": "1.5.0",
            "_view_name": "HTMLView",
            "description": "",
            "description_tooltip": null,
            "layout": "IPY_MODEL_6e5630ecfd9c46bc9707d1c9eb836dc7",
            "placeholder": "​",
            "style": "IPY_MODEL_93e7129c10e949708876ad549a8c2c77",
            "value": " 432/432 [00:00&lt;00:00, 13.5kB/s]"
          }
        },
        "8f822315fcdb4b6cb5eaace6241078b0": {
          "model_module": "@jupyter-widgets/base",
          "model_name": "LayoutModel",
          "model_module_version": "1.2.0",
          "state": {
            "_model_module": "@jupyter-widgets/base",
            "_model_module_version": "1.2.0",
            "_model_name": "LayoutModel",
            "_view_count": null,
            "_view_module": "@jupyter-widgets/base",
            "_view_module_version": "1.2.0",
            "_view_name": "LayoutView",
            "align_content": null,
            "align_items": null,
            "align_self": null,
            "border": null,
            "bottom": null,
            "display": null,
            "flex": null,
            "flex_flow": null,
            "grid_area": null,
            "grid_auto_columns": null,
            "grid_auto_flow": null,
            "grid_auto_rows": null,
            "grid_column": null,
            "grid_gap": null,
            "grid_row": null,
            "grid_template_areas": null,
            "grid_template_columns": null,
            "grid_template_rows": null,
            "height": null,
            "justify_content": null,
            "justify_items": null,
            "left": null,
            "margin": null,
            "max_height": null,
            "max_width": null,
            "min_height": null,
            "min_width": null,
            "object_fit": null,
            "object_position": null,
            "order": null,
            "overflow": null,
            "overflow_x": null,
            "overflow_y": null,
            "padding": null,
            "right": null,
            "top": null,
            "visibility": null,
            "width": null
          }
        },
        "2d2155c98d6344bb96a60a1353a76159": {
          "model_module": "@jupyter-widgets/base",
          "model_name": "LayoutModel",
          "model_module_version": "1.2.0",
          "state": {
            "_model_module": "@jupyter-widgets/base",
            "_model_module_version": "1.2.0",
            "_model_name": "LayoutModel",
            "_view_count": null,
            "_view_module": "@jupyter-widgets/base",
            "_view_module_version": "1.2.0",
            "_view_name": "LayoutView",
            "align_content": null,
            "align_items": null,
            "align_self": null,
            "border": null,
            "bottom": null,
            "display": null,
            "flex": null,
            "flex_flow": null,
            "grid_area": null,
            "grid_auto_columns": null,
            "grid_auto_flow": null,
            "grid_auto_rows": null,
            "grid_column": null,
            "grid_gap": null,
            "grid_row": null,
            "grid_template_areas": null,
            "grid_template_columns": null,
            "grid_template_rows": null,
            "height": null,
            "justify_content": null,
            "justify_items": null,
            "left": null,
            "margin": null,
            "max_height": null,
            "max_width": null,
            "min_height": null,
            "min_width": null,
            "object_fit": null,
            "object_position": null,
            "order": null,
            "overflow": null,
            "overflow_x": null,
            "overflow_y": null,
            "padding": null,
            "right": null,
            "top": null,
            "visibility": null,
            "width": null
          }
        },
        "56ed81509361410b898c4ee1e549c14b": {
          "model_module": "@jupyter-widgets/controls",
          "model_name": "DescriptionStyleModel",
          "model_module_version": "1.5.0",
          "state": {
            "_model_module": "@jupyter-widgets/controls",
            "_model_module_version": "1.5.0",
            "_model_name": "DescriptionStyleModel",
            "_view_count": null,
            "_view_module": "@jupyter-widgets/base",
            "_view_module_version": "1.2.0",
            "_view_name": "StyleView",
            "description_width": ""
          }
        },
        "f0d2bb44b04c44f98464a1f59755d482": {
          "model_module": "@jupyter-widgets/base",
          "model_name": "LayoutModel",
          "model_module_version": "1.2.0",
          "state": {
            "_model_module": "@jupyter-widgets/base",
            "_model_module_version": "1.2.0",
            "_model_name": "LayoutModel",
            "_view_count": null,
            "_view_module": "@jupyter-widgets/base",
            "_view_module_version": "1.2.0",
            "_view_name": "LayoutView",
            "align_content": null,
            "align_items": null,
            "align_self": null,
            "border": null,
            "bottom": null,
            "display": null,
            "flex": null,
            "flex_flow": null,
            "grid_area": null,
            "grid_auto_columns": null,
            "grid_auto_flow": null,
            "grid_auto_rows": null,
            "grid_column": null,
            "grid_gap": null,
            "grid_row": null,
            "grid_template_areas": null,
            "grid_template_columns": null,
            "grid_template_rows": null,
            "height": null,
            "justify_content": null,
            "justify_items": null,
            "left": null,
            "margin": null,
            "max_height": null,
            "max_width": null,
            "min_height": null,
            "min_width": null,
            "object_fit": null,
            "object_position": null,
            "order": null,
            "overflow": null,
            "overflow_x": null,
            "overflow_y": null,
            "padding": null,
            "right": null,
            "top": null,
            "visibility": null,
            "width": null
          }
        },
        "73ea078193ae4c0f87f61f44b689caf2": {
          "model_module": "@jupyter-widgets/controls",
          "model_name": "ProgressStyleModel",
          "model_module_version": "1.5.0",
          "state": {
            "_model_module": "@jupyter-widgets/controls",
            "_model_module_version": "1.5.0",
            "_model_name": "ProgressStyleModel",
            "_view_count": null,
            "_view_module": "@jupyter-widgets/base",
            "_view_module_version": "1.2.0",
            "_view_name": "StyleView",
            "bar_color": null,
            "description_width": ""
          }
        },
        "6e5630ecfd9c46bc9707d1c9eb836dc7": {
          "model_module": "@jupyter-widgets/base",
          "model_name": "LayoutModel",
          "model_module_version": "1.2.0",
          "state": {
            "_model_module": "@jupyter-widgets/base",
            "_model_module_version": "1.2.0",
            "_model_name": "LayoutModel",
            "_view_count": null,
            "_view_module": "@jupyter-widgets/base",
            "_view_module_version": "1.2.0",
            "_view_name": "LayoutView",
            "align_content": null,
            "align_items": null,
            "align_self": null,
            "border": null,
            "bottom": null,
            "display": null,
            "flex": null,
            "flex_flow": null,
            "grid_area": null,
            "grid_auto_columns": null,
            "grid_auto_flow": null,
            "grid_auto_rows": null,
            "grid_column": null,
            "grid_gap": null,
            "grid_row": null,
            "grid_template_areas": null,
            "grid_template_columns": null,
            "grid_template_rows": null,
            "height": null,
            "justify_content": null,
            "justify_items": null,
            "left": null,
            "margin": null,
            "max_height": null,
            "max_width": null,
            "min_height": null,
            "min_width": null,
            "object_fit": null,
            "object_position": null,
            "order": null,
            "overflow": null,
            "overflow_x": null,
            "overflow_y": null,
            "padding": null,
            "right": null,
            "top": null,
            "visibility": null,
            "width": null
          }
        },
        "93e7129c10e949708876ad549a8c2c77": {
          "model_module": "@jupyter-widgets/controls",
          "model_name": "DescriptionStyleModel",
          "model_module_version": "1.5.0",
          "state": {
            "_model_module": "@jupyter-widgets/controls",
            "_model_module_version": "1.5.0",
            "_model_name": "DescriptionStyleModel",
            "_view_count": null,
            "_view_module": "@jupyter-widgets/base",
            "_view_module_version": "1.2.0",
            "_view_name": "StyleView",
            "description_width": ""
          }
        }
      }
    }
  },
  "cells": [
    {
      "cell_type": "markdown",
      "metadata": {
        "id": "view-in-github",
        "colab_type": "text"
      },
      "source": [
        "<a href=\"https://colab.research.google.com/github/unknown-jun/NLP_study/blob/main/NLP_Book/B10_BERT.ipynb\" target=\"_parent\"><img src=\"https://colab.research.google.com/assets/colab-badge.svg\" alt=\"Open In Colab\"/></a>"
      ]
    },
    {
      "cell_type": "markdown",
      "source": [
        "# BERT\n",
        "BERT(Bidirectional Encoder Representations from Transformers)는 기존의 단방향 자연어 처리 모델들의 단점을 보완한 양방향 자연어 처리 모델  \n",
        "검색 문장의 단어를 입력된 순서대로 하나씩 처리하는 것이 아닌, 트랜스포머를 이용하여 구현되었으며 방대한 양의 텍스트 데이터로 사전 훈련된 언어 모델\n",
        "\n",
        "![image.png](data:image/png;base64,iVBORw0KGgoAAAANSUhEUgAAAlgAAAE2CAYAAAC9cOxrAAAgAElEQVR4nOydd5wURd6Hn6runpnNS84554wBBEFFzIp6KuaMd4qnnufred4ZTj29YPbM2TMnTEiQICqiEgQElBwWlrRsmthd9f7RM7OzBBVYjwXr+XwGdmd7qqt7eqa+/YtCa60xGAwGg8FgMNQYcl9PwGAwGAwGg+FAwwgsg8FgMBgMhhrGCCyDwWAwGAyGGsYILIPBYDAYDIYaxt7XE9hXKKUQQqA1CKEBgRBiX0/LcMChURoEoLVGyhq4p1GgUAgpQAFCASCEtfdj/0JordEopBZQE+fAYDAYajm/UoGl/C98rZGyamEqLt5MUdE6/3cBYBIsDbuBhuSFg9YedevWp2XLZkhRJehrAiUUWvnXLwIs/Ou1oqyU1atW4rrKn8W+0jHK37dWikAgRMeOHZGOg1ASJUAkE5drTHAaDAZDLUT8Oss0aLRW+FYrSfHGzUye9CGR8EqaNMsjFHTQAtBqX0/UsD+RVDXaUyit2bYtQkV5NgMGHEGPHt3QWteIyNJKo5LXpmVZxGMR3h33Pt9v3oKsU5fcwkJkLbDGup4mXLYNp2QrPdu1YcRRI0AIPM8DQAhhBJbBYDhg+VVasBS+drIsSXl5mBeff5DuPXM4ZEhfNOB5IDDiyrDnCCGxhGbj+hKef+5hQqHr6dChDUqpvRcVEvB8cQXw5DPPsaWgDj1PGoVl2yjXpbaEV0rHJlxexrSPPgImMGLE0Ugpa+Y8GAwGQy3mVymwfEODf4f/yScTadHaZuChXQmH42nLFhLjITTsHgK05180QgAS6jQu5MRTejF96oe0bjUGJ1CzcVIrly9lPZKBw0fgRitxo1H8iMJ9SWrvGh0WBEJB+p94IjNee4V+ffpQr0HDWmFhMxgMhl+SX6XA0vjuiXA4TknJCo4+vhNxz0XrzPhbua9XKcN+iBK+QJcSPKWIhuN06NSURQu+ZfmK5XTq1KFG9pNyNS5YtJjmPfug3ATK0yBT9wZyH9mwNCnrmUIjhcKLxQjm5pLXtj1z533LEUceiZKS2huSbzAYDHvPr9JGLwGBIBaLkZdvkxUKgNJIqQGLX+lpMdQAUkqkFIBKmrFAKU3rNnXZuHE94Ad3K7UXLujkS5Xrsa0ySm5hXbxEAglILAQWEgH75FH12REKlPIllxdPUNCgAVr493RS4//BeOINBsMByq9SSaTWNolAa4mnD+xveqXU3i/qht1CKdKXVDKvMJ2tmno/9pikZVVIsGwHVUuvXZ3ysSfNwkqBZSUnrzV+/YraOXeDwWDYW36VAguSVgS/OFHymQP3VAgharRMgMEnJZRSj+oCtiqIT1X7KfnXvQjw1ilftiad6SqofbcIUkrfIJzOxq26/lTqXxPnaDAYDlB+lTFYvitQ+m6KNMniPQcQKVGV+X8q88ywd2SKqxSZoklKgVIZgkKBnby+9vY9SO1H4VuxpBboWhowmHIcApA0WgFJN6q5Fg0Gw4HLr1Jg7a2Q2pmrLZV6nvn7zx1nx22TmYyZAcO73HbnYwpENQFgijrWMKm3hx3f+xSZzwuRYSz9FSGpblkT2/1vMBgMByq/UoG1pyiU8l1uQviWCNfz0CppLbIElhB4nvbjYn7UZyOxbAHar7tVtXFq5U4JIl9s2baF5+1oNclESL/dj7R8S4H0/EzIUFaASDjGT+Xvp2J5ZLVl8cAUZTsea3VB+1NILdFSEwgGSMTj/pjGQmgwGAyGJAfm6rkL9iTYW6HwlE5W5/YFTCgrgPZg66ZKHCHJynYQUqBdTbjCBUBogWMHyMnKIicrlH5kZ4WwbAlCEwsrYlEPhF/hOxQKkZMbIDcni1AwAEols7AU4QoPlZy7ZUsCQYdAwMIJWASDll9gMhlZHa308FyNtASOZfP2G5+RiCUQFmjhW7M85fkVwZVKnheF9oT/0BqtRfJ4SW9T/Rz+eGLA9vFJ/j6Tr03FLHkeaL8queelznFyLunnPLztHumYp+QYKvP3jPdXbbe/9MNLilSlUWi0Eng61X5mx/2kf/eqXitsjVaK8e9/BUiEJf4nLfYy34uaHFMnj9c/bg+VbMXjaQ9tkiMMBoNht/lVWbBScUi74yoTSqCFQmnf1pGV7TDxg9m89dZnlGytoFmzQs46+0gOG9aD+bNX8NADb3HDzWfRsGEhP3y/ljWrNhMI2jjSIhaLoxF06tGEls2b8u+H38AJ2Fx59fEoT/HlzEXM/GwROTnZDDuyF916tUYC8YTHnbc8wRmjj6B7zxas37CFcEUMISwEmkDQJhAK0KRxHdwIPPLoaxx7Un969+3AtIkLWDBvJaNOG4ynPLyEIKESfqNgFCJTY0sQWmEJG5UsW6GVlaw24AsKLQRaKT/GWkvQCi2r11zKjPnKJF3Bm+3cRkogMs6xUsnEs9SgqWw8Kf3FXvn2JyklWvoFCVLjZmxe9X6zoxQUWpCdFSSWSOAqD6kkSEUy82GHeWcem0QitUN2boC53ywj4DgcdUwfwuEI+2MegRACpTUyFXquQMoqC6ySwkRLGQwGw27yqxFYKWFlWRae5/1sV44WGpRfvTErK8CMqd/x/LMTuODi4+jRqyWfz1jM7be9wMNNrgZg4cKVKO27itasKWbmF99TWlLB/G9XMnR4L4RUtO3QkNxgLuvWbCYQsgiFsvnn3a8ya+b3DB/em61by7n5/55h4MHdCAUt4q5myqRvOfW0IWRnhZgyaT6fjJ9NVnaQgOOwcMFqjjmxP4ce2oWidSXM/GwJI0/sS0VplJdfnsSYMSfgODbzZ63g0Uc/4Pe/P4lW7RqR8LzqJkytyM3J4cnHPqJz12a0b9eCZ5/5iCt/f3JSkAlIiyeAlBLa+flOZS2mXZopEST8GDEhfAuhxs+Ik1KhtfQXdwQS7YsuWX1M7Q9a5dBLCbmUutHad/plxJ0JNEJD8h+klHw07mt69WtD/Yb5uG5yPJlyG+4YayelJBBw2FhcwpOPfMwfbjyF084cyq1/eY4BAzuSkxfAUzUfaJV5LoUQe1fi4aeQEsuysaRAuS7K00iFiUc3GAyG3eTAEVgZIUMqWePRX4j9TCshBBUVFQQCAQKBQMYLM204O2YSpmJtlFY4jsXXXy+h38DOjDp5MJVuOeeeeyTTp8xjzpyl9OrRkWAoSNDJQgjNsCP7cdrJR/DOu5+xbPkGbv3bxcQqw3z65XxWLf+UonVb6dG7FauWFzP+vW/414OX069PO0Dy8itTuPvOVxhz5fHEIwmyQg5CSCojMU457RBGnXYIwawQJcUVjP3dQwwc0Jk5s5exfNkmKsJh8nNzmTRhDqXbwnTv1RblKubNW0Hb1k3p3L0NiXgMz/PdfEqBJQXBYJBgwGbNyk00bJSP19rj+8VrCVo2MugQjUQBXzBZlsBxHBIJhe9oE+m6R5blCxGlPF+DWTbRWAwFWAKCThDPc5GWRAuIxuJIJKGAjRICSws85SEti1gijlIQCjhoFEL4VjBLSuKJBJ7nC5+skINyFUIKpJDE4rFklp0kaFtVzb0lxF0Xxw7w6n+n0axlPZo0r4smgWMF0Wi/PhoQicdAgW1JAsEAylWEQgEQguVL11MZjdOjdyuyggGmfDKH35w1lNKyyp1aSPemfU2mqNqhQXIqfKwGEMIiFMqiomQL4fIyCus3IhgKEotHsFRV5iJy39WJNxgMhv2FA0ZgKa2S64xMxg0lpZL0s7ekEHzwwQesXLWayy69hDp16mAH7ORSmtxwZzFFKZ8VkPAUvXu1595/vU7vXu0ZeFAX3hg/ge8Wr+Ka60fhJlyi4QSvvzyNo47pTcs29YmoGNOnzuXzzxeycN4yGjWvyyfj51C2Lcya1Zvo078DJSXlRONx6jXKoywSxrIk7do1oX2Hppx5xggqy6N89OHXeJ6brDgvyc7JwibAQw+8SPderek/sDPdurWhskJz++3PEI8qPvtsIR06NiYUsvjhh03Mnb2cWDRO0bptrF6+juat61Gvfj5aQywWZ+aMJRx5TB+yggEs20IKSSg7xNqiMtatWU+/gzuitW8JdBOKzz9dQJ/+7cjKDuJp380mLUkgYDFr5hI+fv9rbEsyZHh3Bg3piadc0JL33/2CmV8soiA/h5NGDaJbz9ZsKy/nmy+XUadeNpMmfMua1RsYekRvjhzRm8pwlFkzV9K0WT0+eOdzioq2cNChXTj+5IHE4y4BJ8jUifOYOnUuUkhGHNefQYO6EYlFCdg2E8bP5quZSxACjj35IA45uAuffrqQoqJNzJyxiC7dWyG1xaSPZ/PZ9O8oLMzhiKN706dfByojUYKWw7i3P2fWzKW0aN6Aw4Z2J79ONkKDJS36DejEN7OWcfpZh1dde9vpD6mrHI+p2K7dcVVLKVm6dCnzv/2WI0eMIC83F2n5SQzV5e1uohRa+6JN2jYTn3+Kz95+h03FxXTq15fjLrmUdj16E4v67k+tMOLKYDAYfgYHzDelQKDwA5qFAEuCsHxLVrKvM0u+W8w/7ryTM047neeee57ly5b7kipVVXoXqGSMUSwSY/iRvbhszHF88N4XnHHa7Xzz9Q/cetvZdO/SDs9TeJ5iy5Zy4gmPuvl1mPLxHBYuXM51fziNv/3teZSruO2u83jo8as5aHBnwpEw7To1o027xrz6/HSiEZdNG8t4+cWprFuzmRv++BA3//Ux1qwqJmAHsGyJF9dM/nAel5x/D45jc8NNZ7Jm7Xpuu/VZ7rjrSZZ8twrXkxSt20zXrm1xtUvQkYRCAYIhG0fCs89MZMXyDX58mC0orwjz8P3jiEVdpFVlEhEIYpE499/7JkWrtxEMBsjJzWbKxHl89OE3BBzHt84ovw9fMODw9KMf8/D979Kte2s6dGzBk49/zDNPT8AWNvfd8zqfTJ7HoYO606x5A274w+N889UP5AZC/PlPT3PH7a/iBG3atGnO/f98m3de/4KA7fDH6x7jz9c/TU5+Nq3aNubZpybywbuzyMnJ4eUXpvLcsxPp068D3fu04eH73uXtN6eTl5PDs0+O5+03PqVDp+a079iCu29/hUce/JA6+dmEgkGy8wNYGu66/WXefWcm/Qd2oqBOLv/8+2tMnzKPvOxc7vvXW7z1+kz69m1LQd1sHn7wHcpLI1iWRGuP9h0asXjhamLR+C6LuQrLIhhy/J+3t0L91LWdHDMWjXDT//2J80afzaSJk0EpHNtJW9z2BAUgNNl5BXz90Uc8e8tfGHT88Vzx97+zeflqHr/h/6gs34a0bf8+Q7KnUs5gMBh+VRwwFizwrQkpd0ksEWflihUsWryYbVu2UFS0ninTppIVCjHnm2+YNWsWgw87nJNGDcSyW4CX2OW4UvvRPvGYR9m2rRw9sj9durTjj9c/yo1/Ho2wPD7/chHFG0rIK8zimutHEcySPP3Ex7z04sfcdscFDBncl1tveYozRt3O9TeexsknDwJP48ZdCnKzuekvZ3HPHa9w4dn/IBZL0LVbS15/+3Zycm1iYZeLLrobD49IOMH11zxBuDLKeRcezYknDqTSi9K2fVP+df8YIpWKv9/1MrFwBKVcmjWvRzTq0qhJA3r1aU15eZzmLRtgA9ICtEAJv0ylHbDSklsDCHDdOF27NWXQ4J589P5Mrr/xdGKxBJMmzeb8C0aSne0QjvllCoKOzZpVm3j7zRnc+/BV9O/dhgSKg4d05t03PmfyxLnM+mopz790A4X1cwgSoG7dQh68/00efGgsoSyH3119CkOGdMdG0Lx1Az54/wtGHjsA5WmuuOpERhzdB4mkS5dWfPjhl/Ts0ZnxH33O/Q9cR6uW9QGL3r268IffP0CLlk2Z8PEc/vPE1TRpVg+JpFPn5rz55nQuuuRoWrVrxLDDe7Ng/iqWLd/IY49fT6MGOYDNwIHduf++18nJKWTcuzN5873baNa8EBuHYCDE00+/j2VZxOIerVs1ISvf8S2MGWU2UifTEgI3HufzGVMoKtrg/035GZ0/S2ZpcAI2K1etIhqLMmP6dL744gvOOvNMGrZuQ7suPdlTP2HK4mbZDluL1+FGYwSysuk8cCDXP/0k61atRAtfXAmSFizrgLkvMxgMhl+M/UZgbR80LaRMu+6E9NPkAZYsXsT7733A998vIeAEqVu/Li1atmTw4MEIIVg4fz6BUIjzR4/mxJNPY/PmOXheKvZq5+noWoHj2Cz+rogH7n8T2/JrUpVtq+CqK++jMDcfbE27tk1BK8LRMOvXVTBp0tdcc/1pDBnck03lW7jyulNp1rwRVkD4cUtagJSE4xGatqjHA/8Zy5LFq/CUplOn5kgb0JpArkSjUZ7GdgS/HXsiEsHy5UW89N/JflkDwLZspBB06daU5q0aYFmSWMxDCIGnEsRicRKxKK6bACHRSiaDvquW5/TSmervosFTmuNPOJi/3foS8ZjLDz8UES6P0qN3a+JxNx0HZFk2xRu20bJ1fdq0asCGbdtQnqJxozpc+3+n8uyT4+nWrRU5eSG2bC4hGAgw8NB2PPTAW3y/pIjGjRrQtmMDSkpLcQIWWVk22cEACc+lSdO6dOzUgi1lpQRsh0BQkp0VZMuWEipK47zy0iQSrpsu6BmNxJk7dxGt2zSkTv08tpRsQylN114t6N5rNAkdIxZNEI+7bCzeRum2cp575n3i8QSWFESjmrLSCr6dv4iuXVpRr34Om7eWEgzY9D2oDR++V4+4m8CyNKXlYaJhL30JCfxgfa2rridPa7yEB0oRiUW36yLw08SVQzyRSCYD+JmToawsbNtOXrV7ZlXSCCSKyrJtDDvrbDavK+LD557ltQceoEX7Nhx/6RjyC+oQDZeh0uLxwOt6YDAYDDXNfiOwMtP+U+n+IlUeQCk+mTKV1157jeL16zn+hBO4dMwYunbqRHZubnqMrSUlNG/Rgjv+fhfHjBxJNJzgvQ++5icXJwmu69KxUyP++Y/LKStzQUCDhtlURmJkBR0aNizgq1nLeeONaURjCdp2aMITz1zLpk0lvPbWpww+vBuO0Jx+7hCUShCNJYgn4siobz3SnmLhdysJh2McNqwnpdsq0TE/G1F5HpFIFDfhYVuSnr1b8/3iIkq3xgllBQDLL50QsCnetI1XXppE375dQQkWL17JsBE9ScQVUktfWAHKUwRCNmiBRBAMBrCkRCfbu4jU+ikgHovRtXtrcnICTJ26gK++/I6+AzuSmxtka0ksle+XdLcme/gmRQAarIBEKPwyD0olG/4KtCDpZlPYlv/+KjcZjI7A054/Bw1aK5TWaQ3si2JwFTghh4MO60jCS6A9TTAU5ISTBrF6zXrmzV6OEDYIgdAaS0o85SG0b70RlsDzFA0aFnDI4M5EEzHQmmAwwFnnDGPyJzMJh6NYQvqRTlr45ympMxzbYf36TQQdm4DtEI7G0X7dCL+MRLIOl5SCESNH0K9f/z3+DCxbupR7/n43fQcM4Oa//JVDBx3Cm+9/QDQeBydrj8ZM9TC0EWxctZoTr7ySy+66h+9nf8XbDz7Avy+/jBuef5EuBx1MpLIiqcf3w1oUBoPB8D9mv7sNTffUS4qrOXPmcNmllzFx4kTOO+88Xn/zLS6+9BL69+tXTVwBDDhoAOMnTuCYkSMBiMViCGnhl+fcNVIn3TmWpFHTAsa9O4UP3p9C/Ua5FNYLEciyCMej5OcHOHx4b4IBm4TnISzNd9+t5sWnJmLj19MKV0SIhhWxWIyLxxzLeeePIBKJ4QQCfDJhPi8+OxlHOr6VDukX9JSCP998Aa3bNyQSTRCLJohGIxRv2sKaNUWsWrOe1euKWbW6iKK1GykrrSSUJTliRF9mf7PUr9skhV/E0/Mr0AeyLb6bu46CrFzy8vP48oullJZVYDnJWLZUDSStUUrikeCsc4Zzw7WP8+m0b/nNGUOpqIgkz5DvP3LjCdp1bETxuq18MvlbGhQUULdeAZ9PX8y1Yx+jS7cOzJ+/nO8Xr6NB/UIK8wp47pmp9OnXlg6dm+PGE2xXGSFjHlTLXBBKk4i7dGjfDMcWoCyOGnowI4YfguMEmTBxFl27tqF4Qwnzvvmeuvn51K1fh7df/ZzLL7gf6Vm4CY941KNrt1Zs3LCVrKxcjho6kKMOH0g8DJ9+Op+hQ/qxas0GFsxfTb26eRTk5fD2q19QtL7YzyzUgq++XMYhQzoTCgXQSiFUdQGiAdu2iURi/u+7Wew2RTAY5KX//pd33xvHoYMOAa1JJOKo5A3CnnyYdVJoZhfmM33c21zepw9TXn2Fxq3a0LhlK9Aay7JRRlQZDAbDbrHfWLAySdWweu3VV3nnnXEcc8zRnDV6NLbtH47neTsEEmutada0WfrvVXWwfnpxUkIgkkEontbE4oqAsAmKIDlZvjVLCEnHLo352x0XEY5FiMUTeFrhODb5BXnk5WYjHL+auV9XS3PIwZ1wXY9t5eWgIZRlkZefi002BYUxP5hY+VaWYUf0oLSyglgkQX5uDrNm/sAnE7/m1NMPx3VjSSEiadqskKv/MIqGDfPp0789b74ynW3bysjPy/WrsysXS9qccMKh/OOeNxBSEa4IM23aQoKhIMrzrWkScF0/HV9rTWVljIMO7owTlLRr34xmLeqyZVtZ8gxKJAqlPOo1KOT0s4bz0INvUVy0GddVvPPOdM4aPZyDDurAkGG9uP2vz3PscQexaVMpH33wGY/85xq09oh5bto4ogDlQjyeQHkalJ9A4DupfEmRcF0aNsrnzHOP4u67XmbxdyuwrACTJs1i1KmDaN6yDiecPIi7bn+JEUcPxFOKt9+awejRR5JbGCI7N4snH/+Qv/39YoYM7cPttz7HsccOpLIiytSp8xhzxbG079yEM88exp1/e5Hjjh1IWXmEL2cuorCwEE+5VJRX8sP3azj19MOIxuM71qlK/1yVRui3Wto9waK1plnz5jRv0cI/P0oh9N6Hm4ukp72ytJwTLrqYFV99zeM3XEdWQSE6nuCoCy6kTa+exMOVfhcA4YfUSyO4DAaD4UcR+hetWlhzpO76U4VCH7jvPjYUF3P55VfQtl0bwBdOkIxR2ckClmk5sCyL0pIKJk5+jmFHN8V1YVexJUr7VcwRkJudzb1/f4uPJ8yiT//2ybgYiRTgobERXDzmONq2bYzlCL756gfGXvYIhw7tipQiGd/s78dzFZ27NOeCi44mGHR4+onxPPX4xww/opdfgylZo0vht5EZfc4R9OzdhqysEE8/MZGP3vuS35w5HC/hW0ZStT/jrsehQ7rQqVMT/nHX2zRsUMD5lx/FimXrcT1Fk2b1CVoW8+YuZ9qUedStn8fRR/dn88Yy2nRsxPrVJWTnOWTnZLFm1RbadGhIIGCRiEh+N+Zerrn+DLr1aEE4HEFKv2Cohy8cbUsRcIL8sHgDU6fMxfUSDB7ckx69W5HwFI5lMXPGYmbNWkxBYS5HHd2HZi3qEwlH+WHxetp2aowlJcLSlG6JsHVLmFZt67N00TradGyKHfDPSkVZlK1bKmjTtgGBoMP8uauYNvVbpNAMH96PLr2aUxmOEgoEmPP1cr75ajFx12PkyH6079SceCJByeYKViwtolufNmRnBZnzzQpmfraAgoJcDh3SlXZtmxCJRQmFgkyb/C1zZi+lWbMGHH5kb7ZuLKVjtxa8//YsFi5cwQ03nkE0EUsLrJSVVWlNKOSwYG4RQnVn8GGD9+ozkPmz0JpXxo3D7did3Jzs3e5SAL5YVdqPdHdCQQSwevFiwmUlNG7TnrpNmpCIxFHaRSjt3xsIifjZAstDKbCdIOuXr6SjijJ82NDdmqPBYDDsj+w3Aiu1eFRWVnLPXXdhOwFu+vNNSMtK95xLxbz83EXm5woski1iFApbWmwoKmH50g0kYipZPNyPQfKNFB69+7eloG4uQgui4RjzZq8kGo2n7/pT3ViU51G3Xi49+7ZFSsGmzdv4fuF6Eq6XXr50MtBcKUW3Xi1p0CgPIWy2bNrGdwvW4sbdtBVDJGPTvIRLz77taNmmPls3VfL8MxMYM/Z47GT2V8JzEQhCyX6GntbEYi5CCNyYi2VbaO0LVsex0UqzeWMZ//rnG/To3ppzLz6KSDSGJarOlR855VdkEvhZb6GgjZAQiypi0bgvCoQglBXECQi0EsSicWIxFykFwaBNLOb67yEgLQtpSRIJl2DQJpFw8ZLVY20pEVKS8N84QgGHYNABBJFonHgsAclq8aGQgxOwEEhisXh6H7Zj49gW0Wgc0IRCAQIBB09r4lE/KQB862R2bgDHtlCuIpo6RwnF009+zPEnHEy9pnm4URe5XYcApVRSYK1FqF4MPmzQz7o2fwqdFP2vjRuH17EHWTnZaOXttsBSkLTO+sJQWBaBYBApBAnXxYvHEcksWiUUQgv0bhUaNQLLYDD8OtkvXISZGYT/ffElyioquPXW29LiKsXuFm/cbi/s0lGY7IEnhcR1PZo0q0uLNg2QHlWZVcmXCi2IJ+K4nodEEgzZDBrWNZWsh/Db9/n/A8rTxONxPBfqNShk6JH1qfIl+fWlkP7iF094eCoBKkH9RgUMb1ovwwWVPArpW70SsQThSIz8wiAXXjoCz3VBi3RRSYUiEokTifgVxBR+s2ItQHluerJxN4GNRFqCU04dQr+B7UnEdixpIZP/+qn8mlgkTiwST7fF8U+jLwAj4SjhSu27A4Vv/dNCE40lkEl3K4CrPXA9EBCNJtJjgMB1/ci51PsdjSaIRF3/5OLXnZL4lqRIJEYkkpqlTo/jJlzchJvM/hNEInHC4RhSiKrGANLv0FdZEU29JQghiccTIASnjR5CTnaARDTxo24zpWq220y6ZdBe4oe0yfSYyvOIhcPV9yVT766s9n4aDAaDYdfsFwLLj3ESfD5jBgsWzOeGG28kvyA/7RIEfnZvwT1h++bFiYRLIiVCkiuxRKKTDXL9EhK+K1BKSTxW5cKTVSu37ypMxk5JS6GVS3euGCEAACAASURBVCzqt57JPHa0RCQFoJQWCEUi7pKQrr/fjIkkW+2hlC8mXNcllBNAeX7Xv1QJI3++vhVN4wfwV1VuItlvSKO1wBOagro5HDKoU1I8JqXULk951dIvRXV3bUpkpTfTCmFZ/pK93bpdzUqyfWX07YS0SDahrr65JlXNw9ehqpr7uNoYySaJSqlkT0KJ8jz/vQd0ciBRzUqqyQoFSSQUSN/qtyvpsb9Ikj2/QTEYDAZDJrVfYGl/kY7H47z03/9y8cUX07Rp02Q/vP9NB9qUuEotPioVqG4Bwg8IFzJ5X28BqPTc/Hic5MKlVJV0yiw5gUpmyfkNj6XIXOQUCJWsPpQUWVBljJEpu1HyIVLj+j0G/d14aSFHRpV2v4q3b/FKjZBx0P58U9YL1yPiKyt/zkJh7UJhaSmRP5Iply6zUYONizOtl1Vj+hFsMlnK3xda+kcDzDMFhkyWyNAki81alv+zEH7xfyWS8tYP+hYZXZHTrrfUXHZdZs1gMBgMByC1XmClFsTxH42nbp269O3Xr8YW5d2ZQyq+C5KLcPJnLTMblaRkit7pa3faBDj1fKoNSTUBUOW21Bk/aWS6UKVORz3JatuLVJPrjBf7889sg+Nb23baiFhrkBKhddqCI5NjaX5CpECy9pPcpaBJnYvdzabb5T4zzm31MTMEU9JK9XMRGWOl3GSZsXGp8yvYUbj5rYP8qqf7i/XKYDAYDDVH7RZY2rcMhcNhJk6cwCWXXbZPprFTMZBaeDP+rVrMq7vEdnhtBunnJTvZTu7kp6SlTFb7bYetfMtW9elsP4cdZ5v5x6TlSlQ/wp8bg1PTAmpfsSuXWXXvotzhJCqdDAgHTPc+g8Fg+PVRewMuFGkX05RJU0BBr5490ynwqcceDw6kAn9StgmFQqs9KwJpMFRD+u2QfHumHylXY1pzu+uzyrqZsp6m2tnse6rNYv/W2gaDwbBb1FoLlhIqbSn5+puvGHDQAP/5jFioPXYVKgHStzIg/BR1hV+BW2mVLJtZm9WnobYj8cP00CCEAqVx8ZMyMuPP9iioPCOgXyWTKhSghcroM12VMbkvydRUQkq0m7Tpab2XWb8Gg8FQu6m9324p92AkwrJly+jTpw9AtbiePf5yFv4XfFZWiJKtMaLhGLa0SHbSRUkTN2PYS1KNyAWgBcuWb6FR/QbJ50S10iO7PXTS5SilxEYTqyzDslL9HkW6Zhv78OHnrCZnocAKOIRLNuPYVTdHmZm5BoPBcKBRay1YKTYWF5Odk5NuEbInbUa2R+E3Hg6FAnTo1J8Z06dx5NF9UNJvyeIHLatacP9v2G8RAikEWVlBlixYTTRSl/YdOgFVru+fymjc5dBIlPZASg7p35cnPxxP/ZNHYSkH1034Nye6qpbXviBlSAOwgwEqSktx166i79DR/t+NBctgMBzg1HqBtWzZMho0bEBhYWHNDZqhnPr1GcB/HpnMjOkLGTS0MyERqCXRK4b9Gg3gsW5VMfPnlnDcCRdi2xLP83a748DO8UtdtGjVmma2zZwJ4+kx7EgC2dnJvgK1wAarNcJyqNy6ia/fH8exffqQm5+fPvZUB4b9PRHCYDAYdkatb5Xz9ttvs3r1aq6++uoa/DJOBrMLsITF5s0lfDp9EqXlP9C0cQ6hXAehzJe+YXfxrxmtFfF4gk2bY4QrAhw+7CTatWtTY1YbpZLxVmgsYRGPxfh4wiS+K96AU7ch2YW5/ob/4092ZrkPISTKU2wuXk9uOMKAzh0ZPGQQKWFoLFcGg+FAp9YLrOeefQ4pBeeed14N3+2mS6qnnyku3sz6detAJPvgURvChA37A37OYKo0hSYYDJGfn0e9evVwHDsdc1Xz1pqqdIzK8jI2bthIebgCS1jprMV9cg0rhZCCgBOkRavmBLNy0kkpxmJlMBh+DfxiLkKVUal8bwiHw+Tk5NTElKoF1Fafl9+quFGj+jRqVL9G9mUwpPA839r0ywgLifY0WkBOXj5t8vJ/gX3sPUr7VmMhZM2VqzAYDIZaTI0KLF+mkEzGqxkXQG5uNk4wAOz9ne+u5ySo3uw59bNZCQw/n1SNtlRl/ozGSD9a1X5vUSjQEr81p98aSJAsNf8/pNrxww4Zgn5Lqf/plAwGg2GfUaMCS/hN9xACVixfzoIFi7AsieM4O0iYn0SDEwywadNmKisjfDJ5Ckp5GSpuN9D4jY0VOLZg4EEDyc3Nq1ZHS2uJTPWfSTsHjcAy/HxSLkCtdbKSfvVg9l/KNebv179eNdJv+C3/99euECLdg3P7OCtNshG5+VwZDIZfCb9IDNbUqVOYMH46nTr0JysnF9veEx3n16e2LIEbd0GIZD+4PVNYAokUsHzlEqKxTVw+5iLq1q2fdt9IKU1siMFgMBgMhhqhRgRWZgDvhAkTmDN7CYcPPYlQMBfXjZMKs1VJE5bcnT2K1D96r6J1NX5mU9BxWLVmKbPnTubyKy6iYYNG6dR5I7AMBoPBYDDUBDUisFKxJZu3bOLBe5/k2GPORlp2UlzB9hanVDzK/wbfOSmE9gWegpy8XBZ9NwcrUMZpp5/qFxXVArkP3CoGg8FgMBgOPGok5DQlltasWUfbdj2wAyHcRCIZBuLvQkqZfkBVvMov//AtVyD99mxSEg6HadGyExs3lVJZWY5AIIUpL2owGAwGg6Fm2GuBldlTLRYJk5OTj9BVweJS1pZ2GAKwkNIPQg4EAwQDIaLRmN8wTteGORoMBoPBYDgQ2GtVkUrN9gezQGuqiniKmtjFL4LWvuDSKa/gbgWGGQwGg8FgMOyavVY/1a1TKZGyP8QyJbMH9/U0DAaDwWAwHHDstb7IrH2DBJ3ZKnlvjELJgPT/HUZqGQwGg8FgqBlquFVOhkjZG++gb1wyGAwGg8Fg2C/5xXoR7j6pAqIalSx7lSp/5SOS8V1Vv/uV143lyWAwGAwGQ+2iFqmTVDMdAVqQk59LXm4BKBBKgFJI26KgoC5OMOi7ItX+EOtlMBgMBoPh10atEVhKabSWaA2WbTNh/Nu89/7L2I4DEmwnSGlJCc89fz8rVyzFsQMo40c0GAwGg8FQC6k1AksIkS73ELAc3nvvZV57/UksOwCA4zhs2bKBR/9zFyuWL8JxAvtyugaDwWAwGAy7pNYILK01qYoPWvqCKhgIYVkSISVSWliWQygYxLJqUeiYwWAwGAwGw3bUGqWSqqflt93RSOn3BnQcUMrBCVg4NkhhIUzPQIPBYDAYDLWYWiOwqiNwnCBr13zL9X+4EM/zkFISDVeiJYj9opCpwWAwGAyGXyu1VGBpP0sw2ahZCI2wbLQAaQLbDQaDwWAw1HJqkcBSqLRtSpBIuLRs3o77HniZeDRGViiHhd99wyUXn1C9WrzBYDAYDAZDLaP2CCwlQChAJkWWwlMe5eVhYtFK4gmPSGUUrT1/M4PBYDAYDIZaSq3JIlRCI1TVdBLxBJF4BLTnV3AXClcliEbDJLRrorAMBoPBYDDUWmqPBUuTDGAHz/No1bID9cLlKK1QSqNcl2Awi649+pOXWweljRnLYDAYDAZD7aTWCCwpAa1RSuC6ca747Y1oLXBjCaTUxONxmjZtyb/+9SKWtohFoxgzlsFgMBgMhtpIrXERggQtkVKglE4WFpUo7SG0RGsFQmNLCy0USiukrkXTNxgMBoPBYEhSayxYQFruSSGTBUerCpBKLMAvRCqEwLKsfTJFg8FgMBgMhp/iFzYBaTAlFQyGXxTFgfNJU0qle5Ia/vcoDozryGCoDdSwwFIZQ6a+8k2glOHARSmF1nqnomCXz1Mzgii1b6EUmp1/0lLb7AsUoHdTMEkpEaL2fWf8UsLvx66fn7u9UqB19eeVUv65/5Fxqu0zqdKFVtUWBSN4DYY9p3a5CPchSqm0O9Jg+ClS10vqmslc+MpLSwlmZREKhXZ6TYmM/+OJBBVlZeTl52PbdlpcKAVC+I+KigrWritCey5CSjzlUa9uAxo3bphuI/VjV67rupSXlZOXn4fjOGk3+06PSyu2lWwjJyuHYFYwfUyp40i9LiXaMn8Ph8PE43Hq1KlTJeqEQO5iX5ljuK7L+PHjadiwIQMHDvyRo9k7lFIIIZLN5Xd91lLbpeaXmm9NfE+kxhZCIKVMv4fbC+GdvUdCiB3mICVoLfF7uMqq91eIateFRqOVTu+3Gv7LEUKycsUKZs6cyQknnkhOTg6e5+3V8RoMv1ZqVGBV3efUvjtQg6EmEUJQXl7OsmXLaNu2Lfn5+QCUlpZy5x13MHjwYE4+5RQSrsuSRYtwXY9AMICnPBLRBHkFeXTo0IFv587h0f88xnXX/4EuXbpkjF8lgtauWcN9995HuKICx3EIR6OceuqpnPab07EsC601kydPZmPxRmzHQiBQnqL/gH60bdeerVu2cMMfb+Caa6+he48ebNq4kelTp+Mpz1+MEcTdOO3atqVLt2788bo/MPqcsxl+xBHp+aQW/61bt5Kbl0vACaC1ZuuWErKyQ2RnZzN58mQmTpzIbbfdViWyUiIhaWLLtLRlCr3Zc2bzwP0PcPvtt9bo+7S9GNmZQNkZqe0sy9qp2NobUsedEi4pUZQpOIUQ1a2SyV+EEEhL+mVtMv7uT0v8qHgWCISsEos7bJcx2LPPPEt+bj7HnnCcufE0GPaQGhFY+6X1R9bMl6Xh14kQgrlzZnPB+Rfy+BOPc8SRRwIQCYeZ+dlnNGvcBICybdu45S9/YdPGzWzctJGs7CyyQlkMHjKYu+/5B1u3bmP6tGlccOFFO4w/f/585syejRCCAQP6Jz9j/sJcWVHBiy+8QH5BAUcffTSvvfoas7/5hlAgSCwRZ8O69dx591388P1SFi1axKQJE7jkkksAWLRoETfd9Cc6dupITk4uSrmUlZZx9DHH0a59e6ZPm8bhw4al55Jy223euJkLzj+Pq6+5hqNGHMXWrVu55OKLGXnMSC4fM4YVy1cw49NPCVdWUqdOHT4Y9z4vvPA8drWEFAFaUR6uZMwVV3Dcccehteah+x+gbevWHHTwIYDvWtSwV98rqe+l0tJS1q5dS7t27QgGgz/5upTQsSyL4uJirvrt7xh12mmcedaZNeJuTX3vPPP0MxStXcefbr4pLZRT1qUffviBv9z0Z1ztoRIeSinq1avHeRecz5ChQ4nFolx/3fVs2rQR4Zuw0EAiHmfs78eilOapJ58iEomgPA+lPAYcdBBjxlxBVnYW1153HcVr15Gbl4eUFp7y8FwPIQV33PE3fnPGb3j2hWc5YsSRP+ucGQyGHdlrgZUybwOgNAiNqOGGzKkYgL0TcdXjCCRyu/gUI7YMP4/UQqg8TTQSqXZdKqUIBEI4yUWpTp26PPzooxQXb+D8c87jsKFDuPPOu/j++6WMe+dd5s2bSygQZGf9nzZv3MhXs74iKxTCsh08N4ElLSzHBqUorSinTmEhxx5zDHfedSexeJyg47B02VL+8PtrSSQSvPn66yz9YSmWlNgBOzlHj46dOvHAgw/Qum1bvEQCpTVOIMDGDUVk5+Zg2Vb6eMAXG652+WHpUhKuC0AwGGTtmtWUbN7qbyMlOdk5iKSgWrx4EQu+/ZY/3nhj0kqTPEYFnnJp1aYNAEsWL2HGZ5/z6KOPpo9dSLnTT+TOLC/buytTpN6X2XPmcMtf/sLLL79C02ZNd8hA3n7MzJ8ty6Jp8+bkF+bvdB+p16fG2NnfFSCU8oVQxryWLF7MggXz0+NalpW2apWVlfHeuHGcfsYZ9O7Tl+IN6/h8xhdccsGFvDnuXTp16sTUaVPo27svg4cehuu6KDTKVbRo0YqJEycy7t1x/PbK39KwYUM2bdzIs888y6yZs/j7P+9m+LBhbNmylfKSEh59/DFOGXUqnTt3xo0nyCso4OSTT+HRhx/hk8mfcMyxx/jHp0WtKuxjMNR2asyCZVkW9Rs05OtZn9O+bWdAohVoqZGInx37sDP2/q7RD7b31wqNbduUl26jomIrBYV1MrYxpR8MuybzGhZC4AQCSCEIBALpbYSUaKFwHAcAaUkaNWrExuJiNm7azJqVa8jJyWHu3Nn89aY/E7BtlFLYsvpHUWvNsCOOoEfv3rz+6qt8OXMmWzZvQQiJtCRdu3Xhit/+lq5du6K15sUXXmDxd4uRtmRbSQkrVq7Etmxu+dvtLFz4HddedRWe53+OtJAs/u47bv7zTTRo0IhYLEZZeRmHDx3GKaNOrraGZn5WLWGRHQiwcP58srOz2LJ5K0qrtJgUWld7reM45BcU0rJ1Kyxh4WkvFepDPBEnLycHgFmzZpGTnU3HDh0BqKysZOuWLeTm5jJlyhRWrVrFkCFD6Ne/P0IIFi5cSCwWo0HDBnw24zNGjRpFIBBgyeLFjB//MeFomOOPPZYePXsBUFy0HjcaY/nyFTRt1pSZX3xBQWEBlrT44YcfGHnMMSQSCT6dPp3F3y2mZesWDB16OIV16pCfn89xJxxHx/Yd8TyPtavXkl+Qy+zZcyjeuIn+/frRsVPHtLBas3o17733HuXlZQwffhQDBvb3z4mURKNRZsyYwebNmxk4YAC5OTlkh7LZ2dehFILs3FzOOns0I0aMAGD9+vX079ePyZMn06FjRyzL4pjjRnLGWaN3crVqcnNyGPv739OkcWMAThl1KiOPOooZ0z/l0ssu88fcsJ4333qLE046kcOHDk2/2nMVdevV48svZnLMsSN9cWUwGHaLvRZYUsp0pkm7dm2wA5NZvmIp7dt1oTJSiVQChaoWY7C7WSmZ+9gzBKD8oGHLJuhk8cmsdzl4UHdsywa8/c/Fafifk2mpACgp2Uo8kaBo/YbMjbClzbSp02nUsBHHnXQCmzdu5IY/3kBhYR4L5s/nnr/fzahTT+WzmTOZOm0K99x9N27SKpQitY8//+lPvPziS9x861855tjjkMDKlSu57pprmTF9Bu++/x516tThvfffo6ykjFNOPYWWLVrSr19/OnXpzNVjr2bVypWUV1amg82bN2vGYUOHsmXzZiaOn0S3Ht1o1LARQoLlODukOGbGH3lC8Ohj/+H5F18ArSnZupUXnn+O8R9+yIYN68kvKEhv7zgW69as5u477qx+k6Q14WiUa669hlatWvHll7Po0qUL9RvWB2D+t/O46f/+RHllJbFYlEgkzH3//Be33nkHF1xwAa+9+ipvvvEmDRo0wAkGOGXUKXw6fQbnn3c2TRo1IxQK8NSjT/Dv++9l8JAhvPPOO6xatYp//ONuOnZ+in/c8w/WryvCUx6HDhpEv379+MM117Fs+TKaNW/G6hfW8PTTz3DvvfeTm5vFRedfyE1/+hMjjz+OM8843ReLnkdp6TakZfHM888ycOBBzJ8/nwvOORfLssgvLOSJRx7nr7fdwrkXnE9ZaTkXnX8e06dPJ6+wgHp16hKPxujUtQuZ1vP095CUWFKydvUq1hUV4cYSTJ02hZycHAYMHOhvp6GyMkI8Fsd13aSFUJCT6wtXLTRuIpEeOxaNIqXEtqtuCGKxGAnXJRqNVLv+LFvSsFEjvvnma0pLyygoKPjpD4jBYKjGXguslFk89Tjp5BN45OHHiUajdO7YHfUjQZc/PbYvxmzbzkhB3pOxNCARWlNeWcpns8fTsXNjhg4dQlVpiV0luhsMPpnXeSKR4JNPPqG8tIz33n2Hk04+iYDj+AujbfP55zNwgjbReIx7//lPtNa8+trrrFi+kjGXXcpXX33F62++QauWrbCFvctL75RTTmbtmrV8Ou1TlixeQigrRMnmrTRr2pQLL72UOnV8C2xudi6NGzbmsssvQ3maWCLG/HnfMuaKMdiWwxWXXQrJeUtLcufdd7Fm1WrOPOMMzj73XAYMGEhJyRbmzp6NtK20KygVx+R/hjWVFRXcetttjD7nbFavWcNxI0fSrn07hg07nBmffsbatWv95uxANJ6gTfsO3Hf//Wit8ZIWLq2TLsJWrQGIxSLk5+XjBHyrX8J1Wb58OUeOGMEDDz5AVlYWf7n5Zq6+aiyHDjqU3Jxc1q5ezQUXXsBVV41lxYqV/P7qsZx8yqn8+95/A3DrLbdw/XXX8+H4j7jyqiuZN28uV44dS8MGDbCkxZIlS3j8qSc45dRT+WTSJLaWlPDaW2/SonlzVq1ayfEjj+OVl//LFb/7HQHHwbYdJLBx/QYGHT6Exx57nNWrVnPWmWfy7jvj6NWzJ5dfdhm9+/blqWeeBuCxRx/lr7fcQruOHZk75xtmfPEFz734EsccO5IZ0z7l3PPPIZGIgdjx5s4SAqE111//R35/3XWgoLyinHNGj2bQoYeScBOA5OEHHuLVV19FuR6e8pDS4pFHHyUrJxsU/PaKK8jNzcVxHL747DNGjBzJiSceV7WjpO6Vyf8z3a0dOnRg0qSJRKNRI7AMhj2gRlyEqbsurTVNmjTh6quv4IMPxvP5rNXk5dbBkg67VfVHAFrguR7BYJBt27aRFfLjWpRyf/LlOx1SCCKRCkrLNtOrVyeOGjEiaZEQSCkw4srwU2RaOT+dMYOPP/6YU04dxezZcxj3zjucdvrpoDWJRIIrfnsFV40dy/QZn9KxSyduvPFPdO3Wje49epCb91+2bNkCQCQSQ3nuDm7wTcWb+P6HJeQVFHLJpZexZcsm1hWtxxbQtWt3GtSvS/PmLflsxqd0aNeRgoIC5syezZmn/QY34YKQRKKVXHbFFRx5xJFE3TiWtFj43UKuGft7bOm77GwpeeyRh/mPeojc3FxOOuUUArazy3PgKY+c/DyklDSs3wDPUxx8yKFcOfZqLMvhvy++mI7ADDo2S5Ys5pKLL0YKmbrPQWtNPBbj6muv5exzzvY/h55KL/ZC+6UdRp02iqzsbABGn30uDz/0CAu+nY/Sis5du3L2OecQDAVZsWwZWzZvZv26IsaOHYtSiuINGygpKWHhwgU0btIEISAnK+Sf82glg4cM5tTTTgNg0ODBKDSTJ05izerVLPl+MWUV5f43gtBJ4SxQWpNfpw4nHH8C2dnZtO/Qnt69e6NRrC/awMrlK2jSuClXjx2L63mUl5USiUSY/c03zJs3h8MPH8Yxx44EYPDQwzhy+BEUFRVVO7+pcAutNUoIzjnnXHr36U0i4VK8vog33nyTZ556itFnn40TsDhowEAGDTkMN5FAKY3WHo0bN0J7Gjvgu5+Li4v5/LPPGT36TO594EEK8vN3iDtTGftPXedlZWVIIZCma4bBsEfUaJmG1CJRv0FDzr/gPIqLi4nFYrhugt0WMMJf0BLxOGMuu4yjjhrBhZdcSLgy4n8P73ZYlsZxAtSvW8+/u0vO17gGDT+X1KL09VdfcfONf6Jt27Y8+MjDjL3qKm784w1kZ2fTu3dvlKsoKMgnOyeHkUeP5LDBh/HF55+zrayMQw85hGHDh6fHVG4C23HQ21l5F8z/lr/dfjs5Odn+AicllRWVlG/bRp369UEI4vEYlRWV/Pnmm7n1tltYsXxlMsg+gJCSxo0a0rhZM9YXFeHG4sRiUXp27sktt96G0i7KVWTn5eIlEmitadm6NZUVlTzy0EPE43Ggyj1fleUmmT9nLo0bN2JTcTHhykrisRgACS9RbeEeccyx1KnbAMsWoJKLeDJOOuG6HHyIX++qTp06zJs9l4rKinTGmhaCgFOVvZadnUUoFKCyshIEFBYUYtupoH2FbdmEckLYlk0sEaZ1q9b0+0NfOnbsSMnWEmzhEI/77jI7ECI3lJUee/q0adz4hz/SpGVzOnXqxOAhQ1gwfyGeUgghkyUQknURMoSwbds0adwE5fqxednZ2QSDARzHQWlNwwaN+d2Vv6Nvv758+eVMcrKqZ+Pl5Reg1q2r9s24fV214084gaNGHJX++6IlS/jww4849bTTkUIy6LDDOPOss3a4VsPhSoLBEP/5z6PkFxZw5ZgxrN9QTMDe8StfAsnqDdUKva5ZvYrGTZuSkxS5BoNh96hRgZVpyQJo1KjRXo/58ksv8fVX31BeVsGll11OmzZN9mq8zGKBRlwZdgchBEXri/i/P/4fzZo14x/3/pu6devy0EMPcstfb+U/Dz/Mv+67H8dxqsVUCSG462930KlLFw495JBqYw4achhPP/csbdu1q/78YYfx2htvMGHiBBo2bMSgwwbxr7v/yRNPPsE9//43AwYM8GNvvAS5+fkEAwGeefpZVq9ezTPPPVttrGbNm3H/gw/TsVNHcnNzGXr4EF54/nneeP0N/vvKy+Qkg80BwpVhLrrkEnp275l+Ll1kVEq6du3KuPfeY9z77yGEoEnTptRv0MDfUPnbxKNRvpo5C8/z6PL/7J15vB3z/f+fn8/MWe+au8jNerMvSEJIkBBClNpaqmpfitpqKUUtVVrtt9oq1YXyq6K0VO0pSuwSYqkkkkgIIrLK4ubee9aZ+Xx+f3xmzj25skrSRn2eD3LvPWfOzGfmnDPzmvf7/Xm9tx+MWMvNlVKKpUuWobVgwlf259GHH+WD9z+gvq4epEQieWziRMbvOx4pJffe81e8YpGddtqZRYsWlTy8APo296VhuwYGDxzMDy6/DIB/PfkkM2fNorlPH5YsWYqmbOKBVgTavD+e53HLLbewXfcmHn74UWJxlycef4IVy5fjOq6p3iwPvq9RSqaNvUEQ0NjUlb59+tCje3d+ef31ALwyZQpTp05l8KBBDBo0iD/ffjuTJ09m7NixzJ49m8mTX6Zb1yaUgihI1CFQJUIpFi1ayMoVKygUCixZtox3Zs1i/IT9cWMuWimWL/+E5cuX43me0X++T0PXrsTicYpeETfmUltTw4033cQBB3yVa350NVdf+2OSiWTZe9ERwYq2397ezsLFizn2mGNJW4FlsXwutriTe7kpXzTleK3OwRt4vRCCltWrueuOO0kmEsx77z3+es9fOff8cz/32DalJYXFsjYa6hv40TU/okePHjT3eix09wAAIABJREFU7g1AbZc6rv7xNaxcsYJkMoWv/M9kxJOpFLlslnnz5lEsFsskh5mF6JUJMqUU8USc+sYG/nH/3xk6dAfGjh3DmD3HkEgl6dGjO74foB1NKpEmEY/j+z6LFy5k7pw5THvrLVKpNEr5KASOlOy44w5r2BN8svwT5r37Lm+++SZNTU14vodAoNEcdPDBNDY2RINBOQ5Ca2prarjhNzea75A2+T6tFY3bGYGlNTiOpKWlhf/7+c9YsXyFqZ9c24FUmmKxwN77juf737+Yhvo6Xp/6GqNGjUJqTVVNFc89+yxnnnEGrnB49LFHOfrYYxk2fBj33XsvhUIeHX6XBw0dzBlnnsl1P7+OhYsW0qWmhoceeoRvfPNI3LhLbZdafKW48YYbGTRoEIFS5PMmQheLxRi399784abfcvH3L2LVp6tYtnQZlRUVtKxuwSsWyBdzeJ6H7/vkC1mKRT/cX03RK+IXiqRTKc694AKuvOwKcvlz6Np1OyY+NpHx4/chmUpx5JFH8te77+acs85iv/32Z9asmXy84GO6de2G0gFOp1OxQlEoFvnVz6/jj3+4Bd/3yeQypNNpjjv2GBzpkMsXuO2WPzLx0cdK59p8Ps+xJ5xARUUK5fkUwuhiQ2Mjp59+Gj+99lqGDBnCyaca37UgCMgXcwT+mm7tc+fOJZvNcuBBX13f18FisayHrdIqpzxNsKm9xaJli8Uid9x+O9OmTSeVShFzXf70p1vZc++92HmnnT73uCyWz0uUfttr3DhgzVmFtbW11NbW8tGCBeQLOQpls7e01riOw7PPPssbb75ZEgYgCQKPfKHAz6/7Od86+mjzaJQm0hrPC3j4wQeZPv0t468Vi/HsM8/gez5aaMaPH8/lV1yB0ppEMsX8Dz/kxOOOB607NJ6GfCHPj665huNPOAEhIO7EyWYynHPGmaYuqrSwoL29jbO/ew6XXHppyYldaI3jugwaNGidx8fz8mTaM9TU1PKLX/2KQj4PnfyswjIs0/ou8KmqrqGuvo5vHv0tnnjicb5zxhnGMEVKfnDppcycOZN5897lJz+5lm8e8y0A9p2wH4OHDCYdRt5c1+WUb3+burp6HnvsMRbnlnL1NVfz9SMOx3Vcho8Yzu9/9ztmvTMbKSUnnHhC2FrGcPZZZ+FKydSpr9GzV0+uvPKHvPvuexS9AslUmosu/D6jR4+ivqGec8+7gBE7DQ+PlOCggw4mCIzgOuxrh1FZWcFDDzzARx99xBnnnM1xxx5LIpFg6Pbbc9fdd/PIww8zf/5HHH/88dSdfx6ZTAYpP+vA3r1bN666+mqCwJiM+r5P9x7d2W/CBHr16oXneZz/vfNpaWkJLRQUSki8QoGhQ4dQV1fPxT+4lC61taV1nvLtU9Ba4QU+uUyGVEUFdXV1fPf88xk4cGDps+f7Pvf85S/svffe9OvXb53vt8ViWT9Cb0Oqozx6lS8UmDN7Nu2ZDH/5858ZvtPOjNh5BM29m+kVRg4slm2N1tWrmTjxnwwcOJBRo0eV7EXenvE2rW2rQ7FRahYDCDyvyJCh29OjR4/SekwLG5g+fQaffroSpTq+pjpsi6J8n65NTQwfPhytNXPnzmXZ0qVhm5U1v9aBFzBw8CB69uyJEIIFHy3gowXz0UpD6Fdn1irI5wv069efAQP7r7f1ShQRjiLUr02dyux3ZnPkEd+ksrpyk47bqhWruObH13D4Nw4nFY9z6smn8oc/3sy4ffb5zDY7j2d9nSQ29JzW+jPGoxtDEARrRObXt51IiG+o9+HGrCtaH2x8J4ooulW+n+Xn2vL1CiGYNm0aN95wIz+6+kf0Dc1gLRbLprNNCazy3lzQcQK54rLLmTBhAuP3M8XB0ZBtkbplW2FdF6w1bQ42vI7o89z5Ar4+NuWCuyldETa03nKB1XmdGzOmzgKttbUV6UoyrRkmT57M7nvsTvfu3UsC5TO9+jp9/zv7lHV+L8qfj14bHY9yC47y7hTRe7IukdRZDEUTAsqPQfkxj7Zdzrrc4aN1l3+2ykscysdcvr3O70H53+tyrC8fV6atjbxXpKG+YY3jbs+1FsumsVVShJ+Xzoai0QnJ8zwKRVNLEJ38vpD9Dy3/s5hi6DU/t5FwWNsFtlx4RX+XRxjKvwvRhb38QlruKt+ZtUVkyusPI8HQeVydl1vf+jqvu3w/y8e0vteWL6+Vpjq0D6hMV3LEN45YYzzRGKPjsS6xUz6e9Y2zfLylMZQJifLn1vZ7NKuy/PFo4sy6zlHl69mQ6C4XdtG61jX+ckG5oTrT8jGX91wsPwYVVVVUlnUsKD82Fotl49mmBNba7kiFEGHBhnksOhmUtyyxWP7baCmRSkGnz2X5Z7q8X1258FhXf73ySG7nyIzjOGu9yVjXhbDzOKBDaHWO9KwtErUx65RColDG82oDr432o3ScCKNLdIjGaP3lx6pzxKZzFGZdz0Xr6vxzQ/u1rufXtU5Y87h2jjKVr2N9567y81znn9Fz6xLSm3LjWf4elYu28s+WvZG1WD4f25TAWueJXX72jsx+6S3bElG/OVgz9VL+OV3XBXVtn+XOj63ttWt73cZsY11poo3d7vrWKdnw/q719WuxctjQPq9v7Ot6bm3pw43Z7tqeX9861/UZ2NhtdGZjz3ebel7c0HGyWCyfn21apZROFopNMoK3WCwWi8Vi+W+ySRGsjtx+FF3a+nc5Jrzu4CY7XJstFovFYrFYtjada2A3hU0SWFJIsvkcmVwbGo1EooTYKmEwpUGiqaqsojXbTi6XI1vIks220yHsbBjbYrFYLBbLlkKHxoASpTUxN0ZtZXVHu4VNYJMEltaaQPu059oRYYPkqE3XFifUTm7MZXXrp7S2tZIrZMnkMp9dyGKxWCwWi2VLEEoLpTXJIIGuqv1camOTi9wlIITE0RKNMHW9W6WSS6N06JGDBNHRcseE6iJPaIvFYrFYLJYtg1IaIRSC0HLnc65nkwVWaJ1npqVHD0Rqr8x0EExvsvK05aZMIVZGvnXUXGlZtrHof4vFYrFYLJa1syFdEj0mZUfQRgjTBF1v5uy6z2XTIJFIEYqdsoF2dhqWslMneszfG6OxhBIogUlFhq1BbMTKYrFYLBbLxrIxusRoks/aRMnNjON8Th+ssrDVWuhwmJbhwBVRKzUhNk4RaqGRpdouhYgKvYRm6xR9WSwWi8Vi+d9ClDrMmwyaKgV5jNCKSo46KG+VtTlsIaNRRbng0lqTiCdw3RiBEsgyQbYp0kigicfSaByEdEgmKvCL6rPxPYvFYrFYLJa1ECkGo0Q0SmiEVBTzxbAHskRr0HrLtuDbDIEliISVKQjTaA1uzKEiXcnbM+by79cno1QeVzoQ1lRt2hY0jusQFFYx7fXnaP30Yzwv+PxDXhtflGCY1ZQWi2Vt/DfOYfZ8ZPlC0REE0loRBILmQcMYOXJnUuk4uVwunDcXCa2NK2XaEEJvQhdPrTSZfDurWlYgS54QCq1NqM30RxM8+sAj5Ftf5yt796S2Jg06EkWfb8QVFRV4RY+iV8B+sy0Wi8VisWwaRmQJAcWiz+Q3FjP3Q5dvHnc2Td3rKeQLCGkssKQUCGEm2cXdOF3rm0Jrqk1jiwgspSVCKdLpKv5+7z9oWfY8F562JwnHAT8AIUvLbppAWn+tl8VisVgsFsvGI0AEEHOZ/NY8nnhBcPYFF6GUF6YLKdlBba7A2owUYbkPlcJxXZYsXc6nS17j3JN2IyFA5YtmSakRWn8+5yoBSoXJRam/OCk9i8VisVgs/3WiUvWSYhEap1hk7OghvP/eq0yd8jpj9hqNDgqlZbdEW77NLnJXSqK1wk3G+WDe+wwdEKOqMoHKBmtoIV3e6X6TNgAQoAAHufnzJi0Wi8VisXwpKNchpfmCgSZA4WQ89tqjJ4+9MBM1ZjQ6XEApU+y+CQm+tbLZAkuIsCAMiQ4CUhUx0KEVaCSqypy9NjnpJ40nVmlDdgahxWKxWCyWjSDKnOnyv6UwFg1aEUu4uI5GaY2xcNhy7Wk2Yy1m9iCosMRKh4ovElKqFGITUpa81z/PBqWUSCG2TFm/xWKxWCyWLwWSNbWHafcXmpiH9gymIZ9ASLlFUoMRmxXBiuzkwbS2KQ1Lm7p2gQmxCRt1snwJUEqZEHTURqr8OUCg0EqEYWqNFCJ83NxjaRSlZ7Ux6VUohBLoqKGBNjWNnbcQtYOIIsTra0ulwu1oNHINhxhjcaxKvbfWEm9eo/QyiijrcFrzmj1CFSCUCgckQZZXQkR7/tl9sfx36dxaBDatzZnF8kVAakLj8g50+NmPUoSby2YJrOhLZy4s0WA0SHOB0LZkyvIlQaHQ4UQOwp8d/a3C1k9opIhuRCRaKbNcKDgkAoUCZPgdMkJMa9PVoOMGpjSXuLR9rcPlMMutU1wp0EKEt0NG1JlxhqIoXE/YKIKyrbLGQ6YGILzDMhJJa7WGANMotBDhgEJzGWT4U4PQSC1tB6xtjM6tRSLCT6bF8r+HDG8nQ2uGLVF/BZs5i3CNk7iOmjKbH581n7dY/ncpRYTCi5MROdARzQnvjKI6QqVQ4XNGswiUMMpFaoVSJdcWtIiECSAUUqnPXOxkKbRtIl/rihwL0RFFI5JzsqORupCy9FWW4fOUReRUuA5UeANV2j8NSnbcEYbBL1nefFSZLTpSgnBQgbkZK789s/z3iaKKInTi0QEoqRBWYVm+BDihBdW6bjQ2hS3UKsdi+ZKwzi9cKGZ0KFTCUE7Ug1MKM9vWcU1XA4SEhEQXFEoHhC07UegwxaiN0BEgdBjZkhKhwgCW7hiLiZqJUjJPoZCl6FLnYZoODMKRiJgLnkKrcq86g+MKiMVwvADlm20SpkBlImbsU4qhgbADTixG6ZaqdGclIQb4mkD5ZlHp4Dua1lyB2ngMjeichNz6lB+XbTnttaFxbon9WMs6hPnQ0VZUuDGXlAvCJ0zxbsPHy2LZxrACy2LZSJRSSNeBuEtnZxWBwtEC/ADh+4iYi0jEOsSD0gi/yKIVORIxSYyAmdNXsNOQbqQTDioQSAFCK0TciBud9RCBCjcRxoqEQKQT4MrSEERYnCXCP5xcEV0MwHHAWVO+CKWRAjIFn1mzlzCwuY66yhQqCEwkSyscx6GlrcDM95cxbHBXauoqwQ/H4TrMnr2ITNZjlyFNCAcyxYClK7MgVUc9VRjC1gIaUnGqEhIhBUHc4Td/fI5ioLns3H3ROR+UikYfhvPC8JcoqwHT0WPh7yLcSBTGF2XLiWjjYRdUodZYj3AExFyzSMFDC1mK1onS4CPCnSgVwBGK0ShiLyFav15z3KV/o2WiOeCitKPRu9JpW2Y7wnEgJsFXKD8wRbnRILU2AtkRUPDL0rOiozZujRI6U7YhorStNke8dCx8hfaDcN0CkY4z+bk5PDlpBj+8+CDqK5IERW1S3hqTwrbVcxbLerECy2LZGMK8/IrWHO8tbkGV6qc6CHxFr8Yq+veu49W3FvCnv00l4TpIV9LUWMUFZ+/LJT98kN59G/jqPoM55rS7mPTA2QwduB0i8FBa4lQmePTJ2bw4dR7nnj6O5oYqVOADCqEl+UDzxMTpLF+RxY05oFUpqgXgFQN2HdmLXXboQSbr0VL0EGFCUQEpV1BfU8H7C1o486L7+NVPDme/cQOhPWpnJSAd4+3p8znypDv5/oUTGDd2IPl8ASEkbizBT3/2GCtasjz/6HdJxWJMnT6PSy9/2HR0KLviSgHLV7Vz1YVf4ZTjRoOUvPrafG6+YzK3/OZ4QCCSMdAalS+WHctQkKhQEEAYXVFRgVmoTcrTj1Fes6MuzPynwtnOYVWZlPhC8Pb7y8BX7NS/K8JTqLBXqllLeeQvLM5X0e9RMVwUmtSgRNlYzLgJE8Cq9BodVtVG4ytXP6rTtiSOA59mC7yzcBVDe3ShS0WMIBJRGhzXYd7iFlra84zo14CjRCnKGNXoRW0/onVHh62UttWQ8wNmzF3GgO611FcmMEbWCsfzGT6sBz/82WPc+8h0zjl1HKKYLR1alNymg38Wy7aAFVgWy8aSdHlx0oecdsHf6NvcBdcRptYcQEBrpsDpx47le+eOJ+YIEo5DVWWKV96Yz0PvT+e0U/Zh5aoClfUF4ok4QZSZCyMaAg2pOK+8MZ/rf/ccXz9sZ5q71ULRpNeICfK5gKdfeJf585eTSrpkcgFKK5Jxh0TMZeXqDInKGLuM7ccjD7zJxT/+J/V1FQgB7VmPPffow503n4AjBV7Rx1nrjmqkdCj6iknPzuGd2Yvx/MBE6eIJ3vtwBTU1aaQjIVD0barh5G/tGvrVAUIjhMTTmh/931Osbs2aiJsPN/3xBXYc3IN99+gLgeZ3d7/Mdl0qOerrI1HteZPaFIB00QQEyhgMCyfypgnnK0sZChkTPcQxpzId+GaOZJjOElKap3yBUj6iKsFf7nmdi698gCMOHs6tNx0NgUl9EnNwlAIPAkxUSzi6VG9maujAPAs4ZhaPIkAgwpo3gZIqFDZGIErHgVgM/MDoH8AppduUUaJaoAPVobXSMV57/UOOO/VO7v798Rx44PY42QJIYYpva1P87tpHee7leTz/yHfpkoyjfcxxEhIC8JWZOCGENkEtwvoSB7TvI+IuCxe3843jb+V3vzqarx+4I05bweyXr+nerYbDD9mVm2+bzOEHDad7bQW66Jl9FMoIS6uyLJZ1YgWWxbKxCDPLrrIixQ0/P5puTdUEkfhB4AUBjTUpKPr071PPd04bT01lCic2hfkfrcQRmkTcQWnIZj1iMaeUYDSiRoAjWLykFUdIZr+9mD1H90Fnw9ktXkBNKsbPr/06j02chtCSAw8eQSwmmPHWx0yePI9DvrYT/bvXQFHTlinSlinyoysOoXu3Ltz6pxdY1ZKFdIxYMobrOGuU1Ggz7w8H8IOAYlExeFAvRu7cC88z++m6SWbNXEYhXzAX+pjLBwtbueXOV2lsrMCR0qTkQm/g+sYKutRXgOvywQef8PpbCznvjLHIuANa8OxL7zGguZGjThoD2QIFxyWRgFwxQCpFIuFCIk4mk0MHgsqqOKLgo/wAGXchGQOtKBYDtBAkEjFk3jfptGScbK5Ivs2jpksKhzhIybTZi6muSnHR+QeAF0BMoN0kba1ZHNehojKJkyugtcCXDjIukVLQ3p6nMu5ARRyEpJALUEqRSicBTSbrkYi5uBpU0UM4ApFKkM155DN5auvSyECj8z7aERQdScKNkc974GsSjumMAQoHkEIQeIJERRzicXIZj1TaRXhGYAaexvfDejshEGlJMYBMe57a6iQu4bYUOHGJdl1aWzPEkzFSlQnwNY4D+bxAIYzQS0tygYRCkZQfMH5sP2665QVeeeMjvnHYcFTRK5tOaKeIWyzrwwosi2UTcBxBPh9w/U1PE4+bKE1UiZLN5fnWoSM45eQxvPjsO3znwvsQSDKZAj26VaE0pNNx/vnPt5n8/LsgRWh2p000qEuS556ey6NPzqRXty784oZJTNh/KP16d4HWHD4SF6iurWDOu8t5/Jk5HHbwjlQ21vL2nCX89IZnOPjQYSTC+iKQpCtiHH7wDjQO6Morr85l6pvzeWfWEt57byV+EF6cMZfKyLKKmMOAfg2ccsyuOKLArBnvopVJdUkku+3Sk16960im46AlbYU8Hy1azcEHD6N3YyXScfADD89XqEBTlUqBFzD1rY9oay8ycudmEIJ/PPxv3ntvOcuXZpjy9DvU1VVzw++fYrfdB3D/w29y6XcnMGJYT2688UkmvfgO+Iqhg7tx6fkHMHBAPS899y6vTF9AJlfkpSkf4MYkP/je/uw7th9eUXPznyfz8GNvsnRphp13buaSC/ajraXIE0++TS7vc/e9U/nJtYexdGELl17zANPe+phEwuGU43fnjJN2Q8Zcbv7dcyxa1k5jfYpX3/yIq684gn89NY1EwuGxf80in/O4+vJDePHV93nokbfYfnB3fnHVwfRoqkFJzS9vfp5HHptOe0uOHXbqyUXf3ZddR/Vj6otz+O3tk9lrjwE89PBbnHHqWA4/aASiLVdKlQqgujrB48/O5abbXmThkjZG7dSdH116EF2bqpBS4ggHBw2VcW7/y2vcd/8bLFz8KaNH9eXUE/dgz116I7RgwSdtXPHjR5k+bSEVVUlOPnF3zjhpDE7MwRECNyagSyX33PoSf/3HK5xy3BiOPHQ4PZvr6VKX5vnJH/CNI0aWSrwsFsuGsfFdi2WT0LhxyfZDuzNyp2Z2HdabkcN6MnJYT3bduZkeXWtACPKeQmuHi88/gLv+dAbXX3c0tXVpsgWfvs2N7D1ukEmpATiCrBTcdMtkjj7pdg6YMIR77jiFeEWMb57wJ16cOp+CK3FdUFKA1DQ11dC6Ksfq9gIIiRAu1dVJZCxWStMBqAAKmQLkc6Bg2ozFHH3cbfzgigdYtqId1w0NG6LC8YTLxAen8ac7ptCrXwPdutVR37WBhm51NHStp6FrHT371OMHcMP1/yJf8OjZvYHRo3vz9pxF3P/EDH74iye5+8HpPDN5Ho8/P4dJU94FCR8tXk11Ok6P7rWgTDG9I10+XtSKcF1WZ4vc84+3+NkvnqYqnaBr9y6cdeHf+cNtL3LicXtyznf3Y/qcZZx9yf3omGTq9I+59MeP8uKU+ewxdgCrVuU587z7+GhJhoeems01P32CCfuO4IrLDmbWzEWcff7f8JE0davBV4p+fetYvqyV0869l1enfMgJx+zGvuOHcNVP/8k1v5oElQnmvPsJ1/32We76+1uM2b0/S5e3c90Nk7j1L68xalRf8nnF4cfcxrQZCzn0kJ148pl3uOGWFyDt8pvbXuJXNz7D3nsP5Uc/PpwP3l/Jt076E5+uWM3q9iIPPzqD665/ku261dC3VxfwfWNtEaZJHSnRaB56eBrNvRvYf/xgHpr4NmddcB/F1XkzI1VrktUJHnxkBudf9HcqKpOcfeZ45r63jG8c9/94e95yFq/OcMTxt/HGvxdy+ql7sdvu/bjk8of4w+0v40uBGwNXxnj0wbc47dy72WlYM/vuNQCKATXpBL171PDh+5+YCRwitPQomzdgsVjWjo1gWSybgB9odKBobKymtkuawFQFI4B8waeqSxo0BBoybTlemvwe7767jNWr21m1eAWO1OwysicnHbULjz3xNlIKFq9o44zz7mfipJl87ZAR3HzDUXSpreaxv5/JMSf9mf0PvYkjv7Yzv732cFa25bn+8n/w6puLWN7SzkU/eIjGhmpee+tjcjmPiy55gP3G9uOii/c35TEizNUh8QKPnXbszvW/Ppb331/JVVfdh++XlZZrjRLwzodLeXbKPHo0VoUT5nSpXEhLEDjkCgW0dBg65X3S8RiXnz+BWMJl1jvLmDb9Ufbffzj779WPYrFIoAUz5i5FewrHDVtU5D0OP2wn7n90BitXtrLH/sN4/flZOMLhvHPGc94Ze5NvzbDr8B6cfNwYDjxkBKtWrmbWO8v4y52v0LqinWQiRmNdLbffchx9d+zBQXvPYMJht/D++yv48INPyeaK9O/XyDcOH8HYMQOZ8caHjBvVnT3HDGTRwlWccsZ4br5hEs+98C7/vP9s9jlgMEgHqeD221/hu9/Zh8qqJI111dz22+MYvc8AXp40G9eRnH/OPnz7zAkMHPAM553/D274xVE0D+nF7OmLmP/RpyxbmuWOO6dy8jFjuOTcCVQmHbo1VHPokb/n4cdmMnhAE0JJTv/2Plz2g6/C6lZU3itNIgRjt5HNFLn8ygM486IJoAO2H9qdM86+h6cnvUc8HkM6kpwPv7nlOfYdP4Q7bz6BqqZK9tt7EF/75s08MnEGPbt14c1pC3j5ye8zdt8BkA3YcUAD2VyRbJtHOp3kkYfe5PFn3+P7F4znJ1ccAu158AOqU5K+PeuY//Gqjtmba/GftVgsn8UKLItlI9AIRKCpSsapqojx+98/gw70GtMI23IFLjx7HHuMbqZ7YwV7jukPQrPg4xXUda2gfrsq8hmfbDZPNlOgUAxQStOlJs1uo5o558y9mDB2IK6U0NJK/55d+NeDZ3DrXVOQ0qWyKkFbW47q6jTjxvTlwModmTl7CY/f9yrHHbU7++zVn1Ut7VRVxwFTkO04korKOCRTxOIOVVUJRozoRtqRxGMSFU0zE8aclELA98/dnwMPGsENNz2HIyUytO5Cmrog15Hs1LuZ087cj5OOv5nJU+dTXZ00CwhBTVWKe+55mb/eMxktINdeoE9zLfuN255AQz7vm6L0QhHl+wR5BRRRGty4ZOwefcArkky4DBrWh7v+9grXXvcwXiARSlBVkUBIge8r6mvTdK9LwfJWevduoGtTklw2x9lnj2Xe/KVc+3+PcvVPHmTo0B5ccNZ4ZG2KYq6I8jWBV2DJqjbq6pIM26ErLG+HCpddRvfh97e9wNJVWTxfM6R/HTsPaYDVWWO6iSYVc6GQwdGKZDJBZcqFYhtCK5y4Sy7rUwxg4jPTmfTcdPyij5OKEwQ+y5a1M7CvRjgwbpeekM+h8rrkQBFFhpTWaAFDBjTAp23gKcaObqaqMsH8BauMnYLU5LyATz/N8dX9h1FVGYelrQzsXs0uI5tZumAV1U6MHt3q2XlIPSxrA19x2ql7QSLG/HeXEijFgxNnkssWGNivCeIO2lMIV9KSCZj74XLqairBkSaNLCLvtcgSw2KxrA0rsCyWdaBRpt5ECaRjojj7HjiUqV+5DAfns236tCYBEGj23m0Ao+9u5rY7X2bMbv3Zdfz24PtM/OdM+vZpRGpo7JIiEIJURZwrrzoEAkWQLVLUPiRi4HnU1ia49PJDQXno1gLNAxr5xU3Hhj2oUjz+8OvMnDGfX//6aFK1KUCBlwel0UHA0k9aOO/SB6itqeCZl+bQu0cdZD3yXpEgWLNCQEuJUApRDGhMxhg5pTi8AAAgAElEQVS3c2+EEwovBdKReAIuvvqf1NenOe+sfbj+uiN5/4OVLF+2GteRYXG7mV0Y9n2nuraSoTs28cbrC7j5jsnMn7+c7fs3QGCu0amUC9F8Rg1eIYCkw2uvfMAJJ/+JvfccwPXXH8OAAd14dtIsfnDlI2ZZCVoFeEVFwtWImCQecyEIaPmknR9fcgC13Wp5beoH/PLXz3L4t27m2WcuJJWOm00piLsOmUxAS2uW+uY6SCZZvrQV4ThUJmMoFCoQFIuaWLLjWEWRSz+0i/CDoONJAYmEmUF4wP7DOfWEsQhdJOdJFixuY/dhXZn9ziIE4AVB6AMW9v/T5RFFcwBbMwVIuhCH5XPayeSLVFYkQm0jcDB+Vp8sazHKpyJOa2uOZUtb6TG8FzIBq1dnWNlSJN07DYFg/pzFrM74xKtSFHIe115zOIEKOP2cuxnUbzt2H9kbPI/W9iyLFq1m1Ki+4JYpbSfcUYvFsk6swLJY1oFSxkVdCPCU4IbfPsfHn7SQSqz5tSm5GAkoFjzqair4wXlfob2twL33v0VNlyp2HT8Ucnl+/9tQHPkezz1/MS3L2jjupDtZtLSVeNxhbfkXpcH3AkZs30S6NkU+FwCKWDzGu/NWki34XHjJ/aQToAKFH2j2HzeAYcO6c/zRo0kmBLligd126cPwHbobR/awgXSELL9YOoKWtjyTpnxAQ32KVMIlUMbXSQtBc49aevXqgvAVA5obeO6F97nhD0+TDOu/BKCExpWShUvaOeqInTjo4B2IKWioq+CV1+Zz0AE7GhEW+LS05mlduAqQBF6ARoPjsGx5BhUEHHbwCIYO7sbTT8/muuufMR5PQqCUphiEnlIi3PeiT6IiyS13TOaBh6fxu98ewy4j+7PbqPm88NJcAk8RAJ4f4Od9DpiwPXfcPYUf/3ISP/7hobS2LOcPt77MuD360rdvFwrZIp5SpffEvFYThEdNK40X+ISFb3iBIigEdGuqYNye/Zj4yDT2H789Y/boz6+u/ycPP/IWEx86x3ymPB8VYGwVot5iQqC0MtYUQiClw423vED/Qd1JpFyu+/UkujZWMGGfAUyf9iHFQkB1RYyvHzyC3938IqNG92XCPkO46ZaXeeX197nwwgl071qDvHYi1974FFddeSjvvbuMM875C4cdPIJvnzaOoufTq0clBx0xkpdefo9vn3MXf7vjFEaMbGbOy++xalWWffboBznPtGAyzSs/0w/TYrGsiRVYFst6USAdlPJZvqKVpQtb6egKUzKxIrrI+16A9jSB1iitcGMO9z0wnQ/mf0qhUERKU5isBcRjLruP7k1DQw3FIrgJsUbKEcLVh8aWSkiemjSbXDYIoxeSRFwysF8Tk196hyAwFz6v6NFYleCqyw9m7Oh+ZphR6skPwA8IlML3A4Jwg5ELfCAETkyyeEWGvz00jXPO2o8ddumLVyyaNKmAYbsMJp1y0HkfAsWhXxnK7rv3xRWgZcf64qlKTjj5dpYubaWY8enZq47DDxvOcy/MJXf+BFKpGId/bRfO/v7fufueVxm1xyAatkuZSE6mwF679WHCfkO46ieP8evfPU1jQ4pxe/Tj2cnvsHhpO67rUFUZM1tTpjiosiaNV/Q564xxvDDlfY47+c/U1VaQyxU4+8y9Gbl9D/7x4FvU1SXJZgqMGtmD3/76W3z3or8z4eAPyLTnGDhwO67/+ZGQcEjEJFVVTsnk0xHQ0JAwFhc6IOZK6rvEzWyCQJNOxwjQ6ILPFRcfyNx5yzn9rDuoqkyTyec589Qx9OnXyJzZS6muSZp9VVGHbNUhdJVpwt3YmERKxdEn30bL6hxxx+GXPz+CHoMaceKaquoYhfYi3z97H96etZgf/PBhUokE2WKec87cm4P3GgBScOstx3PplY8w6YV3yawuMGSHJi48ZzwF7VNXG0cFAeSL3PSLr3H4Cbdx1U8m8tfbT+fJF96lb58ujN21L+SKHR9KZcWVxbIhhN6EltFaaTL5dla1rDDTysNJiEEQkE6lmfLya8QL/+Kr44aicwolQYYOyRbLFw2NqYMRCtMiJBU3JowbQmnwfFa0ZvnRL5/ilVfnI2THRRRM2i1Qil9deyT7T9gePG/965SAr8jkA9PepOxhpRUyMrlEobXEVZpEEJS6swCmzgqQcZeZ81dx7vfu4ZrLDmPc2H7QXgAp0Uoh0jH+PXMh51/2CLU1MeJxUZa5kgRBQCoR44Yff4NuDVUmTxaTHRsB41peWcG3jr+ZLrVpbvzZN0i6knkLV3HMqbdz7hn7ceI3R0EQ8PEnraSFoCIVZ+Gqdnp2SRN3HWRM0l7UTJu1iFy+yG679KW6MsG8Dz+hqUslRV/RkinQ3FCJlAo/EHy8qo3GyjRVXVJkcwFvvb2QTz/NsP3QbvRrroeCxyctGdrzPs0NVSbTVRln0ZLVvD1rEYl4nNG7NFMRd6DosaS1gOcH9OhSgSM0WV+zZFWG+uoUtSmX1pzHJ205+jRW4QqHRavaQAq6VaeQCZeMr5k5awkrVrQyfHhPenWrhXyRTN5ncUuGHrUVpGIx40BWVuAkwxZEy1tydOtay9tzFrL4kwy7jOhJz6ZayBdY2pIlWwzoXZfGjbv4wmHm3CUsXLSKIUN6MKBXFyh66CBAVKX4eFEL095eRE1lgl137k06LinmPD5emWG7miRVsRjEHVrzHstWZlm6vJULLr6PKy87hMMP3AHVmi/dV0gkWuuwUbjF8gVEKXAdPv50FROfd/naUacQqEJoGBwtooi7cbrWN4WWOpuGFVgWyzpQYC56WiClMqmcKBIUtcArW14DQgmUDEBJlNC0eAG+BkcItOholivQ+L6gNiFJOqD1hr8lWqhwmvy6luxouaJRqCDcXjReaZ6XWpLzFR8uXEWvpmqq03Ez7VFKAh0gtaCoFZ8WTR2VDnSnHdVoBI3JOG7Uiq8s9BbN4Jeuw3sfr8CRDr271+JoDXGXfz7/Dq2tOY752kgo+KbnnlboQCHiLniB6a2HRLhhrzwJFAIIFMQctBcJzdABXZvjIx0XVIAONCLmmNc6QFGBFxDosJE1EuUHRiQITF+/RNhLJu+jtXFdd9yYqfUKXdiloxGuA75Gq8CMXQoTFdQ6bHod9g7UEuFgelc6Agrh46GOIu5AYGrlFCJsD2QOntRhn0DXMY/FpFmHp1AFH6HDcQiB9k0KUzjS7K9rlqMYmM9vGMIUcQmJuDmGno/2A3Nujhvndh0E5pjHBKQTTJn8PjPnLeWEI0eT0kFJZFthZfmf4D8gsGyK0GJZB7L0TxR90h2NfkXpyRJCKZTUCG1MOR0laEi5JhyhVEeqDkqpP+0rgkAj0CjhrDProlAIZXyRCBN765ZZgRE4UlBSRiL6R6C0Jh132GFwE7rooQMQ4YalNjMLE1LSVOXymZRl+Xb8wLSEkQJp7qbKuh4aUTKwz3Zm9AUfjUQUfA4ZP9RczHNFEzUL/FAbCnTRR0sZRuQ0+Br8YqnvowRU0UdIUEojFeZ4C1Mfpv3A3NJJYSJrfrFjvIRvn6/N8RSAlggByvMRXsehEhhxpHzfdLKREumY9jCqaFrlCGmK+QmMP5kUAh063gukSZcGQG7N6KQIj5Mo+mafpAxL/J2yIKcR9qpo3kv8oJQtNsOWCFNhH7ZbkkYkB94aGxId6hrlKYSXL2llgTSeEEUNqPAzoNGBRq/OsftOPRkzqhmKHkGgcRwjTIXe9AuNxfJlZCsLLGv5a/miUy5jxFoeK19UlnUQESZyosxFunSZk0Z+iKg5sRA4CLTU641gybB5cTSG9V3i1r0eGaZ4BDoAlGdmG0rRcdGVwsyQBFhH1rLkMSkcnKiZoVO+bfOvlpqgUAyXleGsfoEqBKA7RKIQko6miNFY5Bo7UyYVS/vXWeNGx6h0bDpZCMiyX0rriMYtPnvUTL/B8tFE6y+fHbDGaEt/l/ak02rX2AexlvdREB6LcIvr2AdRNrbOY1mDspS2XOsnQ3Q6kCL04Qoja0p3CFYV7o8NXlksG8VmC6z1ZxitI53FEqVT1ri4loeqRKeL9tZGGTcAqSVB1Lh4baxjSHL9T38GLQQi8ttSTphllSZlWeb7ZNlGCJWv7pigGUb/1DpEmsViWRub/W1RpTtxyn6Gf4T+ORaLZdsguh2SYSRCSLGBm6TN2FZYqyO1RktpIiwynOEf2sJHsw4t2xY6bDgoUeFnRtmEhOV/CGXqHhGl8oOtcZ+3GREs40MD0QkzvOXRGGEV/W6LIS2WbYaOurLob7nVIkilQmgnSjp2bMgp5RZt+GqbI5wlGOWCHQDt2NSg5X8GpXQ46cjkDsRWun/YrK9MVB4QBbGkIKzAF2WrtiEsi8Vi+cIR2byVn84tlv8BhJCmpnArlyhs1temPLMgUPi+afmwZrGl/WZaLBaLxWLZNiiVNmEmkijV0epKbcGg0GaoH42UopQG0FpTWVPDB++3hsY4pnmpUmYms5lcbuNZFovFYrFY/nMopdBah/8bMxkJkHSZP/9T3HQXnBihUbMmUGHLrs1ki9k05PN5Bg0dzLNPVjDjnUUMH9oM2UI4j1CXrINsxYXFYrFYLJb/FEKI0HQXkBIHBQkXrTyeenkJh3zzBLTyjV5RodPvFmAL2DREPzXJpOTAQ47jrn/cxuGH5NljeH8EOhyr3ggHH4vFYrFYLJYtR2Qe3GG87DJ/eQt33/9vevb7Kn379yCXzaK1REoVevZtfuH7FmiVE6C1CAvdNel0BQsXfsJTj/+DlLuEnvUVuGjTi7W0os0ctcVisVgsFsvGEE3UUCCFZkW7z5KVSQYOGcN+E8aRzbeHtjLRC4wY2wZ6EWqUMm0noghcPJFAKc3iRUspFPKYib5m8KZvmS18t1gsFovF8p8gqv4WaBRCunRr6kqqIk6xWEBpjZDlNrphe6n/fi9CgZTG00ZKI7aKhQJSCnr2bOrwchCmWn8reRpaLBaLxWKxfJayMqWwUyqBH5DP5wHj2bdmN40tU8q01XoRKgXFYnGNx4Sw9VcWi8VisVj+c6wtUSelNL1h1dbzNtiiAivaCWPdoEw1PrqU+xRCWJFlsVjWiik16Dg/lJ8UhRCl1jsWi8WysSilPnPeUEqtIay01ltFm2xRgVW+E0oZVSVNHx3TPHQr7YTFYvliE4mr8pNePB4nmUpR8PMUMgUrriwWyyazNnG1oWW2FFstRSilIOxi1TEz0oori8WyFiJxFYXsY3GX5UuWMX3mTJp79mTAkEEEQbDhFVksFst6+E/eqNlbQovFss0Q3V1WpiqYOvU1Tjz2RO668x7SyZR1d7FYLF8orMCyWCz/dUr1VaEXYN4r0LdPMyeceByjdx9F0fMRVmJZLJYvEFvAB8tisVg2H4VGRK1WFaRSKSorKsnnC7S3t9lJMhaL5T/K5vpgWYVksVi2CWTYXlUqSSKZYvbbs7n8kst5cuLjJOMJFLZZvMVi+eJgBZbFYtlGkAgkCkUqnuC9OXP5zY03MempZ4jFt9p8HIvFYtkq2LOWxWLZJjBWDRo0ZLNZRu2+G3fddQfNfZvJ5QvlrVotFotlm8cKLIvFsk1grBqMV17RK9KzVw+GDxtGe66d1Z+2oKW0AstisXxhsClCi8WyTaG1Jp1K8+brb3DcMSdwz11/JZFMh21aLRaL5YuBFVgWi2WbIxGPs+DDj7n33nt5Y+prxGMxFDZFaLFYvjjYFKHFYtnmaM+0M2bcGB565EGaujWRK+SQGrSwIstisXwx2KI+WFE/MduU1WKxbCpa6zX6hLmuSyqZougVKRQLONL5L47OYrF82dhcH6wtGsEqb9YanSylFGy8hLNYLF9WBJ0bxvu0tbeV/tZKWS93i8WyBRFIqdla1VJbNkVYdvYTQpBMJtE66vS8RbdksVj+VxEYR1Gpw5/hycOqK4vFsjmE5xYhNEEQEAQeSmHacImwZZcQoDVsgSzclhVYUoEWVKTSrF6dZeaMWRTyGYTUIKLB2rOkxWJZD1E1e3RjGWUNbdWBxWL53AiiPlxSxhkwYCD129VSLOTwdQAqjKArtUXEFWwxgaUAU4GajCV5dcobTH3pEQb1F/RrqiThOEZWCTsPyGKxbIDOpVa29MpisWwW4d2aA0Jqln6a49EHHiaWGsBRxx5HDPAIAEUQvmJLSKzNEFiiVNQOprA9lUzx1htv88RDf+Cis3alX//uUPBARbejoiySZbFYLBaLxfKfQIGSIAOISfbZI889D07l0QcrOerYowja21AIhDQ9UVGb77q3WRGs8qJ2x3Foa83z6osPcfEFY+jTWIdamQsDVhItzYAd88LNHbfFYrFYLBbLBtHamBRLHBAKnfGpjMc44+R9ue7XzzFj2nCG7NCXYqEYviJME27mDL3NEljl207E4sycPp0BvQr02a4G2j20AxIJaIQGHQ3YWjhYLBaLxWLZ2ihVarMltEJJiRYa5WtkPuCQA/oy6fUpDN1hIEIU0UIit0D0CjZTYEkJQZiwFEKQz+VoqE+DEihUOANIIYRjsoNmwc0etMVisVgsFssGkbKjnkoIJBAAWivwNLW1aWJOkSAwNeJCqTDatQU2vTkv7izypJT4UcE7Jnql7dQfi8VisVgs2wiypF0UgQqIcm3AFg0CbWYNVpjxKz2iTZQqHLxClQ/bYrH8D2MmvYDSEgRIjNmwQCCFLJ0ooluwTZ0cGL1OsOE7wyAIwoWEKWx11nydVhqlFVI4IEEFypzQykwHpVIorZFIFGZCz1o7VESTo6Of9pRnsWzTKDDf0zCzZiSV+eKWmttEc/M2g82swTItcVQYUtPI0mxIISRaYBSYTQtaLP/zaK3N1z00CFXRnZYpwyzpj806G3T2yFoPQoGWHafO6FypUGhh6kKjCc5CCjQKMxtHI9AoIRBao4QKld1nR66UQmiBFtEsaW1vKi2WbRwRfv/NmcEoLY1GCGGcETToLeDZuRlnAiOuRHjSWetJ097NWSxfGqLojg7N/MwEYmkEh9EeKI2ZoPN51q8UjlBl4f31LRxqMAXmbKlLNQ2C6AQaPqc0Ooy2S2W2o5XoOKeFUXqpQ5VY9r8JXJkonUChlTVStli2daSU5jywFhElhEBIsUVulLask7vFYvnCEeoh05FGr1+9KEJ7FtaW4lM4iRgEYdQ65kDOIwjXGZ2wIis8rcxdolij/2DH2mTH6ACJ0phokdQgFEKZKs81jd5FOEaJTLngBQg/CM2ZoxxleHMYd8EP0CooRdwEIOMOjnTQRVNRKqVExDrtbRSwQuIojfJ8c6qW0pZGWCwWwAosi+VLjVIKHRZTag3CERBf92lBBhpd9HBiDiRjHaFr3zy+rCVDMuFSyPl8sGw1I/vVE3ccVGCiREIIVMI1U5BzRYQSKB2Gk6RGSoFIumXpuOgOU4SCToMXoIqhIHScTlImQAbgaZg+ZwndGippqkmhfDOrWQujJIta8dasJWzfu47qmlSHR58jWbRkNUtXZdixuY6EIyn4muWtGWSksUJFJ6SZjVTpOFSnXERg0ozCiiuLxYIVWBbLlxohBFqZScnCgdV5jwULWwiU/kzaPwg01ekYA5rreGPGAu78+xvEYjFijqBvcxeOOGxXvnfZgwwb3pve3au55KpHePVfF9C7qQYZKLQ0ouTxSbOZPmcJ3z1lL6pjEhHosG7TJZ/3ePKpWXhBgJCio3gcAEWhqBg5vDfbD2jEKwYUi56p9wwjSlJrUkmHtrYCZ11wL6efPo5TjxoF7flwRRLhSpasynLsKf+PC7/7FfYcOxC/WAAhSFbEueXWl5k6dR6P/e07NHWrYeYbH3Le5Y9QKPg4juiotBeStvYCRx0xjKt/cCi05AiQ4dNbaqK3xWL5omIFlsXypcZUi0s0pBO8OOVDzjj3L6RTCeKuLrNZUbRnfPbfZyC3334quZzP4iWtpBIpZsxchCTgkIN34aOPV7Nd91YG9Kwlk/VwylSa1EDMZdLk97n1zy9z4rG7U51OowPfpChdwepsnpvvnEKx6BGLCdpzATqAVNohEXNYvKyN752zL9vv2szzT83ioksfxI2ZYvR8IWD0yGZ+f+O3cOMO2axH4IeOzBJKhVmAIyXZTMB9D77J8y/PRXkBoInFY8yZu5x4XOCYKZF0a6jmpKNGonxAaxQKV0raA81Nf3yZDxe0QEyYqnolOyJdFovlS40VWBbLl5qy+XVSEihFLudz4/UnMmpkM8VCodR5IQgUFa6E1gy77NiDX//ft6hIJbjpthd4+sm3caQkkYgTd+II18WNOUQ5RIXCcV0KSrFyZRahY8z/cBU9u9Ug8mH9kh+wXV0Fd97xbR6f+DbpihgHH7gj0tW8NnUBr0z9gKOPHEWPhgrIFcnkPD5csIKfXP0N+g5o4KH732Leh0tw4w5SaVxXhJlGDSqsjZJmxpDSkC967D6qPzuP7IPnBQgUyWSC+/4+lVmzPzapS9dh6fI2brvrNTytiUmzTwJQUpDL5tmuodLkCikvLpM2gGWxfMmxAsti+VLTYQyMkLiOJObG+OvfpvDEv6YT+GGrBg3Fgs/I4V255NKDePrptzjzwr/jIFnZmmXowO1QgaaqKsm9D7zBxH/NIB6Ll6yoHCmhPsn9f3udfz33DvGY4KfX/4u7dziF+po0enXWFKIL6FaV4N8zFvDOe59wzNd3hpokr/97Adf/4TlOPG53kq5rZvBJcF2Xrx88jD479GLZx6uYM3sRS5a04XsextpKdtRMCeN/JZJxGusFR3xtZ5Z9sopnnmkxs/+ESZnG45JDDhpBXWMlOIJswWfe/BZOOmYXRu/UDR2ACjRBEBBoqN+uEq8tg2s2EDaUjfKIFovly4oVWBbLl5qyqcqhnx1C0KVLJd0bq/G8oFRwns97dKmpACBXDPA9xXU//zq1tUlqq5Ikkg5e0aN7j1q6N1XzyqsfmjXHYgQxya23TuHyKx/kwAOGctxRYzj5O3fwtaNu4ZbfHsuO/Rsg45moTypGv94NvPrKAnJKkXJjxN0Y1RVpYumEScfRMexsNg+FPEJrZsxdxCFH/g6UZsmKLI7rrBFJkgmHp56dzZszF7H9kB6hV190KERptULD9b9/jtNO3IPtulYybIcm/j19IVP/PZ9FS1qpqU7QWF9BIR9QW5Ng3D5DqIs7kFd2FqHFYgGswLJYvtxoU4Ol0DhCoTUEnkfPXg0M7t9EMfBKUqFQDOjZrYooJJQteEyb/jGVqTjtuSxLF64iKATsvdcA9ti5Ny+89C6xmMusd5dy7fXPMPHxGRx/7GiuvvQAujbVcPefvs33r3iQcQfcwMUXTODcU8ayZGELN135PP+euYTFn6zm8isfpqY6zbMvz6PoBVx2xUPsO7oPJ5w+DmNnJYw/ldAUPJ/B/bbj+l8ejR94fO+i+0wbjPJAkiOZ/c4Snnh8Ol1q00ipQciyuYoghMIrago5n0EDu9G9Ic01F+5LPCZ5870V/N+vn2a3kc2ceuwo8u0eSge8+84SdhzURIUjzfGxBssWy5ceK7Asli8xWkqkVsZ/SkmSrmC7xhR33PGcaYYahXiEIJMvcsj+g/nqIdvTWJtkp6HdmTFrMfm8R1OPWnaPOeSLRXLZArlsAc8L0Boq0nG6NiT5823Hc/j+Oxg7hNVZDtxnACMePovrfvsMlekYFYk4fqBozXkMHdzEiBG9eGHqfOa/v4JDDxvODkOa+LS1nYznUWpuIQTxdBLiSWKOS1VFnL33bCbIFv8/e+cdJ1lRLf5vVd17u3ty2Azswi4gGSRLUnyKCmYMCIg+n/GZfoYnguFhQH0qSX0GzBl4ikoSAQHJSdLCLrvskoRlc5jY4Vad3x91b3fPBpjZGXa3e+/38+mZnp7bt+t0pVOnTp1DlDNgExm0Q5xGhmM++u4jeOtbDuZ7P7iRcqWCMSZJm5MEQ1UBM6a28+EPHMMZ//0XfvqrO5k+tcunAbKOXKC58ZbF3H7nk0jiXJ+LhEt+90H23bkbqUgt2FdGRsZ2S6ZgZWRsxyjncKLQWIgtRx+5G1f+7dNpVq5k+0yDdsQWWsMAhov820t24YCL38uvfn8Hxxy9OwcdOpuB1cNcc9185uzUQ6A1M6Z2UHYxO+/YzflnnwgByFAZ79alUENFpve0cv7Zb0aSgKB77rkDv/zFe8AoCFs564xL+Pkvb+H7330Xrd0+MCglBzYGqxgulvjat/7GtKmt3HzLYzigNFzBlSwirmaZEuV1HgFjFO15ww4z2hkejn3uscQnXYchF/7sNnDCu085jI/8+9EcsPcMlq4YRGmF0aCMQazgJAalactH7LlrLztPakViSxahISMjAzIFKyNj+0YplDhUa57fXHovcxcspb2twAjn9zpKZUdbIeAjpx6BaOEnv72DWbtM46AjNW1tOb773ZPImYChoTIHHbM7pWKFd7z7V8ROMDqJVzUCHz3dCuy1xxSi9ojSsE8aHeRCbr7tUYZKMV/92uXkcuAsVCpl3nj8vsyc3slbX7sfg2v7WLxmLVN6Cuy/z64YwOJQjmo6DAV+S1G8WJWKZf5jq8lFEUFoqnlVtRK6u9tozRtcqcIu++3InQ89yf/9+S50YPwWYjUOlmLVqiIH7rsDH/jg+2DdMDa2mW6VkZEBZApWRsb2TZo0OTA89cRK5t73JK0tEc4l+2VA4uwESohjy+TeNorlCioy2Irikj/fx4JFy6jElsAoxCkECHKGww/aGTSUyzHGGOqihgKgncZp7660as0wd1w7j4HBis9xqqEQhewys5fLLr8XlxxoLFVK7LnzJE572yH88rsn+11M752PiMM4oRg7rIgPtZDKQJqzWdFfsvz057fxnncdw4v32hlbKZNmkn7vf7yUztYAEwSwaoCjD5zNrG+fjKGWd1VpUEHAOeddx+KnVsJwJUkzpJIThBkZGds7mYKVkbE9k0QWsD4Rw0MAACAASURBVOuGOPMTr4Tg1c8RXcCHMqDiIHas7htm1qxe/nn/k9z1zyepKk+iEXHE5TKHXPjv/P7i98NQ6TkywnuTkJQta4oV9Cadw70DuXPQogVKcZ0feWKrcg4IcKJoyQeYQCU+5w4lOnGNcoQaDn7xjixY+ARLnn4mUcSSmF2xI98SMntmDwfuMZkdelvZYXpHrfyCjw0WhszcsZNnl6/xISYcdWEaRvn9Z2RkNC2ZgpWRsR2Tbo2BQ4oxSsXP84b0h6KjEPKLH56CU+LzAqpEWRJ/v9gqeloCWN7vkzqTXrNxlIKe4PnCoGufZVocYhPFyb8bhySpf4T2yPCDc9/BtCkdUCx6t6jEwORiy9S2PBf/6t+x4u+R3BlIk19rphRySNF6B3jr9xZdIr7SCqHE+995KCe/5UBUpUztLlkMrIyMjEzBysjYrtE6VStGl99FEJwTtBa0U0xvKySaidv49RWHdV6z0YgP/Lkp6471n7Cpe61Xcr9NV1dulSo1DgKlefG+M6BssRUfxsGfFNSIU2gFO7S3pEKN3NZz+NANFVtTmpQvuxZ/KAAHCmH2zEmgFa5YwitVuhr5PiMjY/smU7AyMjJGjXOJ8uM0gsPaGB3r6gm9ekQlypjy1iUnekRuwg3QGzzZPDRYa1GD1hdJgU5S14iAVhrnwJZjv+moQGtTdV63zqHEIUqhBVydYAqFxuGUVxltsZJkckwFc+BMtkWYkZGRDQMZGRmjRycWKFe/IZaOImq9R4JLwj1oLRsoYS8kolRSDl0tntbJMcJq2VTVhz8ts1a1nVCn8RapVEipJcD2W4s+SCta+1OIKO90n5GRsc3inF9AvdBkClZGRsaoUVpVlSwAJZtOCiOJIqNFo7R67u3BiS4nGi3iLVfivH6URK0X8Qmf/faov6a+WP7/Oony7rwCll6gNTrRwHTyXKNRSvkHOjtEmJGxrSPKW+Nf4NVQtkWYkZExJhQKo8zzum3p1CGdOv+oLYQ2ivTDTbUQSfT3qjalktAR6723bqtyoyIqRr7P1BnsRufKlpGRsRXR2id5AG+tfqGOpUzsejIzjWdkZGRkZGRsw4irHaRJPRpqhufRHrR5fsZtwZK0IAoktt58XneaJ8XpmhCj0uqcdz5VyRtG/b4GxB8Ld/6IefXYfJNR316Vq8USakKccyMcq5sJh0+vk1qDmrG9uqQvAkl4iebtl67pxx2XTDxjnYAalHScbTIZNxh3wCd538w26+qfabDOVkMRiwgiekKmp3EoWKrmKKYFQSgUWnl64UA1FIzSiROps/7UkVajrnennI8IrV01SrPTm/b3aEiSwISSHGF342gw2zIO7/5iqoGGmlTOusmqWQdycTZJN5P4VzVhPSqlqqcltT8z2JRyQk3WZpXPiSSLdPGL9mS0bSZpq+MOghL/u7kk9LqxU8orzAlj2dZLQuCNGJY1QBTwzDPrMMEsVABSSk4aT9DXNy4Llg/q5wUul8rstufuXHMlzF+8gj3nTEMGS2hUoi0mIsooSq5IGopDJ5asqhdHsziQpi1DK7RzOK3BOe8gW99qmkBelZzKktSnUHsH5Oo/mgFFsvJJFA+ojQBNJOMG1LfXZpBT1axyzjkflF00Ij6IaVPICD7gqnN+VE3aqJNE0Wp0GevaqVJeQfYyudq/G11GqMqZjjvVxYA/5luLedvIpLGLVVVH9mi/TjcwKhm9guaq91JoVKAgEK689nGOe+NbksWj+EPD8pwxkUfNhDi5K6Wx1tLeWeBVbziVX1zyM9719pi9dt0RrGDE1TX60dS6QuGqzqlGK/9tOhLVstFbTYpPoqZSSZVJWlCdjE3g16ZQ1Tag0EnOttTMubVLN1EoTLp4SNsrsNEAUQ2LwlSPD6aZk0kWTU1Sl+LjXAEYHVRl9JOyrsvP2Mh4S0BqtUrrVKFqE3PDVmaS+6n2lz+QASDpYQefacDTqP2zJqeps1bVDnQ0qlzrkbRHnchidODH1mqK0dHJWT8HASgTsGrtOv74p7lMnfVy9txzNsOlIfzOnKBU/cpx81EiMupaECcMFgdYvXYl2hhE6gIPJrQU2njmqWX84mffY9bUAebs2AXWknprPZf9qv5O1dA6RqNNgEIRl8s0n1kARBmCIJExTmyUqS2zgcVcvz7DKI/WmnKx5GMINfhkNaI9J6KYXERoDOVy2Qe73EplmzhUmgKQNPCCMQFKG8RZnI2bpq2mdendAw06MCBgK5WaMtn4FVpFlCEfRTgRKuXieu47jT3GOkmarVJEYYQONOVyGRfXxp1G3kRLvGZ8+idARyFREFEqDWOdG5n2iUaWteYLabRBBSFIjK3EG9UXnhNJggobzbrBMrfO7eOwQ1/LCW88nnJpEJscK9RaV30wnXNEQcTU3mkoPfbOPy4Fy2t69R/qYx7nowLWwiMLFlEuV9CpL9YoPPOTUDVJH9C05gqcd855HHrYYRxxzEsYGhoiuaF3lm4kRkxEtcCFbW0dXPzb32OM5sST3srgUH/jjm0bm2wVFPKt3H7zHTz44IO8/4PvpRiXaivNdIO80VhP1lwuz4L5C7nmqqt5/4c+gIk01tmRs3cjyZoeRHCpvdwRmpBSqcIF3z6X/3j/e5k0dRLlSky1b6fdvFFkXB8FWhmM0nzvgu/z0pcdzYGHHMzQ0GD1O2hIGdO2mu4CCOSiHFdcdgUiwlve9ib6+vprY6tOZqNGHmMFCq0tPHDPA9x/3338+3vfw3BxqG7LsEGpl9FBlM+x5JmlXPK7i/jEJ/8fFYlxYptERr9fFwQa5TQXnHsB//Gh99Pe1kq5UkaSfcMxbecphUYxe9ZMeno7GRgcoH6Qrj/wMV4FaxxbhBueOhEBcYrh4jDGaPbcczZG6RFRkp//rslvB61tBRbNX8TNN16HVIp8/BMfpG+gDyfSsBq5o2a4ERFyhRwDa/q5/ebr0QbOPPNT6Mhgy/EGEbEbCSe1NbDRhjAMueB/vs7dd97Npz/5QQ7aa28G+gf9Ca0GPmyXHmwRoKe7hz9fdDF/v/Yq3v2ed3Dcy45j7bq1PuXK1i7o5pKe5sW3157eHv508R+55aa/86pXvYw3vvHVrF631vsskPhKbO0ybwbV9irQ3tHKA/c8wJ233EhPV4GPfuSDrFyzwjtMM7FOsFuSdOwRgVw+x+qVK7nn1htQKuBLXz6TUqVIpRT79tyg9Qg1P+gw9Iryb3/yY2649jo+/ZmPM2OH3RkeLlYnZMHv6DcaLvmhNbS1tXHBP27k1huv49Of/DCHHHYQ/UODtXmmQesytaGIho62Nq6+/Gquv+ZKXv/6V/OK005mYKAP58bWF+uvj+My/f19/oiZBp2ELFATGOF9ggON1va2rXVYKfmXN9AwNy5A1UFYKdCKuBLyja99ndJQkeuvv47L//RnXnn8cazr60vyfzWeil5vMNRa0dLawoU/+BEL5s3H4vjR93/IJz/zSVb29/vN0C0Qzv+FoF7Ors4u/njJH/j7NdeCUpx37vl870f/S6VSTkIabOkwlBOFStKlQFtrC/fdcw+XXPR7cMK3vv5NDjjgAIIooFwuJ1bZBpRSqPazKBfx1GNP8JWzvkKoDRd+/0cc+4pj2WHHHRgqDgO+7zZer6y1V2MMfWss3/zGNykODXHZpX/hxLe8mcOPOJy+gf7q9Y3YL0XVvIQLuRz/e8H3mDv3YeJKzK9/+gtOeuc7KJWGq9c3ooxQq8uWQjc/+eGP+cufL6M4MMR3zjuf//7ql4hjv32f0ohypjJ2tLdxxy23ceEPf4itxHzt7LM5/3vfobO7k2LJz79aa8awUbXNkJY5n8/z+KLH+drZZ6O05oJzzmH3Peaw5z57UywOVU/CjqYeJV0dJduo3uEotV5NfDswZ5111lmjvlqgEpcZLg4l5rKRBUpNa9W0EaKSUyoKrZPXlHeKr15T94Dk2LdS5KIcN157I+d9+xza2tooFYs88dSTnPDaEwjCEOtskqpi4/faVh/V00hAFOVY9MijfP7Mz4NooiBk7kNzOf74E2jv6sCKxWi9ye9rW32kbcHLGNG3ro/PfuazrFy+kraWFubNm89BBx/MzF1mEldiX+dao7eBso++HkEpl1gzNLko4ouf/xL333s/nR2dPLZ4MZMm93LAQQf4vf0krkpDtVdRKC1eRjTtbW2ce+65/PWyq+jp7WXps0spVyocedRRaOPlEhpMxvo6VUJbaxuX/fkKvnvBBXR2djI0OMDixx7nZS89mtbO9hH9t+HkdP4If6G1lQfve4Avf+FLiPMOxA/Nm8chhx7MjB13oFKpoAFtzNYv8xgf6dgTRRErlq/g9E/9F+tWryVfyLFo4SJ2nbMre+y1B+VKGa38It00mJwIiPY+STZ2fOZTn2HB/Edoa29j4cKFtLa0cMQRRxK7GMTPOcY01jwiyh+iUUoRBCEXnHMB1159Ld2dnTz99DMMDg1z3KuOQ0T8Il17R/bn6pNV/UQEpbXfWVjvszZQecR/z20tbRv9//MxoZbDDYTT/lELPqqe8yPT92utGR4e5J577+KAFx9AV08P++27H1EQ8eCDD2KCxPDWeEp57fCcUjjruP3225m5887sNHM6O+88i5k7zeSOO+/w+d4Sx+JGo341YbTmoblzaS20sP+L92fqjBnsu8++3H7bbcSlUvW6xjNhS3UrIghDHnv8CVavWs4hhx9Ez9ReDn3JISxcuIjVy1cThiGN57RDsqhLXJ6NYu26tTzxxJMc9bJjaGtr5eBDD+HZJc+yePHiauqYho2n5Pzx9kq5woMP3M+hhxxKR2cX++1/AOIscx96mMDUDP6NKqfWPkDjnbffwezdZ7P7Hruy64t2Z+q0Kdx1150EabC6BpUvJcpFzJs7j95Jk9hv//3YadZMdn/R7tx9z91U4vJmTZbbDIkPYBiGPLrwUQYHBjnokIOZOmUqh7/kcBYsXMjKlSsw2qCRtAs3FBo/R4ZhyIqlS1n82CIOP+Iw2jraOfKoI1i9ajVPPvlktR9q9PP2yap+kuoZiZ6ilXrB+vM4nNw1Ez0tVrVRFEp5jbK7o4cPf+jDHH/Ca3jNCa9h9Zq1aONXm1rpLZ7jbLxYsajEqUUpwVno7unm3G+eS1dXO+/70AdZuWIlSicrD2UaTvtI61ElMXastXR2dnL3nXdx+y238/FPfYKBgT68cdb5lWQDRpJO5dRK4URobWnh8UWPc/FFF3HG585kuFwithadxlZSerMcJbcmzrkRVpswNCgxfOQDH+aM/z6TWbN2YmBo2K8EG1xGUGglaGUo5At89MMf5aSTT+HoY49g3Zp1ftVbt5XYaPhtMb/oFWvp7Ori6iuvZmBdH+847RRWrVmJEoMTO+IkVSNR65PeOtXa2sp9/7yfB++9l/d99EP0rVqDU0nMLzROXMPVZXV81T7kTSFfYOmzS7not7/nM2eeQX9/H87FoDRKQJnUY7yx6jON7yUiRGFAPizwoQ/+J//zrW9QaC0wVBquBlRNx6iJnkPG6+S+Tc1otZAPfrBTyncA62w1SKUyVIOqNaIPVjXeauL5r0ODw/mj0rHzg4NJFA5/SeOR9GfRgighCAwWh3UOcRaFN9E6vBI22v3zbQnnXLW9+gj8gFKIE1xsiSVGaz9hS/r/baq3jY76ehFJEmOJEFsfosEphalTPNwE5fDakqQyqvTApFZYLLZS8aEoki2F+msbEg0KQZxDh4FvwzbGimDxDvyoWpDVRiTta05qY4q2QixeVl/JfhCuBlZtNJK+Js6hlFec4jhGKg4RhzIKSQ6XuQaOoVJb+OAtqkrhYh+LHyUoGelbti32zQl2ch8f9fvozjmstYj4Y+7WCTaOUekKLFktNxobDF7W+kbj/NFha21t4tZgJibe2RZFdF2qBpdMzIlcznkZUydTSU6j1ltJGol0gJakvVrxcsbW4az1fg8kqZ+SvHaNRH1Uc601YgXrLA4vo1hXndS0aH9susFIB+nUKm4RlLVVS4eLZcRA3pCTMvgFgPZBRrGWirXJosch1iJSi33ViH0RkvEVh9IqmUMq2MTi45L+qVInZ60R1YB9MsmEkS7yYolxIjgFYv04pJWvZ9Gp5aqxZISaPiAiWGupKIsTl8goqMSfuzo2bYNzyDalYNUPXMaYZFCrj2o+0serEVFK1ZmkBSeJSasuItwIU2cDijkiD1bqfFj3Wr0jdEqj1ecGk6wxIwbq9DxtqqBUIyw3GNVo32mbVRsPQGmU8dveDdhgR9Slrp2arMbBVbwg2w9bGuM7IxiDc7auR9YWfI0uIyTjj0rHlPWl1ChVa88N2V4BknnEOYeS2hzpoGZ4MKYBpauhR1iNdSLLSInq59NtcQ7ZpntTQ24BbhbNLWcjHhEeM9uDjBkZGdsgzT72JFFjG5BtWsHKyMjIyMjIyGhEMgUrIyMjIyMjI2OCyRSsjIyMjIyMjIwJJlOwMjIyMjIyMjImmEzBysjIyMjIyMiYYDIFKyMjIyMjIyNjgskUrIwXnG0xPsmEsx2ImJGRkbHlacxAqfACBhqdkFQLG3ynrpqbqDlIsr8nMT7q4341aqqKTbF+ChXBRz9vRpJcrFWaqS43FYiymWRUJu2XjPjdTDJuiuaX0dFsIkrdzzQeX7PVo95EnOZxy6n1C2plGoeCtakccoIIaK0IgyiJ/OynHFUV5fm/FJ+qT5OLciitiYKQfFQgzsWbX+RtlEKuBWMCwiAkn8tTzpW2dpEmnFyuQBiEGBOQz+dwYhs1dtwmyRVyRGEObQJyuXySfqTZBjoDVjDakMvlyOfyDbq23DTKGIwxBNoQBhH5XA4bx01n7s/n8r5PBiG5fI6omGs+GfN5otDLmM8VsGVLsw08YZQnyuUJjCaXz2NxNJsWqY0hNDm00YRh5MedMShHdYmu/N/KEVfKOOtwasN4/l6HGX87GZcFSym1EQ1SUWgtAIaF859g9epVaGVxiZnPl3mUBdcQBRHPPrOKB+bOp2vSVErFQRrVXLhxFLl8nsWL/kV7Zxu33XwPg4MDDZnCYdMIUT7P/fc9wqOL/sXN/7gb6+Imi34uBFGOJxc/zhNPLeGOW+5J8mg110CnjKY8XGbp0jXce/dcli9fR1wu0Ux9UiV5zZ5Zupr773uIXEsrxeFhn22+iQijHPMeWsTQ4BC33nw3w4PNNrYKYZRn7v0PsmjB49x2892UiiWaS8ESgiBi6dJnWfzYM9xy853ElZhmk1GZAImFZ5eu5tZb76KjuwNbGYOxRaV38lavQqGTPfaaQ3t7xEB/H26jX9f4k2QrGcN+mzhhsDjA6rUr0cYg4gur0bgk+Vohn2Pxoqf4+1WX0Nu1hqmTQvJhsFkFFQStFGGYI3YOF1fGfI9GQIAojECESpPKCKC1QSmDdZUmU65qGK1RxhDHzaZA1tBaEwQBlThu2m1erTRBGGCtYCtl0M2keNQwxqCU8u21SdHGZwKtJAnmmxGtNCowuDhuIheakWitCExAxdaPO2PrlwqwCCtXlXh2VSszZx/KK171Ciq27JNkVxPbgyQ5HqMgYmrvNNRmjAET4oPlcIlyVeDhuQu58g/f573v3J095uwGzqbZfb3ZUpvR61rKgRP/XgScngilchvEJVup1ORtFhkVNXO1Tn40i2z1pI5Xqc1a6v9oItaXM33eLHWayqdcrR8611x9Eur6pUrqUkCasL2Cr0t03TjUZHUJiYyKqimm2WRM26tOks0LjHp8rbZ1Sd6vQDmWrxngsr9ew1WXx7z2jSdQLA1V3Z6ck0TJGl+xx6VgiUjV6VUrxfBwhRuvvYT/OPVF7DF7Bm6gjErcmxXK72uqeFQ6Z9Jcan+Lt2Y14zqyJmvqq9ZcUjpAiSSZ3msOxM00nKd1WK97NFcteoS6MVw1Xz3CyLGnXn9sNjlFwCFoVNI3m6/NVj1SVPPWpeDrUSXSiTRfXfpxJ9V2VHVdMBZdIrV5abzuMqWljfeefDhfPf9vPLJwD3abM5NKXJnQAwLjULBS5criHIS5Ag8/9BBzdiqy5+zpMFBEtEZEo7UgaDZxEGCjrN8BxvLeRqMma9oUmqn716Spr8Nm6vywcRmbEUVz1yOM7H2prM0oZ31dNmu7ra+3Zq1LhcOg65SsZpRx89voBmOzA4fFlmOMDnndK2dx8923sducnUE5jEnfpca93TquU4QgiEsWCEoxNDDA5Ml5EIugwDm01ih001X4C0NzKVYZGRkZGS80yS5S3T5IxnOQmjGdgljondyCdsPJLqKuM3GO35I17hndCdX9UJXuGSTKV0ZGRkZGRkbGtkVyKg+Hs1JzYBcSf7b1nZQ2/1PGd4PqHZId7tRJQ2smxEssIyMjIyMjI2OC0C514tIoDFVlaoJtQ+NUsASldPp05F39vmG265WRkZGRkZGxzaAUKEm1qfW2ArVmoo5Gj0P9STcqn8uM1pwxcjIyMp4HYetbr5/v8zf1/02VXTbxyMjIaCx0vfKzvg6TZp8Zv3XoBctF6Ml8sTIytm0cDh9xXjsN2iWOnoJT+MwLdeOPE6GaoEKB4E+5KACtUSZxEzBAEECpgtgkhJ2rOyitxC8jR4QLc3VKi67zgkgKoZxf1qVrO7eRVaZKDmQrjYpCsBUkdqBMkv4iCY6sFORDKMf+/9TkVKGBIECKFUQEpZSXa1NrSSdInMjYZMfjMzIyNp8XWMHKyMjYpnGCUoI4H7FOK4WKvGW6diw6dQgF4xyuYtGRgUJUjeFI7GA4ZmC4QhQq1vWXeXrlMHvt1EGkNcopHBqtHSpnwBhkuIQkJ5GrnxQoVBiCAlNVnlKVJdHkyoKrxKDSUDE1JUsU4DQWeOSJFUztbGFyWw5rxYeLER+TrySO+Y8uY7cZ3bS2RrXgokazbPkAy/uG2WN6J6FSVMQxVKxglD8Kz4hSKQyaglE+LrIGpeqU0IyMjO2WTMHKyNiOcUp7JQmHMZqBcsyKNUOIqj9F43875yjogB2mtjL3kWVcfvXD5KIQYxTTZ3Tyby99EZ/5wl/YZ+9pzJjSzhlfuZKb/vJhdprRhZScN1hpw813PMb8RUs57c2H0hoorFXVzy+WHbfeu4hKRVDGv54a0ZSDknXsNXsSc6b3YK2jqJS3RqWJHhxEAfQPlPjQx37Le99zNO868WDUYJH0EI4KNUtXD/GOd/2Ez/y/4znmmDnEFZ9PsVDI8b0f3MTNty7kT799H9OmdfLwPU/w2a9eQblUQek0zpCP5tg/FPPG1+7HGZ98JbJ2yBvPTKZcZWRkZApWRsZ2jVdhnA9Q2BLxjzue4GOfuhitDEpJot74CDvDxSLHHbsbP/vJf7BqXZHb/vkULYWIeY8sJQwDjjpyT+YvXEZ7Vws7Te1i5epiNdx7mi1LR5rLr5nHhb+8gzeccACtuQLaxv6fxrBm9RBf+cbVDBUrRIGhVCwhAlHeYIKQlcv7+K+PvZI579uRm66fx+e+eBnKgBLHcAkOO2Am53zzzQSRZu26YYplb5WCZGtQe+cLbTRr1lb40S9u4Q+X34+zPv9YEGgWLVpOay7CKB/Lb+qkNt50wt7EsfhMG86/v986LvjhTcxfsBzCAK3Bpie8Mx0rI2O7J1OwMjK2Y3yOhWTrS2vi2LFqzSDf+OpJHLDPVCqlWhLg2ArdnSEMDHLgntM556snUmgt8MOf3sT11z+MNopCLkIpRdFBFOm6EMOCUoZiRVixaghn4bHFK5hxxBykHKOcQyrClO4Cv/rhaVx/82KiCP7tqN2JjOGfDz3NPQ8+xetesTe77NAJpQp9A2UeeHgpp3/mVew8s4fLr5jL3AVLCUID1hIGBqPqfLSUTkLfCOKESqXMUUfuyoEHzSKulNEC+XzERRfdw/yFS3zKDKNYtqqf3/zxAaLIkM9rxKVJYxU5rdhhejvYuHamJ3PCysjIIFOwMjK2a7Tf7CL1LjdGEQURt9y6gMcW/gsbx9UtumI5Zu/dp3LAgTtyy/WP8v8+eylGa5atGmTnnboREdrac/zl8rnccNMC8lHgPdIVGKOgq40r/3Qv1/9jIUbBeT+4kQP2n0VbRwH6hhHxn7/TjA4eeOBJFj6+gpNPPBi6Csy9+C4u+P4NnPb2w2gp5MEKSkEuH3LK2w5mzr4zKQ5U+Nmvb2PF2hKuUsIKSDVQn05zT6AKObq15uXH7s1TT61i2dI1iPNak9be5+qlR72Ijp42CAwDgxUemreMd598MIfsvyMSW6wTrBVEhKlTOqj0FQl0ktVvvYMBGRkZ2yeZgpWRsV2zYSgVrRxWhLLTxC5119ZUnMNiwGj6hkosXzPMF05/FV0dBSb3tJALIS5buia1Mn1KO8uWDXj/rshAZPjFb27jjC/8iSMPn8NbTzyIj336Yt767p9z3jfeyB47T0aGyt7XKjLsML2Lf9z2OMNlR0FrHIrAROgwhDrfLCuOUtFCqQhKmL9gKW879UeICEuX9WOM8Y78OJ8XNQr4xy2Lue+RJbzksF1w4upc6b0zv1L+xOCFv7yV095+CJOmtLPf3lN54KGl3D9vCcuXDdHeHtLdWaBScnR0Bhz5st3oCg22XN2RzMjI2M7JFKyMjO0ZSQLCOO/UbsVRccL+++/M3rvtQByXSc0x5dgyfVIhcTTSOAf9fSWchqeXrYU4plyOOe7YPTniwJm85/bHCcKABYtXcN4PbuKXv72TN79xf8750huYNquXIDR88vQ/cezx3+OMT7+C97z9UJYtHeAn593GnXc9xfKVA3zt3L/R0Z7n2usXgDJ87dyrOfrFM3nryYclUZjTgA4QV2J23LGHz376NbhyzBlf/DNYm4STUIhWEBluvfMxLr7kTrontWGUIVUyBQ3iFayKtQz0l5gzewq7zOjgC58/HmNC5j68jG9+6ypecug+vOu0Q/3pQmdZ8sRq8jN7yVVPNWYmrIyM7Z1MwcrIyDoTfgAAIABJREFU2I5xCCpVBpwjUJrWvOH8c67wMa5IFRBhYCjm9a/enWP+7T/p6IjYZWYH//jHQvqHyszYoZXdd+qhEluKw8MMDw8RxxYQAhOiY8sPzj+Zk96wL3mjYMUwJ756Hw7YazrfOOc6bLlMPhcwPFzi8UdXMH1qO7vMnMTlf32IJ55YzWuO25NXvHRXnn5yOUt36PKO6uKtRYX2AuQ6iHIhPV05jn/lHsSlmC99LSB2tdOQyjlksMwn3ncUb3/rQfz6N7cSV+KqkuXQKOXQOmTa5HZOOfUIvvilv/DT39zJlGmdaDTWChUrXHPDPG6+/VFEhGLJkoscf7row+wzqxeplMk83TMyMjIFKyNjO0aUQpxDJ1aXVx67O/+48b9AqQ1sMNYJrQUDZcdrjtqVgy77GH+9/D5efNDO7H/gTPrXDnHZlQ8ypacFFwtt7YZKLMzZYwrf/9GpXhsaLENsoUWDjZmz6yR+/LNToSwwHLPPAbO46E8fAmVAF/jy5/+Pn/z0H/z85+8n3+Gd16k4qDhisQwOVvj2d65npxkdXH/DAqyD4eEKUoz9yUDwMUqhmv2iEAX0duQxuQJWl1FK+6CqCEGQ49e/vwMNnPKOQ3nPKYex3x47MFQuY4xCo9CBQqxgrd92DCOYNLmdHbsLUKnUcrFmZGRs12QKVkbGdo4CVGuOiy69l4cXLqe9LQdsbKNLUylXaC2EvO/kgzAi/M/3r+frZ72B/Y+cTbsr8PNfvZcoUBQHBjn85XtRKpU49dSfUhHv4SRp0vo0yUMaBR5hz90m09KZp1wUjBLCKOSW2xZTrjj+5+tXkI80VoS4EvP64/Zkx8ntvPrle7D4kadZ9JBgURx7xByMCJV637Kqgc4HOsUJNnasXDNMuSwYY7xOhMNoaIkiWgqa4aFh9j1ydx5YuJzvffNaQq2SJGa1xLCDA2UOP3gmv/3NB2DNILZSH/w02ybMyNieyRSsjIztGJ0EaiCKuG/uv7jqmvm0tearGWuSEKPVZ3E5Zvq0Dk5+036E+QDQ/PW6R1m7tkhctuhAJxlvhDAy7DK7l6eXrmNwqIzSZoNNM/FuT2gtKDR33/c4A8MxymdjJRcGdHS1cOEvb8Y5QZymEg8zbVKB97/zSP7wy3f7LU7l0weKFUKgZEFEvAO7eElSXy2Upr8Y8+MLr+eD73k5hx0x0/uaOUE0HHPUq2lvzdOay8PKPl764p2Y+e2TCOoUJ6U1Emou+N4NPPHkWhgsgk3d5ZOQ7pkRKyNjuyZTsDIytmsUgsOtGeDsM0/g7P9+HbBp3cAC4ixRDKv6hpjU285VV8/l6r/NxaWh1FE4pygWh7j4F+/lxus+hRsqpR83MnugKB8oQiniimXNuiEfr4pUKRLvoA7V59Y5OnIBUrIEdUEmFJLkaNZYG6OVIEii8Lkk4pdXFEMDe7xoGnc/sIgFj/0LG/vTkwBxbGltyzHp9Ddw4Isms9OMbnaa1VszSDn8dmekufTSe3nqmTWJDpeopZn7VUZGBpmClZGxXSOSbGkJBLGFst30xWku6OTPrpYcF1/4Th8Hfv2s0AhxxTG5swBrBtHW+a21aqLmDW8fKZja3kLNdlb/m5GvOUGsrcX2VArrxOtmVmjL5/jueScxa1o3DMcoFEoLIgoVO6a2Fbjsd+9HYrDi3yfpxzlQOKb0tEA5xiLoSqreJSEiRCPG8e+nHcZb3nwAVCpJTsXEciVS20rMyMjYLskUrIyM7RidOmP70OTPjQWrLNqCVWC0Zsak9pHWGlenaCkgtkglTbnjlTllN6F4CEm4iPSP+t8bvqa0HmFUApDEihY6OPLAnSEWXLmCaINWPnOPdQ6tNDtOat24M7pLPsPaJE+iAi1opb21z2mUBiWKvXeZBEZji2WUmNoNMif3jIztnkzBysjI8IxGJ7BUlQfrnD/9p7Q3TjkfzmHEDTXe7OVGvjzR6LRoyjuziwY1XAGSaO6pG5kGrRTOWaSscTomyRKEEh9gVJzDifjtxGrZfaEFnXyGQ6FwJYtPmqN9NmrJFKuMjAxPpmBlZGSMGo3GSZ22pFUtTmny/3ptyiX+SLqqoNTF3Zrosmnt8weSqEPax7dSNvHQUukmY13+xSRSvVC3o6e8x7xL/anqP4NkK1H7wBbaaRwu0exSf7A0AVG2RZiRsT2TKVgZGRmjRpTfKqv+LYLSyisnKsnFV1NZktx8GqW985VKtZwXomypP1n6PA1+lezyqUTn0aKTQ36JGiQji1R/nxFyJhpYGvzei+ZjYyGSKF2CFp35X2VkZGQKVkZGxuhZX/FIlY7ay+mT5PVUwan3y9oCZVP1Cs7IIlV3LqsvrVem9WVc/371oqqRT6ohIzIyMjLGrWClJnl5nusyMjIyMjIyMrY4DpzyfpPeGg1+OVR/Sjm5VLzVfSLOqYz7FtUVrNI+a73RkJjeMzIyMjIyMjK2KgrEiT+conycPqccOIfSQZLAXkAE5RRKbSSOzGYwDgVL4ZyQeoE6LEEhx9rVRTDKh2eu/TsjIyMjIyMjY6uQuiv4E8CJfhIZli5ZxUBJYYw/CONwOJIgxeNkXFuEStVOCZVLZXZ70e789kbHM0tXs8PkSbihYt1FGRkZGRkZGRlbHhmxG6gxWkPBcPUNT3PIsa8FBKnG8ZuYPbhxKVhSTb2lECxd7QUOPeJN/Oz3v+e0k/Zg1oxeH5FQgOrR7vSE0WhIwyrr5C2u5kAqY7nPtkIiz6b+xXrhpElea1g5UwNpUofpc1hPpEaWcf2XEzml/ph+M9TlRl6GTcR9ajQZYYScKg01kdZlff2lNKiMKg3Fn7TFqpe/24hIDdpeVf0Ykx5ASGKUKerqM6XR5NxEn9T4HJiwkf83moxQl1ahLpmD3mxdQqe3REALg8USV/zhXrqnHcEBB+5FuVxM7lpLzDVexqVgaS04NMo5RGlK5RKHHXkIOpfn5xf9gT3nLKW3N6KrLUSqA9ZYjtgIWilyuTzWOSrl0npjXSMe19lYpWlyUYigvIwbXNOoclZnYcQp8rkIraFUrOBUzMgJq1FlrKEAYwKiKKBUqhA7m0hV/100mpw1GdNhPdCGKMxRqZSoVGWsp9FkTPIYpn840DoZd6ylFJdH1J5UnzUgTqpjp0IRhREA5VJxI7pyY8qo0nhk2sdcC4MQbQzFUinRm5tlfK09C01AGIaUSqWRceqqNLCMyfpcaUUuylMul4idSyQarVz+XhpFMXasWFNm/qOD5PJ78LZ3vg1rS2nWeX9XEZRKYtyNAyUio1bTxAmDxQFWr12JNpoRFgpAROEctLTkGRossXDBYtasWYnYYR/0zzlkVOY3f43WEJkcv/v179h3//3Y98X7UCqXqh/ZaPr4hvi4QYV8C3+98q8U8nle9spjGR4aIk3YVhvMG01ahdbp7rDQks/zz3vu45H58zjpHSdTcRWvdI8waDWWnN7QUevgUT7isUWPccPfb+CUU08mjEKs2GRRkCpZjSRjkog57eYCYRBQHC7x+1//jtef+EZ6eruJK3GdetJoMtZIjY8KhdGGS353MfsdcAD77LcPxWIR6r4LcQ0qY/pT+7q87abbEIGX/tvLGBwaqlsQNCYqsVS4pK7yQYG5D85l8eJFvOnENzNc8hPpRFgnth4qiSvndYIojFi1YhVXXH4Fp73zVMQoYpsuYBvVPUeNOCpnjMHFjt//9iLe/LYTaWnJE8fxqPUJVTc+OQftnVPYZfYspk7tYbg06HfhtKCq9iuPc44oiJjaOw2lx66kTlAcrHpFSzE0NISJAvZ98Z5o0VhxtUDHoyhj+pW1FFr41+NPcMsdd1Fo7+K/zjyddQOD1dAQjaiUjwhoiO8c5eES53zrOyCOM846C1GCtXbDNzQK67V3YzSFqMDFF13K/fc/zH9/ZR9mzNqB4cHhkfI1kqyJjOkQphR0dXdz9hfP5q477+Njn/gUR730SPr6+3yCYdWA09b6BRbo7u3iykuv4MZb7uR1bz6RE17/Rtau6/MR2pPrpZHqMUFJIq5Aa3srC+ct4O5759IzaQaf+/yJLF+9HLv+WrTB5KzKCORyEetWr+UH//tTtFJ86etfo1QpUq7E/loasL1SM045/KQcqIBrr7uBu++5nzO/9CUmT57McHEIGjlemfjEAWmiga6ODn76o59z5533cvqZn2ffF+/DwOBQNdZtI9Yj1K3rBNrbO7jh7zdw0y23cdIpp/GqE46nf3Cgbo/keahekKhQWrCxZbg0hLOC1qqabWIim8UEBxqt7Q3bSoytxNX0FT5433r7/yPeWhPLOYc2GpXP890LvkP/qtX85dI/csqpb+fglxxKf9+gv9/ojW/bBkolJxi89Fpr2lvy/PA7P+b+f95DJY751S9+xn9+5MMsX7kC0ojSDSen/5Eqwp0dnVz91yv521VXEccx5513Luedfy5xXKqlNmk0OZO6TCuztaWFBXMf5uc/vpDy8ADnn3Me++23D047KmWfE6/xZPQ/0jqKooDlS57l7K98GW1jvnf++Rx9zNH0TOmmNFxMM8w0oJy1folRlIc03znnfFYvW87lf/4Tp5z2dvbaZ0+GB4aaQkbR0JLP85MfXMi9d99NJbZc8vuLeNNb3kRcHgbAoRNlpZFkBNLj9wKdHR388eL/47JL/8ya1av46Q9+wGc/dwZxXE78eOr9JRsI5edZ56C1rZX7/3kf3//u+QwO9PHtb/4P53/3PMJ8jlKpDNQFzm0kORN9wDlHLpdj6ZJnOPcb32R4cJBvnP1ldpmzI7Pn7MpgcTAxyD6PjOl4PcKo98LnDTVnnXXWWaO+WqASlxkuDiXmspG6XppiQilVffiUFRrRAsonSlVq5DWq7ssU8Y6XuTDH3Xfew1fO+jLtHe0Uh4s8/vgTvPZ1J2BCg3UWrc0G99nWH/UpN3JRjqef+hefO/1z2DgmDAIemb+AE173WlpbC8TW+vfpDb+vbf2RtocwDCkNFznjv87kmX89Q2trK/MeepjDDz+UHXfaiUpcwc9VaoO2sy0/UvkAdKApRHm+9MUvc+/d99DZ2c3ChQvYadZM9ttnb+LEGtlodSlKoRTV9Dhtre388H9/yKX/90cm9U5iyTNLcGI56qijkuPPG/b/RnhU61JDW2s7f73sSs475xw62tro7+/jqSef5uUvP5Yon6suFpXyPhpbu+xjrlMR8vkCjzw0j89/7gtgLRqYN38+h7/kJUyeNoVKOQaVpkBqLBlRybgThPT3D/Lp//cpli9fTqGlhfkPz2f2nDm8aPfdKVUq1bG4kfqkfwgimiDQGAynf+p0Hrj/QTraO3n00YV0dHZw6GGHUYkr1TpvNDlFwMeiUuSjHD/63x9x6R/+QE9PD08/9TRDwyWOe/VxyVYo1QCimxp//PwCSnTSrv33qBJ9pH5eXl+nMdrQ1tK20f8/HxOqwm1MOK29QBrtc3aN4iONNgwNDXHlFZcxbeoUWgqt7Dx7Fs8ueZY77rjTO2ZKLYp8I6F1rTKtdVx33Q2EUUjv5F6mTp8KCNf+7RqMbvwsRlpDEAbcccfdrFq5nNmzZ9Pd1cmUyZO56sqrKZfKaGNQigmJmrslqffhiIIcjz66kAfuv5c5u+1GS0cbO+88kxuuu45ly5djQrMVS7r5KJJtfQdGKfrXruOWm29mz732JsrlmD1nFx647wEWLXyUwHgZG7FPpmgMtlLhuuuuZccZO1BoyzNr9i488eTj3HHn3US5/IirG420bgJjuOHGG2lpzTNl+jSmTZ9BXK5w8403EZowuXgrFnQCKOTz3HvnPRSLRWbOmklvby/tnR1ce821VFzsJ8tGPFgHgEbEYYKQBQsW8Nhji9llzi50dray0047cstNt7B69WqMMYzBxXqbQiXRnYIg4JklS7juuuuYveuu5KIcu++xO3MfeIBHH33U6wKOagDRTaF1YtjR9fqJJl1AbCw91oTIMTFO7uNHREYMzkprnIvpbu/h4x/+KK969at41euPp2/duqqSkip0jUQqp1IgaMTGdHd3c863zqOrs4P3f/D9rFy1Eh0YxDWmjM4JIn71oRQ462hvb+fuO+7i9ltu52Of/hiDg0NVA6gkJzb0ZjgRbjUExDmcVknQOkU+l2Pxosf448WX8OnPnk7FlaunXhuxvYpzuPokxyIYY8AJH//Pj/OZz3+GmbvsTHFwGBPUBnNjGkuhTOX07dWBMuTCHJ/82Md569tO4qXHHs26vnXoZMJqtHpMsalFXCniSkxnZwd/veqv9PcNcMqpJ7Nq9UqCMKr6f+pkQmok0vFVa40TS2tLK/ffdS/33n8/H/zIB1i7pi8Ze9OtXkGpxmqv6U6P0gqxlkK+wJJnl3HJ737Hp08/nYHh/sSvqC7xeYO12do8qZJxR5MPcnzkwx/n7K9/lXxHC3GpPGJsmjgZ/dwFfi4bj5P7ZmlIDr+ls75SNB7SLyh9KCAIQ3SgqYgDFWKU9itlETS6IbXzWkPw8TyC0G9z4gSLIEYIgyAJeNaopG1CvLyBQXTNP09rnXhppt/H1inluPBOdCCSmLMFExiMUljnUIFC68CboZM6b7T2mvoJikh1C81ogwmSLXqjCY0hCANU3RZvw+GXt2jttxICY1DGKyRGgzIKE9UUyIa10unaxBVGIaCStCBAoDBBiCTKidYTEwdoS1NfRzoNJml8P3QotNG4tD0jDRsDW2vtF+AmgEDjsIhT3rHfmJH9Fhpu7ElJ5wcThGgTYOMKJgh8H02Ur4mWzTmFiEuMBONjs/ahVJ3j60SZ1ta/jziwVnDWeWVDYmyy0vTXqoYczFM5U38VZ50/yu8FxlqHlfrVxwj//4bAd+7a304crlKhIoITh40Th+KqqbbxZCSJfauV32cQB3HFYsWCddjY4qxFSJKGirfKNhJaaxwyom9aZ5NYlf6kq7W2umhA0ZB9MlUkSfqkFUFZi7WCFcFah9iJG+u2Flp0dUntnGCdb69iBRc7RCzooLrqbsS6rF/IiEAltoh1WCdYG2Otbfx61Lo6f4gILk7aqLNYW6FiLVpGWh8brS6rB0mS59bGWOXnFWcdrmJrh8Dq3jMRYqbbk+nz8bBZCla9Q5jX9MZXiE2hJMlsnYR48MFKHS49B96YSnmVWiR8L1nt0I5D6s66N+oqqx4fxNDVBr+6QGYNurgCRjbBNBWDz2JVSx5arb4GrccR1aMUCgOS5iL1VzixDd0fpe6JAmpRv0mCDY5cKTdsm5X6p2n8Qm+rEkA526jNdKOkclGndK1vmWjUuqyV26ERP0c6UKIQ5UbWdQPKOKLMYhDRSTgY58datWFdTthcmfb9cd5wTAqWIIgCE5j1YkbU9iwnhjTUlyLQAbkoIpeLCLQh0GaCP2tr4uVUxhAYTRAEBEY1nYyCJtABoc4R5iIvrzLNIyIAQqg1YRgSRnlCHWEl9laBphFUUMa3zTAMicKIQAdYXaGpZMQQBAFhGBEGhkAHBHqsWSi2dYRQhwQmIMpFGK0xyqAbzNLx3AhGK8LQEEU5AhUQhSE0WZ8MtEbrkCgfYUxAEAS10ylNIaegtSEMDPlcHhMEhFqDDnhhZPRzFhrEKnSQKHab8TljUrCUUhTCArnu3BapN5UM5L3dPXR2dNLZ2k0han3hP3iLoojCkNZCG635NtpyXUQ9LVu7UBNOFEa0tbTR1dFNT3s3cUt7w/oFbIoojFjZupb2ji66OrqrPgLNRBAYBgcGaW9vp7ezl56uyVQq5a1drAnFKIVoTU9XN7lcC91tPbTm2rZ2sSYYRRQGTOrqZa2JaM93kOvNP//bGowoDGkrtNKSa6WztYtC1HxjaxiGDKwdpqOtk872bloLbQ3pP/dcGKMQBz09PbS1ttPV3UUc261drOdlbBas5BTRljollG5DaqWxyZcZBuEW+ewtRW2r1SuT0HwypmhlKJVKKOXzgzWb8gHgrMVojVbeItlsMqrkCFZoArQyKJqvvSqlEOfIh7lq/TWdjNTGHZfEEmo2GT1+Kzv1f4zCqPn6JAoThl5O5RWuppNRKcrlcuL/LWhlCIMt50u3ud/nmBSsLekcuEFci+RpoznrPRfp7q6PDiZVh7pmkhFqdam0T97tD8Q3l5zV9pq6Byb+Sc0kYxWdBu/zLbgZZfQBj0cOqs0op6vLvCbrOQ03C6J1deuzOhY1WV0qEUwSfkLRnHWZylZvnNtS9bi5n9MYNeCEJrN4VpG630226KiRtk3nHWuba2jzjBjMqiNBk9Ks7fQ5aDaLwPaEXt/bu0nrst4du9mUq43RCOFSttlw4SMaSHIEvNmoDyTc1N1hhMKh13+huWjOsXu7xLu1Jm4KzTxhJV2xqWVMabAguBl1rNc8GyGg8XbQozK2NhsO3E2qXEG639vcJKEMmrgWa0uAZhYSml++hHTdo8jWQBlbjmafCrZ5tpPxbT2yIS4jI2PLsz2sfzK2HSZ8i7A+f5APSlhzohzTinDELtL491q9D4UDfHRqIxqXBGMbu2m8LlcRoNYLxbE5DnGOzYsam/qG1D7TgUvWaeMy+adCCc7pWtnU5iuFNfnGfod6H5jafWpta3OotVVQ2iHoEX7NW9IRduM+PmlwRJVU5ebJ69uo81+cD5E8bsW+GsBxPPdI05oIGD3euqxrF+IQrUZE6hsr1e37iVgLJF3J4f3m6wKqP/9bN8iY4XAuyZkIPujrVlil1dqrHyNUUn3peCiM3cm6fu7wb1XVelXjGHi2FVedEQe3fFRXJGkMtW9qfJW5ue8eGUTXBxIXQNd+bN6Nkwp0Aiqp082WcALqMe3T/ndSHyL+IMT4b78BE6pgpUkoq0lhgc2u8hEKi8Ho8e23+obt76GcIEqqJ73SMo9qQEhkdFrQKJ8qZQJqxhiD2owbbagEJAHSXCKTCE6pMZ8scc5HA9ao8elpI4q2+QmdN6bspFGZlRqZumm0ilHaBnyZNHo82mNCoAOM1klgytGz8TInA5NYxIIoPea6cA5E+TarlZqQdD3GGLTSmHB8w0ctDItvq04carMGulobUMpUc5mOq2zG+NynE3EUPNHW/Djj0E6NavGTjqfVvxGU80l+FRPjfxJs5nc1sr3W9RtxOCVoN3blqjoOo6tpTyYiAXwYBhgzcVpoLRWPq44do6F+nEJ7bdRPk+MvmzaGwGx+f6yvz7ScIpIkNBjHwkcJWtSE1GMaIkqPw/dK4TNueF1PJ4nNNdq5cRokNs6EKljVATMp6LPLlrJ69RpcXKFqxar37H7Om/kvIwgi+vr6efKpp3j00YWUSpsR1FCBs0J7Zwe9vb10tI0MGrhBSIjnvJef9IxXx+lbvZoVq1ZRLpVwIn5G03rUK1+loFAosPTpZxgaGuDxRYsZGhoai3T+u0rSCrW0tDJ58iTau7qq/gbi/GHssVhklDh0otQO9fWxctVq+vr7a0PBGJwZBChEIf964gmWL1vKgnnzcM6OfmWpwE8vGqMUUS5Hb083Xb2T/GBQPwkldTkaRVI7jTcAKErFYdasWsOqNaurcZDGar0Iw4DHHn+M1cuX8/BDD6GNGVvS7jo5w8AwqbeXnp5eVBAkco2tPJBYdcQnuS1by6pVq1i1Yrk/SFWvT46ymNpoBgYGWbF2NQseeYTBgYFRB/wTqJuI/UTV2dXJ9OkziIIAozZ3kaoA5xd1IqxZsYI1a/solYYZ8fWPtk9qv6pdvWIFTy56jMd23ImhoeKYv3+lQJSis72NSZMnk29p9RGixyhkmnNO4VBJn+xft44lS57Gxm6kWM8l43pRb8Io4oknn6Q4NMTjixczODS0fmSK50WUD8xaaCkwqXcKbZ3t/nVtYQxKYH1QXpUoQ8ODg6xcuZx1a/vQSm+WMTGKQp56/HGeeepfLFqwgFK5PPp+XR3jHIIin8szZfJkOnq68a+OzRMxXeA65zAoMAZXqfDs0mdZu3atv9dmCBkEhmeeeZalS5cw7+G5KBGcG+18lhbOIUpjtGHypF4mTZkC2ifGrgXWGTtaGWJxLF3yDGtWrfH2q1HqAOK7tS9mEoNiXX8/8+fNo6u3e+xjtPKphAShs6ebHabPIDDGK70v0G6Fkgk8f5yaFv/1zNNcc9kVqDV9zJw6jdZC68ijsaORRfx3a5Siv7+fXC4iyufGNmHVfZ4ILHl2CX0SM3m3XXnN619LoPSIvIqjIllarV29mj9deRXLymWi7h4KHa0oHaCREXkEn7doSZb34aEBDAGF1pYxHD/1sbMc2icYtjGD6wYorVnN7K52TnzD68kXChvZRnxunHNoramUi1z6l8uYt2QZQVs7U2bNQpI9Do3fhhlNA1dKYV1MXImJY0dLSy4ZUEdXHpVkTdNKEztHub+f8rp+eiTm+Fe+ghk77ljbbkrK/nyyptchwq233MI/HngA19ZOe+8kwlyEDtK69CUYVTkV2DimWCrR1taKODXqiMq1sUShDQytG2Bw1SraK0WOO+pI9th7n/W2UEa32krb98MPP8Rd199ErmyZ3t1DLp+r1p0Ao15gJjb2df39tLe2oYPRLyZ8eZIn2gdlfXb5SvqNsOchB3P4Sw5FqbGvIlMZn3x8MX+86mqGwxwdM2aQa2lJkuJS2xYYBen2yFB/P1EuRxiFSVsdTWP3A5fSGmtj4thSXNdPacUyDnvRbhxzzDHk8vla+xulfM55BXLlimVccd3feaZvkKCji/Ypk9BKktlo03NX2r6qG43KzzZxHGPjmDAXEfx/9s47Ts6q+v/ve59nyvaSZNOz6T1ZEiAJhCQQeu9FpIMFURDBglJtqCgoKgj4FcWKCFIFAUVa6CEkJKSQnmzqZuvszDzl3t8f93lmZkN2s0k2u+P3+zu+Vjazz8zceu6553zO50i5B7pLgFAILUm7KZKNCbz6HYzt14c5M2fSq0+fYOx3vw/D9Rzu2dbmZh75++Os2VFPtKr2SXRfAAAgAElEQVSKkl4VWNLGCi8snTygQ2+F46RRrqKguBBU5znOM3tSaCxh0dLYSOOGjfSL2hx/1JFUDx/OnmREh0SgAGjNv/79Eh+uWUMyGqOyf3+EZe0VHYgQAuX7pFKtFBYVBR+/B2cQGhXMges6NNRuptz3mHngVA6YMmWPzatcrrG3336L+a+/QYmnGdJ/ILa1B/oiZNTIuQi2NDVRXFKcdWLsQcOyS0fx8dp1pOI2Iw+YzNy5czPt7upM2i41sABWrVrJ848+ydR+gzho6HAkoKQ2OCXJnt3egueFlEZ/+PsQhJUGG9DsuvxzwXzsIf04/tSTiUWiWW6UdgZXZT8CgB07dvDXp5+ipbwPIw88ECtTVy+MVetOT7zSGqmNZyD0NnXemg5PDXOTCskRfc9l9cKFVDU3cfLxx1BWVh58Twe4LKUyoUQhBKlkkj/9+c+s1hY1c+cSiRdiaRNazcgeGKbhISiFwM94Yzrfz+wqNUadUpo1SxfRuGABF51+GsNGDA/q/oWYpfY2SogtM1b3E48/wbu1Gxl/9PEUFRcHh6vIMer2oJ2B8S2lCLxze7a1soawNEXOtWDburV89NwznH3sMcw4ZAa+7wcejfZDt7keWSEEHy5ezLtPPcuRE6cysKzEhGBEjsWxJ/tSBpgbKU24PMT7dVayUCKEkGgUm5uaeX7hAvpNHsexJxy3u+2Yeb9ZCmZdbdm8mV/96c/0OfBgBowYnRMSEpnHOx+lMGNjSRul/WBfZT+rM+/N/st4Q51kko9ef4XqiMWF55yDtG209jtcq1lVYPrYWFfHL3/3EAUTJjBs/CQsO2p6JiA7iZ1oYw64zKwTYcKznQ4vtO2nDirveq7D8rfnkV65guuv+gJFJaWmj0hkJi6zcx+1KUysTAhI+Yp7H/g1dcXFjJk2g3hJqSHQDI3IXOhXp5oZXKCFDHRrJ9/X5iOyX+p7LmsWLWLT/Hf4/PnnMnz4SBMhECA7BNeFIVAz3489/jjvb6tj9IxDKetdhRAhqnEvPSmBPvCVKTW/ZzUlA9dO0AKtNVvWrGbD/PmcOWsmNTWTzfkRetg62JcKhdDGuHrzjTdZ9NKrzBk7kVFVfch4OjorO+slYUL3Wum9A9YF7dbaAEJW1W3l5cUfMnrODGbOPGzPnS2dkC41sDzlc/9ddzNr8EgmDR6I25pEk932e2sb7mzg7J2E7meJHS/kof/8mwHTajhq7pFo32/D9ruz+ISlp438+eGHWSUEU+ceS7K52Uz4vszLPuyrXDE3ERNSiBUV88G/nqO/43DpxRcZJaB1+/FrrfEDjW5JyYsvvMi8des54IRTUOkUSunAUd6zojOKXVJYUsiqhYtoXvQ+X/viVcgglGbJ9oG/pg8KgcWSDz/koWefZdrZn8KybDzH2YODdP+KwaJAtKCAuk2bWP/6f/jiBZ+mvLKXwQ1IkQlTf+K9vkYFIbOGpiZ+dcePueSQ2fQrKcVxHPQ+oSqMdMWe1IF/L2pHaNaK37zwHCd/9hJGVA8zmDOrg88PFYsFiZYmfveHPxM5YCoDqkeQTLWAlkFoowtE6T2xzj7ZTimwpCBaUMgbTz/NyeNHMm3GIcZYRmZCYp94qw6NZYkUmkce+ztrZZTxh84k3Zr4RGhjbwvS7ouYsrgmTG9bFnY8xsL//IdJhXFOPuUkfF+ZKhXt7kmDSwsNj1de+g8vLP+YQ886h1RLAl+5QRJRnuxJaRErjLNy8RKsVcu46oorUID2faS0aMeOJOynEBYb163jnkcf45BPXYDreviu24Wztm+HiUaDkMRjcVpam1n3z+e45tKLiRUWfvIg3IX4+FhYtCQS3PvdH3DlcSdTJAWOkw7TIfZeZ4TAvH0WjRaSiGXh2zF++fxTnPaZS6keNKgLPrut7JOeDd27YUhrxbLlDIoWMXFgf5zWpInfBge2lNJcSffiR+7j+3Pdib4HOp3kiHETWPn+B/haoXcD9JRao3zjHanbto0VOxoYe/AhJJtbzBgEGTN7/WPtw3szP6CERBjHAqnWBGNnzGJ9Mk1zUyNCCoP/aG8ug/9aUuAkU7yx5COqD5yO9lw87aMygPeuaOs+/AQgfiEVrc0JBo8bS6q4hDVr1mSxV7r9241QoHwz2/MXL6F62iFEonE8x0FIgxHs6T6K4DBXAtLJJL0GDkL0HcC7783Prsl2V6wy4xMYX4sWvM+Bg0fQr7IPTspBiQBjtI/7qUv2pDBg5rTrUiojzB0/maXz38/0XXQA7VKoTPh1+YoVbMOi39ARJFtbQAmkViC7aL3a1t6/1zIz5Xk+6WSK8bNm897SZWYtWu2exkYyfYDNtbVsaG5m+EFTSSVa8HNwleF3WXIf2rmXP+YyE6xX7eMkU4yfPYfFtRvx3TSWlCgJ7SE7QkeE8Zq38v6y5Yw+dCbpRAvad0GJAGjds7onxA4p5ZNMJBg+YSKtBQXUblhnbA4p6eierVQ2bDfvrXeomliDUhrfcRBCo6VJXtj3tu7bGhBSIpUilWqluKQUe/BgFi760HSiEw5Oqc2C/mD++xwxoYZiW5J20ghtdJKEvdcXlrXPesv8WKAUadfFFoqavgN557V5Zst1Mcv/PhlY2cwds3AadtTTv7LSgOy6/S7VsShpQIlCKjxPU9WrN72LSqjbUZ+pj9fue3PckS0tCcr6DyISi6O1j5RdmGW3TyKQQchGotDaR9gRinv3xnXS5u8dtFPk/NbYsIN4714UV5bhe56xvsIc856WICKlg9CJFJJo7z6sXrMaMAev6sjbIEBKge84NPuKigEDcYPblVKy3YOgJ0RqEzb23DSDxo2jLmGSH4SQqHZjeiFyxHSkfutWxvXth3IdVCcUZPeKyhiKvu8xpG9f3JZW/Aywtn1DWSuNCtZjY3OCXsOGopSxyCQaJbvQg7UvonKAA75HYUkp9S2tOKmUuct3qNCzyLxNW7cQKa/EsiOZi2u+SBjOVZgDKiItouUVbN+6PeiCbNfxIERIAyNobGyiSUiKyirxfN8YbhKkgX32qOigHSGmTPk+RX36s37DRvOA0kip2l1xQpjz0kklqUu20mdQNb4TJGwp0SUUBF0hMmyHBj/tUVrVjx2NjcFLercWg9bgK5+Whgb69+6N7zhm/gBz+cuPdRvuSeWkGD10GAVS4Hlel3tK92nZ7mztWZbMnMUGBL07BdKNojAARyUNTknpwKIO29d+O2XOMElLoi2BUr6Zi/Aze1yM29NwlhgRQqNzsnN0B56d3O4rpSkoLja3T+MQCVKne76fSimkkMhgVnzfJ15QRCRWEDxAhwdrOAKOm8bXmogVDS4EElBZBdODYjAU5lIAIJRASotIEN7V6A7aafBqIcY1EonhaWNwhWH6zsN8968oZTjpjOWvTHjXtjO4o462lZAys9QtYQM5nsvwUM4HSkkBMgOsFijlUVxUiCVDa7d9ha4DwLx5p8SyIpk7jtYhYjcP5lLoLCRGaxMVKCgg0dKS89CuF6zWMnPx870AB5rpt8GNmsOwZ/spg+CWyeaUaO0TLSlE7kQf1N6KC/E9iZYEKc+noLQIX/tm2QZ9y499qQNjNuSJFBk6ls4kX4kAD2jZEXzlgzQ2AVLm1+UuUIZKgRWJGAiM7noIzD7RNEgpM2FCc6PKGlQaA2jOh9g5kNMW3cYREx5E0vihdylCCKyQQyv3Yq2lITTMi4UTKColUAHJogaEyirpjjJ6tMzhrhEGx0NA+GeUYPfjO3YlmSw6IQNQviAejyIt03YpZYdIFKENQFtokckP0IC0FFrRBeikfReJREmDXdHB/jHpxeZ3KTqaCdmupzL0FuVDH8HMZUiUGWZQhptQCNmh/SG1yPFqZAHCQggzZkJ3EEbtRtEEh4tCS41FkLAjBEILlGjf158LmhaoIO0iHDfTRy16vpdSm/UqtEALw2MlhcDzveCJ3PzFnd4rITN3FhQWFgVDJgJcVlcgBrtCJEhl9mbo5jaIcIAAgtH+vpQyq58ikUgQyTfJJqHuyguREonhMgvPyfC/spOhGhFu48BzJYTMSbDqIsDxPopJRBLmIqt906r9EIraZx6sNoOeY2jk0ZIxkmlnNmOi7d87eu+uX85ka/T8esmKNJ4dnQE3tPlj+28jq8zbZEFl3OL50cmdN7mibYp3SKi52/fnaoHgt5BpOB8k9JrqjE84K2KPLi6575V5tTHb1Wc6DKl09GZ2eZzJ3H2eDxI0R4aZodmoX/DnDiakQw+eWb950UsZ9EOY0K0WyhDu2uZ4kXJ3dDimo0ILotFIkMMbUpHkRQ8D2YWCzKiTzs5FlrrFeObyaENmxHiUd5bOhKVz+czCT9IZLzXkz3waQ1Kzf8+2Li+V067kuhe7A7SU+b78OlT+v3StGOwUXex+7pq81fyTXdweVY53Yb90N2csu0MHdFmm0f+XfRGd8SqG2Xedm+/2UUz/iyQPYAg9K2onFRtedPeHTsj9ru7X5/vZwDL3b60U8UgUbBsQKC+N53gEcFSDUwgjWdIoYhGUoFEBW6skwKTk6M5cHEoQPMHXCktKIvG4cUlojZtOoXKYyfNFcjOhpAod6V1TzuT/logM4LmzivwTEoR+FdoAbyWAb7KXOrHxlVKZ8EgG0RVioQLHhRSiRzb5zqK0QiiNHYkgY3FAozwPz3WDVH9AG+ytieAECBgZMicLyGBjQAnRtt/hIRn0X2ISd+yCAkCgfQ83nTbA4RBakEeiMOOTm/DQ2eoA/1vF8BvpzHklAb2bMQmHr9PjFpYR2sd2ahXE/VEBH1o+zVtXhMjMjdLQQ0gsGdJ15FM/Pylmbgwti4xFzGuei+OG7Pp+FgMf1AqWUppyZsG4hZRPIS5P5egdDVlbwQIU2HYEKxY1H+m5pF3XhAdRWN0wXvvVwDKKSmJHony0qZYVG2tJe2kmVg9jZFV/fN/FsiSWbSOlhfY1vnJQCpRQ2MJC2ja+75uBzQ3law3Sxo7YCCERWmUy3lJa8cqiD6hvaqK8pIQDR4ykNBrJqwwxIEgnN4e5sAzKy/dVF1UZ+78k+zaxGS8YAdmhzr7QWWJxU17HWGkCTNkJ20L5vtkH5kTap3Z2iWizj4Rts6F+B++tXInSPqP69mdC9VCzJ6WNsG0zrL6H63kIoRHYyKgIUrGDPEYBlgLlKyzLzkkSMqEQ1/cQwmJrS4I3P3oXIWFwnz7UDKkGT2UyxfJJhDIGuyVtcwXy/bzK2ut+Mfgqw8xuLsCGuLXjMdnzaQ1qpu6DESLCGqpCGmNQCaRsHwPWM7KvLiwzF0JKpCVQPhiC465o236UwLhatXUzH6xbi68UkwZVM2bAADzlYksbIlEkCt/x0L5JfLEtG0uKbDYuAYRAacO7ZEWwAvi3FOD7YCkPadus37GDd1YsQ1iSkX0HMHnIYFzXzTrO9rPsVwNLB/dZKxbn76+9wi//9hfGVFfz2VPOZMyAgUQiUYgUsG77ZlZv3cqAsnKq+/YjGgU3lSbpurR4Hr3icYRW5ugKssTseAwtLZZsXM+WpgS9SwoYN2AIUUuyvbGBp19/lf+8+zaWkPzu29+jou8AlOvkVfgghGNYSJyUY/jC7P9vXnWnZODRAddNOplARqMGZKs677bOhEEC8ketNYnGJmKFxUEdNdVpY607xIpFeX3xQq6/+y4mjBjNOYfPZfKo0VhWARu3b2flpo3YEYuRVQOoKi/DSbSS0j6plnQbBEl4eywtKKQx1RoAgA2pYjQap6KsDHxF7YaNPPjM43y08mPmTj+Ee6/7OspvzXrJ8kmEMR6cZAJpx7Bs8X888mjY6IUtiUULSScTbep/5pOExKfxgjjJpAOYSMn/JjGZ1KawiZduJRYvCOYj/xeoLIjz/Ntv8O3f/oaxw0dw5SmnMW7EcKJWIetrN7Ny2yZsSzJ+8HAqC4rwUklaXYdWz8PKybPUynhGywriNCeTeMo3pdS0T1FBAaVlpeDBx7UL+dWjf2PlhnWcPXcuNVdfj3YboJug0/vVwMq47YSgNZ2mqqKMh3/yc0p8U6NqXUMTN9zzHV55fz6FBQV4rsvwgYP5/lVXc/DEA3jwr3/ivsf/xr9+fj+lVgRPuabR0Si1jU1ce/ePeXPhB1SUltDS0srw6moeuuW79C8q5o5rvsITr7zGzff8pA3MJJ9ES43UkkhBAS/8/nfEios45sJLaG1uzrmN5GHDdynKZDAGt08ryIzJ1BpDYKqq6Ey4xQ/IWy3LcKtr3xzWPXUVixUU8Lc77+CAI49izLTphtldh+m7IlNeJmy/UiE7s8h4OJQ0bumWuh089+ADHHnhpVRWVeEFPFSWNGVJtMqmBJssRgsBhk2fMC29/czWvZPApJcGdO24LtX9B/Hnu35GseOileLORx/mnr/+hYgFQlhoDd//4tWccdRx/PHvf+XWB+6jorAYpXwkkPY8hvUfwJ3fvJWv/PA7rKrdQNyO4vkuKdfl5MOP4juXfZYDhg7hkTvu4srv3Eoq7Zgss7w1WiRSCv70o9uZdeoZjJ0+g3QySd4dYDmVcVRmHYYvByFcLTK4NBVm0IYeKMsEwA0JpuGdyqR95FR9UL7CikRobarntecfY/bpZyKEypeEsEDMvrEsC8/3eO6Pv+eQ406goKg4U5pLSsMfp/1g4QVZ0vmoY030x9w+TKUQQ9itg9m1ojEaNm3gqfvv57Pfu51kotVwUlom8JWt8SgykZuMvglfD5wVWnYn1F7gug6TRo/moe/dQR/LwnEdfv3E03z/f+6nvLAAV0M8FuPOa67jyMPm8OsH7uXHf/0DfUsrAv0oSLkOU8eO4zvXXM8Nd/6IDz5eRnEkjqtcHOVzzrEncN25n2ZOzRSm3nUQX/7R90ilUrRRuv/9HiyV6YMlJRJBkaeJCY2Kxbnup3fwwtvz+Nbnr+bUw2axbO06brv/F1x4yw28+tuHSeOzrb4uOxDS4FpkvIAH/vgQz817nTu/egMnzZjJgpUfc9kt3+CWe37OAzfeiq0hIgOuq50yd/JFTIkJE2dOtbQahWZZZAF/edjo9iQwRKRlEYnH8HwX4SuisThK+bhO2sTD7ShauWhfYcUL0Wi0crHRCCtu4vH7oehmp0RKEk1NCCBWUIjy0lh2HK01TjqJUIJoPAaA7ztEYnHQinQyhRWxkdImZks85VNYXspxF11MUUUZAlPyxpIWjpMiEomilcBxUghpEY3FwHPw0cQicbRWhmjR9QCBbr/yz16IQIRZAVpgoSnREI1GeW/lCm74+U855+hj+PZnriLt+3z3wfu49sc/ZNaB00ikHRzX5Ttfvo5IQDLs+5rSgjglsRirN21g7IjRXH3+RSSTLSxa+hG3/+7XVBQX8c0LLyKuNbbQqIAiQ0rzez4aWUIIWuvr8Vw3bzGRShisGGA4B8EQkboOSptLjm3buJ6L9n0sy0JYFgpt1pyvUdrFtmyQEdxkEixJNBJFWBa+5yAQWJEIEo3vuCyc9zqHn3MWypNBNnbPTV7GCBFAoEsjEVNCatErrzJ97pGI0nKkVESiETzHISJtRMQinUyiA5qh/JtehcAQ6UZkBBm1EcLUepTSxoqYeJjwfVoaGxGWKbcUixXg+Q4oiMTiKM/FVx4RO4bnpDKniW1FkJZEKddgV5VCdbORZQElaOxIjJcWzueGu+/k/BNP5psXXoYr4Mrbv81Xf/YT/jV+As3pFBqLm77wJYriBXi+j/I1vctLifge6zdvZEbNVC4//UzS6RQvv/s2P3noNzjJND+68ouUKZ+owFzcBYSUG3TD8t3PHqws70UInlVaI6I27y1fzhMv/4effe0GrjzrXEi0Mrr/AAb37s3Ft3yDF99+AysSJWJHjRUP5vItDfj9/aWLmTFhAp85/RwQ0L9PP3509Vd4dcH7tLYmKSyMo33PgHX3Zyf3SYwhJRCB8gvBmf9togxhm2UhIjGe/Z8H+Oi9+Yade8QIjr3kcir79+eDf/2bdDrFsvfeZv2KFRxz8YUMHFTNn396J62JJGdeeRVjp80g1dqy+6/sIslChszdPV4Yp3nbZh7/6U/48L33qOpXxbGXXMbA0WMQWrJp9Sqeuv8eGrbXUVZZySlXXsXgMaNZtXAR29esxteKd1/6F8dffDkfvvIKc849l41LFuM5LuuWLGHRG69jR6Kcde11DB03Ec9xeOe5Z3j9qSfQCCYcPJ1+1YMp692XIePH46fTdCmNtdY5wDLj5fB8TTQeY/G6NbjpFF84/2KGT66BHTv4weWf4wbPZ8P2LQgpKS0s4ORDDzMj57mEHE/bGxpBCIb2HcDcaQdDUzMnHnUc2xsaePI//+aqk0+jV58q4y3JUGMYfrU8coMEogBDMyCkyFsFIgg9xmDbNptXr2LlBws59LSTkdoi2dLEy889y5wzz0JEo7Q0NDD/H88w51Pns/Sdt3nhDw/hpF0Ki4o58YrPMmrKAaxb/hG1K1ejkq289o9/kE4mOercTzH9pBN49bHHWLd4EW8/+TSHnnEmqdbWHp05geERy86PQAib1x99lA1LF/P6k09xypeuJtHUxJ9v/z4bV68mGotw1KcvoGb2kTTX12fKUuWXCFCaaCzOh6+8TKwwzuoPP2LRW/OIRmOc/NnPMuGQw9ghNyClxI7YWFaUJ++9l+UfvAfAiAmTOfWqq2jcvI3l899n9umnk0gkiFgRmhp28MHL/2H6sccjYzZadw/dRy7JhcbgjYlGWLhiKc2JBF86/yIGjxkLySQ/uOoa7vrjQ9TW7UACFSXFnDj9UGJFheD6hpxLwfoN61EIxg0YyOEHTYPmJo6dfQSbtm3n8Zdf5MaLL6MoXoAfst2ESPhuMif387fsPG0i45J96Z15VPWq5Jy5R0FTM+lUEqexickDB/H6r37HmTMPQ6VTAY9bEH4JP0YpZkys4bWFC7js1m/y79dfpnbTOs4/6XTu/9a3sTzXMKx3mpukpyQTRA0kv1vbnvhKIGQQYvvpT1i1eAnnXX01n7n1VorKSnjw5huQCBa89hJ//uF3mXHMMZx00UU8/L3befiuOznvmi9z/Pnn87ef/phEUz1WULS520VaKK15+v77qejflytuu43KgYP4+TXX0Lh1K+uWLOber36ZcdMO4vJbbmL8tIO4/+vX01pfT6qpif+56QZWLVzAEWeeTUlZBcveexsErFrwAT/74lU4yuPSG29k+KRJPHjLzSSbG3jxT7/juYd+y2mf/TwXfePrlJSV8rOrr2LrhnVYEXNzFbKreKxzyf6yIgTgpBg/ZBgV5WV88bs38/u//IllK5ZT0auKP/z4bqYMGYlyXBxfsXDZUlYu/Yhly5exdPESatetyxgiOkwZtCxIJlm9aSNFhXEsOxokDuw8r3nnPsiI2sVv+SoCKCor4a3n/kHdulqKSktZ/OY8fvP1r7Jx+ceUV/RizYeLWLd8GWsWvs/f7rqTo8/7FJfdejOHn3EKv//Ozaz5cCFeKsXdX/wCH7z2Gudccw2zTz+Vx355F0vmvcHUmTPpN3Q4I2tqcD1vt23a35J7TJpaehqtFGNraqgaOpQJBx1I87bt3HPtlygqLuLSm2/iuIsv4bGf3cXC116moLAw/xKfIEjygmg8zpJ587j7mi8RL4px6c23cMTZZ/HgLTeyetF8U71CmovtQ9+5lbpN67johm9x2S234rpp/nT7dyksK+GVRx+hYUcd0WiUWHEhrz72CKsXLSBeWkw2e6yH1ribZvKosQyo6sdlt93IY08+xqIPFzFu6HAeuv0OJowYie95JF2HhcuXsWrpMlYsW8aSxYvZUlubCWNbUoIdgUiEdGMza7bUUlRQiGUHkaBwoWSKPWQ5EPendB8PViDKIEhx0i6VpWVUFBThO6lMureXTlMciYCQhr06OA/CMIJSCr+lla9ecDHReIxf//1vPPLCsxTF4xw2+UB+eNXVjOhdFXxb7gDm407iv9WmaiNSmGydVDLJ1DmHM2b6NEOT4bocMGs2L/31EbZtWkdRUTHHXHgxBxx9LOlEC689+yw1hx/B6IOnM3RyDS899ijbNqyneuxY/B7Q3wJTXLnmyKM5+oLLaG1u5NNfu4FkUyNvPPU4TdvrGH/wdI6+4GISjQmOv+wAalev5bnf/ZYDZs2msLwXn/7mTchIlM0rVxKNRs06RnDEeedy/vU30NrSwtlfmcjmjz9m1cKFLHrlFU7/wheYcNgcWpsaGD55Cq8/8USWKBba8kd1cX/BMMR7qSQHjRzN33/8C37wmwe46nu3EI1YDOhdxY1XXMk5x51ELBahbkc9Z3/9WjzPQwPJdJpjDpnJD6/9BoXxOO8vW8L377+PxuZ63vlwEW99uJA/fvsHlJeUgm9oL/5blnzWFM1PIzBDg4DE9zx69R/IyAMms/LDRQwZO5YV782nZvYslrz1OgcePYelb7/FxJkzqRgwiKvuvIvqceNJJZL07lXFoz+7m6XvvcPYadOYeOhhXPG972NFY4yYciDbNqxnzdKPOOr88yisrKTPsOGmgG+P9j5IsdAyyBI020Tamj4jR1JQWsHgSZN49cknUa7LWdd9FTedZsiEyTTW1fH0/fcxZupUZB5GDYQw5de01kjbYuLsOZz02c+RqG9h6PjJrFu+gpf+8jAnXHEZQguc1jTTjz+BCYfOJGJF0dpl4vTp/P722zn/G99k8pw5vPX0k5z4mc/RUt/AmsVLOPXzVxqUgNaZEOv+lk9oMQF+IskRk6fyxF138+Uf/5BLbvkWwpaMGzKMWz/zBY6bcwSxaITNW7fwqZu+gVY+aElzsoVPH3cC37j0Cgrjcf79wXzU/b+iJdHEv995k8UfL+NX37iZoniMtOv32Bx3u4FlCqUZg6k1lSTtesS0wVYJrbHtKClh6AtELsuqNPXZfA0uPviK6z99ERcefTwrt9Ty8vvvcM+jj3D5927huWjb5GYAACAASURBVJ/8griMQlj+Joy/5psIc3lQ2X/+V4ppv+FVGjh6HM/8z/3UrVuPVpBsbMBPpRHSRqOJxgtJtiTxXIfCklKKSspJNCeMB6yoIMB19MRcabTyiFoRxkw5kESimWQigZA2Y6YczMr5b5PyFJMOO4xUa5JUMoGViDJk/ETmPfZXhk+qYeiEiWghaWloMGGwkJFcKfoOrKa1OUFraxMRO0Y0FsdJp4jFolQNGERzcyNOMkWBrxgwcoQB2IehvC5fu0bbZNedQiBJJFqYM2UKB99xJ0vXrGXphrX84ZknufIHt1E9pBpfWlSWl3H/bd+jAAtPefi+T6/SMmx8hJBs3rqNl99+jXQqTWV5JX/7wR0cO3UaKtWCjBkerDaiVP7tzQCG0H2BhL0TGdTQ1JlquoIRE6fwwSv/YsL06ezYuoVTL/8Mzz/2d5JNrdRt3sTRF15I/2EjefOfT/OPX98HvoFt1G3aTNSyUZ5P7yGDEbZNoqmZWIGDlBEs28ZLu/huGt91jIulx4u/h2WhRJs7iOe6+J6H6/nUbapl2Phx+EqTTCTxlWbwqHHUrVtHw7ZtVPStwk27eUbDYUDDGtC+YtSkSaSSLq3pBDTDyImTmffYI3itKZCSaFEhg8eN46n7fsn2DRuQSOo3bcG2JKlkkgOPPopff/MGjjr/Ala8v4CismIGjx2L64bFpiXa6r5SaFlItQQpSCQTHDhmPM/e+QuWrlvPhrpafvz73/P5H3ybRyoq0ZbNgF5V/OqmWymNGQyW5/sMqqzESznY0mLtxlpefuMVkukUQ/v15/YvfImZ4yfhtaZNKaIemt5uNbDCgxitmDa+hlt/fR//XvgeJx46m2hTI6KgiDVbN3HZt2/i2ks/g4zGsIQmFosjpSRquWBFaHFTXPSt6znzqOP59Ekn07esnEMPmcXwgUO54MbrWbd9M6NHjMkgFGQPekA7EqUVWprCEOaAl3l3m+qMSK2RdhQnleLea7/IuBnTOPzc86jo2w/P9fjJ5z+DVr5RG34wERq07+Mrz2xsrVG+yAEidrNoQ6+gfE1j/TYidoSUENjRCI31OwzQ103SVFeHtCIIKYnaEZKJFkp69cGyBDJk8AmVdY4B7XkOIXEpCDxfUVBSgkKwfMF8RtRMJR2N47Q0sfDVVxkzbTqZQr5d7cEKSFUzZZ60wCov58f3/pyla1fzu5u+w9SRI5k6cSLHHnoYNWeexMsL5lMUjxK3o8yZPMW4LT0/85F1TQ20ppMce+ih/Pyr3yTd0EgkFkECbjKFRhENByUz5N0Nru2kKJUhhzXkxz3cnvYkM3YG4O2mHIZPnMC8fzzJm88+Q1FZGROOOpp/PfUErz3xBAUlJQwZNYY//eRH1K5YxfGXXERJRQVV1UNorNuOmU2F53n42hDuhpQjoVjCAOXRfh554ENDy0IERJNSCqQliUSi1G3dakKIliQSjZBuTRAvLiRWWIjvd32B332WoG6f1CZ5oXlHA5GIhURgR6I0NewASyClTSRis3XVCn567TVMO+pYjr3wUsr69GbH5s08cNMNuKkUw8ZNoqi0lDcff4wVCxZy8LHHY9kRvLRHWCKt+8agrS6zYnFu/MWdbN66jT99/0ccNGoEBx0wmZrR45lx6fnMm/8uFlAQjTFnwmQihcXguqbBlmD9unU0t7ZywXHHc+PnvojT2EA0IBZ1WpOARkXs/wMerMATaUmJdl0OP3gaMyYdwFfuuoNItIBDx45j4+YNfOuXd7OqtpaDRo9lQ+1GUo7Ly4s+oFBaeNpDK0VV335gR7ntt/dTPaSaQ0aNZMPqVTz58r+oKu9DeVFJ4BILNGNe3U5yRApkcHh6vo/G380b8lMUYEckOzZvoam+ntM+8zmipeU0123n+YceZPuqVUgh8H2F4eINTG3tk91wGqW9Nsq8u0VIUy/ujSefZsrsIyjt148dm2p554XnOOnyz9KwZROv/f0JDjrySMp696Fhy2be++c/OOVzV6J8hZdhJA6MKtcPQLgK5atM4WYpwXccYpE4x15+BU/c8wua6uopq+jFlvVriUbsnfRQF5/wAbmn1oCWCMvwd42oHsKtD9zD1AmT+eIZZ+KnUjz9+is0JFqo7t+f+vp6ko7DP999mwINngppNiRDhgwzNB1Kge9haYXfmsTVGi0N1xsyLEgedkvkWap/W/E9lTVy81ykBM/3KO/Xj8pevXnlb3/ltC9dQ3FFLwaNGMXvbruF0790NVpplrz5JidcfAlT586lqa6eVe+/x0fvvM2k2bOC+6+fqZIhMftUa40WmlQyRTLRQixeiE+eTZ3WaGE8cl7aIbF9O5MOncnvv/sd1i9exKBx40HDfx59hJq5R1JaUUlrS0v+MfQLkeHTs2yLBS+9yBHnnUufAUNwWhO89cw/OPDoI7GKYkgh2LRkCcnmBCdeehlWPE5LfT1vP/UUiW3bzbxpzbEXXcgD3/gmg0aOYMKhs3HSTkgVHGiX7hoDmakEgAQiNtWDhnD3w39i1tNPcMXRx0NTM4+//G+SqSQDB/Tn47VraE638sL78ymOx0zFCQUF8Th9KypQSqGUiWpJ3yfd0goIhFRILIQ0CTU9Id1mYEk0lpT40SjKcbCV5ntXXs0XfngbF9x4PZNGjmXT1o04rssvv3ET/av6guezrW4HF9/4NePhQJN2HE6ZfQRfvexzXHHL17noxq8yaeRoVtduYMOWLdx57deoqqgEoRGRiFmrWuflLTQ8a7QygEYrYrPLQtT5LlrjOS6V/QYxdPxY7v3WN+lXPYTaVSvp3aeKYZMn4zlpIoVxrFgsw5QeLypG2lZQQkFRUFxiDPBuA7i3LbygPJ+iykq08vjzXXdQVF7B5hUr6Vc9jLHTppNMtrJ2xcc8ePO3qBo6nNqVyxg8ZhyT5hzO/OeeJ1pQhFZ+5lNjxXGDK49GsaJRU/AWw3UVLSzA9Vz6Dh7M6Z//HGuWfkRLYwMzTjyJZFMD6bThXTIHm9o/B5kA25boSBTSSc6cPZcXTj2NH/72fv4571WUUnywYimnHn4UJx8yi98/8Ribt2/jom99zXDuYC4GpYXF3PeDH2FHRGCU+AGDvTBgUq2Nmz4SDcDwQR5RnvLTgdEZ8ZISLMv6L9mSIW2CZvD4cSx5+01GTphIsqWVsQdP5+nf/g/Daw7A1x6HnXIqLz/yV9YvX0r91u1EpWDsQQcjhUHIFRSXmD2JWat2LI5t2xQWlxGLWvzztw9y9rXX09rSfdm+nRIh0L5PJF5AvyFD+Pu9v+SK7/+QOeecwx9/dDuDx4ylcet2EJpjv3IdTjqdlwa0Dvi5VFDqp+/gITxx773Ei0vYUbuRwrJSZpxwCvXbN2FFo1QfeBBDRo7gNzfdSGmfPmxdt4aysgr6jx6F53mkk0kmHDqHASNGMnHWYcQK4yQaGpDBXtRaGm9lN5nLxsNooSMRSDtceOzxLF61iht/+hOe+deLOJ7H2x8t4oITT+OUWYfzo+X3sa62lstv+xZ+wOHmex6Devfhvpu+jSXBdV3QPp7WILXhLdASERH4VhwZ2ZnAu3v6u38NLK2DBWzQ6h9v2MDp132Jz51yBmcdMpNZEybw4t0P8NKC91mxdhX9q45h5uQpjBs0CHfHdo46+CAe/uEdEARWFAJfKfqWlnLIyBE8dec9PP/2PJatXsm08ZOYNXUqs2umUFe3nR89/Ef++eabeK7fpVnuXSvmYHfSrcw682wsS5BK5JnS6oxIUL6PZUsuvPEWFs+bR6KphQmHzmJUzSS21W4hWlDA4Wedh7Rs0okWtIZjL7qUaEE8oGUQnHnlVRSWluE5brd3QWiBk0px3KWXUVRSypZNG1n34RIOmH0Eow+cgu/5xOJxzr3ua6x4fz7bNm2k5ogjGFkzhUR9I9WTJtJ3+DDSra1o36eorJyzrr+BiB3n0JNOA6lxk0lDU+B5nPbFayiv6sMLf3yIuo3rOePa6ygrq6B25cdsWLma4y7/jMG6hAO8n5TBohUrOOu6qznn8MO5+MRTue/6G3lx7jG8Pv89kIKLTz6NMw47gkLP5cgpB/LwD+/EwOJNe3wUFoLJffrxs2u/TllRMW5rChO2MWSUkXgBC9at5bvfvZl3Fn/IEQdNAy3yJ8K0C1G+y9lf/gqx4iKcVGtPN6fTkmxtZcrhRzHuoGkU9+5Na1M9QyfV8P1Hn6GsbxXN9Y3MOeMsBo4cxZY1Kxk8biLjDz4Yz/NoTbRSWFjECZdchpt20cp4gmaefKoxph2Xy779fZrr60mnUj3d1V2KUgo8n7O/cj3bN9aSTrkcfs6nGDZxEhs+/pgxB5cwbvp0bDuCm073mGejIxEBibEA0okkk+ccQc0RR7HojVcYd9DBTJg5EwQUFZdz8mevxC4o4tLbbmfRvFdJpx2mHnUMQ8aMZXvtJmLFBfjKZ/uaVRSVlnLISaeSTpj1LIQGS7bFOu/3zgFC8vqihZz1ta/wuRNP5cxjjuWer3yV46dN540PFyA0XH7GWZw6czZRpTh9zpGMHzMWS1oBlEOifJ+4HWVU//7c/qXrqCorRbckzGVOgNKCeEEhL30wnx/88fd88PFSzjtiLpkaOX73YD/3by1CZcqD6HSa46ZNo1dxEYlkK4MrK/HReIkW+hTEOe+II4AjAY12HdItzQgNI/r0Y9TAoTlgygAV4fu4Lc0Mryjn86ecHhij2rze3IRtSSYNHkJlvIgBvXvTt7AIz3XzMFQog9rWiqLyssA97wUu6zyOnewkQkiEVLiei2VZHHD0UUhh4ToOzU1JisvL0VoTicdAaVMzUkJpRSW+NgpRAWVVffA9ZQhLu8Vtn80T04GRWFReDlozoHoo1WNG47s+biqNUj4CiSc9Rh04lfHWdDzXw0knTb2saJyywiJDBohRkuWVlSilKCgrAgS+F+DNlKKkdx80kjlnnMVLf3uEe6/9CuWVldQ3bOesL19LVfUwWpubDT4ixDDvswT7R2s8x+GgMWO5+dLLcdw0w6r6oVNJbFdx0rRDOGnGYUaZaY2fTOEkWxnRpy8jB1fTNn5pWuYnU/SvmYr2fdx0iuz61Sjfo6yggJljJzBrYg3jhg3Hdx2E1IaDJ8+WuQ6qDZRVVeH7fjd6VPdNBMJcdGIRSgqqUI6DLw3Rcq+BA3BdB40ilUgydOIkxkw9EM/3SadS2DGb0mgMrTUl8Up83wUJPlBYVgZo0uk0saJiCotLcFwn/0JrgBYC7blYts2AYcNx/DSqJc2g0aMYOn4SWvukk0njvUKgUVh5Vv01QzPt+0TiMZTn02vgAGadegZaKVLJFMp3EZZFea/epFqTWJbFwcceB4DrOqRak5T16o2wJbUrP+Yv3/8Oh5x6OuVVfWltSbThqOzWvqWSzK45gJsuuhTPcxjYuzc4KUTK5YzZh3PG7LnBkx5eMk0q5TJ+8BAmjBjJJ7SgUvjpNHMn1aB9n3Q6NPplMH4OfUpKOGLSRI6ZMoWDxo5Dp5LZKgTdIPvVwArqbeI6LgePGcOMiRMB0GkXx3HQSBzfRTa7WViGDEDCGpNJ5ThBiZXg78HvCoF205BOY06hIFUXKLAtLjj6BIjY4Hk4joPneVhWfm0kyLIR+yrgJbDA6s4bRReIRONrEFLg+z7JJuOFkwKQ4HkBD4khJs/ERl1lMFhSmA3hOV4Wp9PNojGgb98zGDGt/UAJB/4jIYK5glSylXTumSsFAh/f9QO3uzGaFQYsLTPPiow3VSsHz4NIvJDjL7mc6cefSKq5heJeFZT16kNrcwJE8F4LuixLQwmU1AjXZeyAQUw479OARnseKTeNBaRbWgx8UZl9pQRIjWHZ95w2d34VpHkLDb6XyIymhoBlXOK5LkMqKrjuggvMaHpGGQoJecnzGBiivucFeOP8MyR2JSGmRmgfz/XDF1EovLSTKbOCULjJZJB8YMJRfvCswVzpNrgc7QWIf63xPTeLFM3DO2AG4uf7phSXNCW6nGQaB7OfM2er1ORhioURYZJDZp19LpFojERDQ8ANqDNrUimTkADg+z6JpuY2J4fnOUhtUVxeyadvuY2+g4aQSiQAhZayB7x3grTjUDN8JFPGjjMT4bqkWo1hpFuaja5REl+YsmlSSFwnhU6n2+iKYCQAiZ9MBBR/Moc/UeE4DuOGDGbiiMtMlMXxSDtpZK5BsZ9lvxd7lgG5oO96pkI2Ch0cqEIq1E64blM30GzwkGUB8xIZhKwOXtDmDMi+FqgEX+N4aZSTCgjF9hOGpQvEsDFnD0/pS3rsQhViYvZ4sCRSaFN2AiBc6CLHuAg+20yvzP6uTDal3OnzukeyGCwZHBtW0H6EgWNmIPkBViPMSjWqWWXWZObWKTQimD/pm78pad4jZcg5IzN99jwHX3mU9e5NaZ8+aN8nmQzCxAFMyerKYFqY2Sgl+B5+ixcSmWEFdeqy2XPBvgn2ntCgsxafGTdtNqEKynuEUCAZ1E1TmH5q18NxjbWZWxvtEzCsPDi0Q4wxhGVU8u9itisxrOTBqAZnSFh/XAV9UUqbcmOYQG9Y3U4SziFm3lQWjqzCsiKBSGlYGvJZMmsq7GwwEIqswayUyksMoAgRcL6k94D+oAWu60Owv6SmDRFzWGReBXtPQ+Ys9H2forJiSssrcBwHGeR+9US3JaAFph2eg0Ka8yFoT4DrD3RMeD5ooz91yHkWJq9pZJgOrYwdIAUZJ0p4KfQdD98JtHj4PejMPX9/y/4tlaO1UeTB78bXYTiuMnckYQY9t7NhNQ8RGFDSQLgyvC/hItPhQsnZ/JmDTurABjOvyB7nbNm1aDRSZC1JrbuPj+QTEnzt3vhKdBDW0+YfpqhsDpGQMVKCTSbNxJrfDRA686jeGwb+7I1E7aaOYebvu6o+HxrxgVdGh3Usd/mNwRrWOZ0UOR8Dpji0kJm1ig5sGUyRbx3scq10ppA5kEmdNp8VvrmLJBhfKYTZi0IFSSDS7FGZ+eLMnhQyaIfI6WT4kJbh7SeY++Ajgj0uQueymVyjJAn6nRmt/DqtdU6I2oQLe7hBnRSZ8d+YvSfkzn1pM72BcSUzelLkPBeqpHCt5ipoHaxjTed01e72ZFdKrh4Kv1HlLMzQQwfBJSAIB++1qOz35o71Jx7LGQORA03YVaaH8R8YfrPQEylzNs1O0xGQhQa6KvzRWXWmPIUinT1rdXC4dve+k4aKKFSxEh2oj0B3BO0jx+4N1YsOS2ppEVx+zQyr7EejRXY9yuBZFeidHIVjvr+burx/Qe65HDdhijrhIguf+eQ0Z9Z7aHiFz4gcp6Zo+xk5LweWqmj7TJ4p8VByD1MgLwjvwjHcE8kqD7ITmNMVmfNvkZnYbPps5tG9Km/UeWURKsJdStjIHDqF9kW07WvuR4RPyOw45NomMuh/dv2233atgltaV0nOnhQ7/Tu3L3Lnudvl+MrMmOXuy/CzZM5j4R9zP1e0+7n7IF2wf3IPyXzYj3smwcU13F857Re7GPvMkqe9uRefmKLs9u54bMJV2+kxDEmsMhemPR/7NnoofG2ni0HbMdnH+c29GHfwWeHfjP2gzOWjnWez3FSfHPtdviTaTNgnnmvT37b/180ic9alaUPYFNH2sYxk/77zmSKz/585S9rMelY9feK9wa+hy2w/yn6+VuQTONREbVXGJd52UtVetNVQhO7NO/eXmD5mQ1+7+ntH7wyvY9nXjarLn14azpNPghTDan17sl/yMEM7KyrkYMoq5mzX9sToym5xRTB2+TGV5qBReh9A5J+cQKUUWqueqWXZnihl3Ch7ocsz/djpvSr4X35JgAHD6MYAFrsHcyEDsypY9/nWvV1IZ3WIzvmvECLjxQlNrryR8Ajp4o/Mox4G0j05zF1iYOVgeHPCJMZTkC+KzmAPFEIrhNAmUw2BCAAzopOgghwkDkoolK8DMG8+SBi9z+lL7kWwgz4aPszQSBGhJgChDOO81iEwpUclc1MM8bpBeCMMOe+ynnAoAWQqt65lqCB1xu7Ih7k0YTutFEIEJTOEzGCXtA7RMu29OxsGCVFkATNMZu3ng2i02UNaf8Iy3t1yU+Qebjk3dA1KCdPPPFDrShmCTq0DbFuICeq0mL5pJcxnBa8ILfJmTxqdo42xDCgt8JW/xztJo/G8LDhfazKUaT0+lcGFRwUNEgg8zyNiRwCjMzskSQ7+ZEmJtCx83zc1B+l4L3e7mEVq1iw778lOzOgungkdEfkkShndAyB02552pd3SNR6soDFKe1ghe7oOPXB5sngExsAIjAytFUIKYrEoYd24jiQccI0iB6DAziD1nhZNMB1CGQChbWUrrnTAmJiLg4tEI/ieG/RZGsNEsd/dqZ0REeK8ApNBSXAdh4i9C9/4J96cdQwJKbEwa9bMqggUSs/PZQAXJ+S9NyV8vKDcjplj3cGCDQMs5mGFLaS5BATGh5Y938dQpDa3ealUgAvD4Ed0gMdoR3JnSoWg7sBDHe7IfCgrrYUi4zRUICzLwHNzsp3aE5VdATiei+OYmnkqMKzyZk+GIx446SwpcdMprIDccfdNDA46CYlEszGsBKHZFhwk+7ULu5cg8yG88CDATaXQgU5VSnV81gVYIGlbpFtbSKdTaCGMYzN/tmPmgi7DIbey0Z3OGR2BdlIKS1qZC15YRixfuiqEDFhoNJZlB06FLI63q+yWfTawchsTLyhgR3MTIiARzIXy9bgEGQhaaixpkWhNsrWxgXgsGiL/Onx72MdoNE66qR5JAKaUe3oj3X8SKnGEQimBsqBl+zZkkFkhOmqnVhngRkEsTmrHDpykk11oWZ92j4rEHCwqOLiksEhs20JlaZn5e0eLTocYDU2ssJAy26Zlh6kzCCYpIh80QEbhBphlIW1admyhsqwUwABFO1p0OWFAKxJla3MCGTFwSyl3u9S7TWQmW8UYHo0tCZP9k8Frti+atsHP7es3YEWiwb/zJ7xkAOIBXsSSOKkEtlLYETuzT9sTgcg4nSvKKkg11KFcw3WiJObukwdzGc5FaNT6+PiNDfTvNwCgQ4C78UQa709ZSRnlliTdmsCWoQmtgjXSsxOqwlwTc+NBygjJHfWUlJQAoXrs4NKjjMFYWFhEn+IyWuobTcabosf7litCC5Q0ZpFlSxJ19cRss686m6gghcSKRKhvacKyIuGr3RSU65yEnmDbttm6fSvKEti2nU2S6KKzbp9NAyFExrIdNmIEy7duYmsiQSwWASEQobutp3+ERiuB8EHGC1mwejnlgwYQsSKgsiGmXYoKw0mavlW9iTU2sHbJEiKFcWOcKUzh2h7+EUH8XCgoKCygdsVHlHoOlb16oVXHTtpwHpXSFJSUMKi4lNUL3seOx815pc37e7qPxnYwt+VYQZzmuq0k1q2l/wCjzHVHq1qGy8FsniEDqvj4vXewIjHjJVIaJWSP9zGDyVQa27ZxUgm2L17MxLFjg47oDm+9JgvTPDB20iTeWfUxnhbYUn5iHvfrntvNj1bGVSGlRFk2Ly1ZQP+Rw0wfdMeBE4nK2NFjRo1C1NfRWl+HZUcy2Zso3eNzqVHI4AC143FWvz+fcdVDQFpBQWVo1xpUCpQxPkaMHEr/eJQta1cRLyxAKIHSQfClh/sYlNtECtPHTatWUxWPEy8qCsItuzE8Ak9CQVER1b0q2fDRh8QLCoMxCM0s0SN9y/SRwMgSgmg0QnNjHUXpJMOHDiX0J3d46RGgfZPJWDNuDFuXLiIaj2UyHnt6DrPrVSOUwI5E8HyP5lUrqAn5KztjdARzPXLcGOYtXoSwbKS0UEojlSmJRg/+hP00nn0L4oW8tfwjhowa1SYpoKuyXvc5izDX4isrKWXyYYfy1OtvcNbMwykvKMDzvExBYyM9YcMa80lEbaRtsWDtSlalWznr6DPNn0OvR4chCWNICcvmuMPn8Mdnn6e0fz969+uPl3JQys8LR5YlbOxohG0ba6l9820uP/OMwHjwjQJop49hyMm4vC0Onz2TPzz2dzZ8vJTBo8ejPR/f6/4SNrsSIQV2NEpjfQML/vEMx0+fRklpqVGEQtMRb5GUmnA5Tjt4Gu++v4BFr7/M5FmzUY6P73vd04ndiLQsItE4rptmwQvPM6FPHwYMHLhbwwPMhV9JM5fVQ6oZMGU8D7/2MufNmkNcK4P/UD1/n7QBIhZaSp5fMB+vopiamgPMHwPPVvtNNHFEjaRfv/6cNGcWj734AgedfBrxoiJ81w0yMHtepLQQUZu1Cxfgr1vLjMsuNX/QEi1NxcZdiQ79QgqkFWHOIYfw0NP/oKRPP8oqKkwY38+PAvGWHSVi29SuWcPSF57nuksuAMzFrKNVZgwTnTGX5x5+OO/+8h5WVvaieuw4tOfh+yEQq2dFSptoNEb9lq28/eRjnDt7FlYshu/rXWf85UjuOTmpZhIvvvoqi996g7FTpiMEAWFoz/cRKYlYNq7n8NGrrzBlxFDKKis6pKDY+f1awZBBgykdNoRn3n2Ho6YcSFxotLvnuLyuFY2FGWUrEsEBXl20gMLqwdRMnmye2Ffajp1E6K7yheXIu/Pf463nXmRMn34MKi2nKGKjMoAK3f2xQyEQWrE5mWRd3XY2+SkuuvxyykpLM4A2KQWiwxhaIAEgd+3aNfz5yacR/QZQ3rc/scIic3PuoUMr7IdyHRo2bSS6fTtnHX8cg6qH4CuFlSFJaUeC81bpLMSsYft2fvvwX0hV9Ka030CixSXYltUh/mf/SPh9xrvkppMktm2jftkSjj/sUGYeNitnHuVuN0hoWggMjuLXD/6WtY7L0EmTiZdVhsiPHphJ860Cgeumadmxg+Y1q5gxfChHH3M0QlpB63e3Tk0PzZMG3P7k40+yZekKRvcbwJCSMiyy/dPdsR/DiE9AwaOFKRRdm2hlae16iqsHccrpp1FUUJDBfHTMsh1e2mRmT77+6qv8Y95bk1Ee1QAAB5FJREFUVIweRVlVfyIF8Z1u3T2xNwW+k2TLx0sZpAWnnXwSZRUVObOY0492RQUlhQSLFy7i4WefI9K/H72HjiQaj5tC2j1mLBvPku+k2bJ8OZH67Zx23DGMHT9+jw4rA/o2noNNGzfw24cfxiktp9+YcVixeLCvw+OxOyX8PoHvpmms3UTLqo85asbBzDxsFru9med+UqCjLMsi0dzMg7//A5scl+oDpmCXliN6FIJh5spzXJq3b6Vl7SrGD+zPmaectju+mjYSJudYloUGnnj0MTYvXc7EAYMYUFKOJUT3nv9tYLVmnhSaza3NfLhxI6KyhAsvvZRYJGK8bF1cWqJLDSwdZMxIIWlobOTDRYto3FFH1LaDwyF8sKu+sRNtwriu/aBtg6uHMm78eARmU4f0+p05mAETThQaISRuOs2ihYvYVrcDLJHJoul2EYDW+MpHuR6DBw5g8qQarGikzabeE9G+RlgCtGLZ0qWsWbse1/ewohHDUbf7vIAulax5bjB/laVljBs3jpIyg70K57LTNy3a3lZWr1zJuvXrSaRSxtBugxTf/xIuvRDkrTyXXmVljBw1it59++715+rQqAFqN29mxfLltDY1ELGj2aOjO5Vd6JgSGiftEikoYNioEYwcNhwgsxf3RBRBJpAQ1G/bxqo1q9m2vR4lewjmLnJ/NR6cYUMGM3rseNPevemjMuteCEGipYWVS5ezaftW/P/X3t3+NHXFARz/3nt722JbnuRJQYaKIA8qitsUNUtmYmK2xWRv9hfsxf6n/QN7s2Uxm8ui2ZItTrM5GchTgVYUxmOB0tKn23vPXtwCxkxTsGrV3+cNIS3tPTn09Jxzf7/fwS0ay06M7qulg23lUY5NW/Mhunu7MUzvzvhRpCcztwzDQNk2kUiE8OQUtuYGJRtbSRCvmIYbf5TNZWhuaKSrq4uKYHB7Yb7bCRYU2qgUj6JRJiPT5Cx7u9Dr66KUwsplaayrp/NYOzX19e4CRamir+3/Frr/Li4yPjpCamMDv8/3/OyVl+Gpt7PzNrrfS1d3Dy2F0BJbKXRNPXM3ec9vXcoJloODVohjMcogu+V5HHvnH3pr8Cpu0HPcmALFdvB4eVLYtntLbC/nqTnKAUeVeRvd22BK6W52zy7b6ThOIYuk3Ntoo9Te4gLc+BY3Y1Yv48/ki7QR3oy+VBTGnT3HeDg4jlbyVXap2cpG22VfbvUfAHr5f38oW6F0p/CZKq6dW98z4IZkPF0hv9y45Xk0d+wo9m8K/ahphaSyws5ruVLKvT3tVs4vfXe8lFuEQgghhBDvsj1N2LZXG4XtTgenqO3prdnizu9PPlZ4rWdmRxVf/Gv7wMsirkcIIYQQotT2toP1VFyfUuDkNhkbHWXTUuiGn+O9x0nOz7C4nqSu5QghEwKhSjy6RiK2REqroLF2H1MjQ2T8DfQebd5+vWRsjvDcGh1dPeSWI0QWLTq72wn5PGysxtDNEIoktuXgrwoydec2g9F5PF6Tgcuf0Lo/APYmN364wXI8hWE2ce3ax0zducmi1sT5vibiaY2m+gZMT/luXwohhBDizbS3Mg1Ogu+++ZYjFz7j1Hu1gEIzTBoOHMS2YTY8znr8APPRaaKzC2yoIJVGimM9p/BgEx6+y3pNL2bWZs0ysVfGeVRTS2ttBaBYT+Yw8ymGhoc4VLefoL7A8ISPgZOHmR0dYWYhR1KfJZ/ax4dXzjE4+YhATT1er0mF1y1sll99SEKr4NLFM4z+cp/FpTnuPIgS8M/x9Z0I7QNXuLR/PzUv+bxrIYQQQrx7dje7cBToGg8Hb/PjTzc5vBmi58vP8Wigebw0NLm7UKuxFSr9fsYTKTyBanKxBZwDDbinmRh0dHQwlfGSWH1MZVMHgaBF+ME9pvNpfJUHGTjbg7W5hjfYzKHWELeG/qS6w80y0q00E8ODxFjBY7TwgcePFZvj9sgYXn8NHf2XqA+BJ1DNyuMw30+PkYpX0V/VwOm2aq7/9g9G0GYtvomplW9ArBBCCCHeXLuKwVK6BtYa16//TFrB+B+3+Ht6GdBIxhaZnAwzNT5MeHqSpbTOmb7j+E0PVi5BLq+xlfxiWzlyORvDNEmsrbMeT9La3s35gYv0n+xg8t6v3A0vU+nNMz7xLydOd5FdWwfAV+EjvRmnpft9vvj0DNn4Kpl0muXlZeZmJ/j9/jAAic0MbY2NJFcXaOmtI5FM0td/mspsisdTs4w8GEftIo1YCCGEEKJYu9rB0oClmQh6TTPnzx3ByqSZjUQ5e7QepWzsvA26SWdnNwHTwUlbZDM5dAOyVn478DzQ0EanMqnyNbL21z0y/iaOH6wtXIwiVNfMiYCD4a/AF5tnLJqjs/cUAG1nL/DVsR68wRriM0NsKIO+y1fpu2yAbeGEQthA3rbwVtVx7qOrqLxFPp8nnV3n0cMoj9MZ6k5Uls2ZbEIIIYR4u+wqyP1ZlU6Lrdi79bxC4eXtn08+5ij1wvV6iq8g/PoqrwshhBDi7SV1sIQQQgghSqyM68gKIYQQQryZZIIlhBBCCFFiMsESQgghhCgxmWAJIYQQQpSYTLCEEEIIIUrsPxRwzf9QvygUAAAAAElFTkSuQmCC)"
      ],
      "metadata": {
        "id": "2KF1jO4U2Vuj"
      }
    },
    {
      "cell_type": "markdown",
      "source": [
        "버트의 기본 구조는 위의 그림과 같이 트랜스포머(transformer) 인코더를 쌓아 올린 구조다. 주로 문장 예측(Next Sentence Prediction, NSP)을 할 때 사용한다.  튜닝을 통해 최고의 성능을 낸 기존 사례를 참고하여 사전 학습된 버트 위에 분류를 위한 신경망을 한층 추가하는 방식을 사용한다  \n",
        "⇒ 즉, 버트는 트랜스포머와 사전 학습을 사용하여 성능을 향상시킨 모델\n",
        "\n",
        "버트의 학습 절차는 다음과 같다.\n",
        "1. 위의 그림과 같이 문장을 버트의 입력 형식에 맞게 변환한다. 이때 문장의 시작은 [CLS], 문장의 끝은 [SEP]로 표시한다.\n",
        "2. 한 문장의 단어들에 대해 토큰화(버트의 경우:WordPiece)를 진행한다. 예를 들어 '고양이'라는 단어의 경우 '고##', '양##','이##'로 토큰화한다.\n",
        "3. 마지막으로 각 토큰들에 대해 고유의 아이디를 부여한다. 토큰이 존재하지 않는 자리는 0으로 채운다.\n",
        "\n",
        "버트 모델은 전이 학습을 기반으로 만들어져 있는데, 이 때 전이는 인코더-디코더로 된 모델이다. 기존 인코더-디코더 모델들과는 다르게 CNN, RNN을 이용하지 않고 어텐션 개념을 도입하였다. 즉, 버트에서 전이 학습은 인코더-디코더 중 인코더만 사용하는 모델이다.  \n",
        "\n",
        "버트는 두 가지 버전이 존재하는데, BERT-base(L=12, H=768, A=12)와 BERT-large(L=24, H=1024, A=16)이다.\n",
        "- L: 전이 블록 숫자\n",
        "- A: 전이 블록에서 사용되는 어텐션 블록 숫자\n",
        "- H: 은닉층의 크기\n",
        "즉, L,H,A가 크다는 것은 블록을 많이 쌓았고, 표현하는 은닉층이 크며, 어텐션 개수를 많이 사용했다는 의미. BERT-base의 학습 파라미터는 1.1억개가 있고, BERT-large는 학습파라미터가 3.4억개가 있다."
      ],
      "metadata": {
        "id": "4xkbSwJ625cE"
      }
    },
    {
      "cell_type": "code",
      "execution_count": null,
      "metadata": {
        "id": "JUxG-4gU2QtT",
        "colab": {
          "base_uri": "https://localhost:8080/"
        },
        "outputId": "ff31850d-63a9-43b6-8a46-8edd67e39190"
      },
      "outputs": [
        {
          "output_type": "stream",
          "name": "stdout",
          "text": [
            "Looking in indexes: https://pypi.org/simple, https://us-python.pkg.dev/colab-wheels/public/simple/\n",
            "Collecting transformers\n",
            "  Downloading transformers-4.20.1-py3-none-any.whl (4.4 MB)\n",
            "\u001b[K     |████████████████████████████████| 4.4 MB 32.9 MB/s \n",
            "\u001b[?25hCollecting tokenizers!=0.11.3,<0.13,>=0.11.1\n",
            "  Downloading tokenizers-0.12.1-cp37-cp37m-manylinux_2_12_x86_64.manylinux2010_x86_64.whl (6.6 MB)\n",
            "\u001b[K     |████████████████████████████████| 6.6 MB 90.7 MB/s \n",
            "\u001b[?25hRequirement already satisfied: numpy>=1.17 in /usr/local/lib/python3.7/dist-packages (from transformers) (1.21.6)\n",
            "Requirement already satisfied: importlib-metadata in /usr/local/lib/python3.7/dist-packages (from transformers) (4.11.4)\n",
            "Requirement already satisfied: tqdm>=4.27 in /usr/local/lib/python3.7/dist-packages (from transformers) (4.64.0)\n",
            "Collecting pyyaml>=5.1\n",
            "  Downloading PyYAML-6.0-cp37-cp37m-manylinux_2_5_x86_64.manylinux1_x86_64.manylinux_2_12_x86_64.manylinux2010_x86_64.whl (596 kB)\n",
            "\u001b[K     |████████████████████████████████| 596 kB 68.8 MB/s \n",
            "\u001b[?25hCollecting huggingface-hub<1.0,>=0.1.0\n",
            "  Downloading huggingface_hub-0.8.1-py3-none-any.whl (101 kB)\n",
            "\u001b[K     |████████████████████████████████| 101 kB 11.4 MB/s \n",
            "\u001b[?25hRequirement already satisfied: packaging>=20.0 in /usr/local/lib/python3.7/dist-packages (from transformers) (21.3)\n",
            "Requirement already satisfied: filelock in /usr/local/lib/python3.7/dist-packages (from transformers) (3.7.1)\n",
            "Requirement already satisfied: requests in /usr/local/lib/python3.7/dist-packages (from transformers) (2.23.0)\n",
            "Requirement already satisfied: regex!=2019.12.17 in /usr/local/lib/python3.7/dist-packages (from transformers) (2022.6.2)\n",
            "Requirement already satisfied: typing-extensions>=3.7.4.3 in /usr/local/lib/python3.7/dist-packages (from huggingface-hub<1.0,>=0.1.0->transformers) (4.1.1)\n",
            "Requirement already satisfied: pyparsing!=3.0.5,>=2.0.2 in /usr/local/lib/python3.7/dist-packages (from packaging>=20.0->transformers) (3.0.9)\n",
            "Requirement already satisfied: zipp>=0.5 in /usr/local/lib/python3.7/dist-packages (from importlib-metadata->transformers) (3.8.0)\n",
            "Requirement already satisfied: urllib3!=1.25.0,!=1.25.1,<1.26,>=1.21.1 in /usr/local/lib/python3.7/dist-packages (from requests->transformers) (1.24.3)\n",
            "Requirement already satisfied: chardet<4,>=3.0.2 in /usr/local/lib/python3.7/dist-packages (from requests->transformers) (3.0.4)\n",
            "Requirement already satisfied: certifi>=2017.4.17 in /usr/local/lib/python3.7/dist-packages (from requests->transformers) (2022.6.15)\n",
            "Requirement already satisfied: idna<3,>=2.5 in /usr/local/lib/python3.7/dist-packages (from requests->transformers) (2.10)\n",
            "Installing collected packages: pyyaml, tokenizers, huggingface-hub, transformers\n",
            "  Attempting uninstall: pyyaml\n",
            "    Found existing installation: PyYAML 3.13\n",
            "    Uninstalling PyYAML-3.13:\n",
            "      Successfully uninstalled PyYAML-3.13\n",
            "Successfully installed huggingface-hub-0.8.1 pyyaml-6.0 tokenizers-0.12.1 transformers-4.20.1\n",
            "Looking in indexes: https://pypi.org/simple, https://us-python.pkg.dev/colab-wheels/public/simple/\n",
            "Collecting pytorch-transformers\n",
            "  Downloading pytorch_transformers-1.2.0-py3-none-any.whl (176 kB)\n",
            "\u001b[K     |████████████████████████████████| 176 kB 15.6 MB/s \n",
            "\u001b[?25hRequirement already satisfied: regex in /usr/local/lib/python3.7/dist-packages (from pytorch-transformers) (2022.6.2)\n",
            "Collecting sentencepiece\n",
            "  Downloading sentencepiece-0.1.96-cp37-cp37m-manylinux_2_17_x86_64.manylinux2014_x86_64.whl (1.2 MB)\n",
            "\u001b[K     |████████████████████████████████| 1.2 MB 42.2 MB/s \n",
            "\u001b[?25hCollecting sacremoses\n",
            "  Downloading sacremoses-0.0.53.tar.gz (880 kB)\n",
            "\u001b[K     |████████████████████████████████| 880 kB 51.8 MB/s \n",
            "\u001b[?25hRequirement already satisfied: numpy in /usr/local/lib/python3.7/dist-packages (from pytorch-transformers) (1.21.6)\n",
            "Collecting boto3\n",
            "  Downloading boto3-1.24.22-py3-none-any.whl (132 kB)\n",
            "\u001b[K     |████████████████████████████████| 132 kB 88.6 MB/s \n",
            "\u001b[?25hRequirement already satisfied: tqdm in /usr/local/lib/python3.7/dist-packages (from pytorch-transformers) (4.64.0)\n",
            "Requirement already satisfied: torch>=1.0.0 in /usr/local/lib/python3.7/dist-packages (from pytorch-transformers) (1.11.0+cu113)\n",
            "Requirement already satisfied: requests in /usr/local/lib/python3.7/dist-packages (from pytorch-transformers) (2.23.0)\n",
            "Requirement already satisfied: typing-extensions in /usr/local/lib/python3.7/dist-packages (from torch>=1.0.0->pytorch-transformers) (4.1.1)\n",
            "Collecting jmespath<2.0.0,>=0.7.1\n",
            "  Downloading jmespath-1.0.1-py3-none-any.whl (20 kB)\n",
            "Collecting botocore<1.28.0,>=1.27.22\n",
            "  Downloading botocore-1.27.22-py3-none-any.whl (8.9 MB)\n",
            "\u001b[K     |████████████████████████████████| 8.9 MB 80.3 MB/s \n",
            "\u001b[?25hCollecting s3transfer<0.7.0,>=0.6.0\n",
            "  Downloading s3transfer-0.6.0-py3-none-any.whl (79 kB)\n",
            "\u001b[K     |████████████████████████████████| 79 kB 8.7 MB/s \n",
            "\u001b[?25hCollecting urllib3<1.27,>=1.25.4\n",
            "  Downloading urllib3-1.26.9-py2.py3-none-any.whl (138 kB)\n",
            "\u001b[K     |████████████████████████████████| 138 kB 96.9 MB/s \n",
            "\u001b[?25hRequirement already satisfied: python-dateutil<3.0.0,>=2.1 in /usr/local/lib/python3.7/dist-packages (from botocore<1.28.0,>=1.27.22->boto3->pytorch-transformers) (2.8.2)\n",
            "Requirement already satisfied: six>=1.5 in /usr/local/lib/python3.7/dist-packages (from python-dateutil<3.0.0,>=2.1->botocore<1.28.0,>=1.27.22->boto3->pytorch-transformers) (1.15.0)\n",
            "Requirement already satisfied: certifi>=2017.4.17 in /usr/local/lib/python3.7/dist-packages (from requests->pytorch-transformers) (2022.6.15)\n",
            "Requirement already satisfied: idna<3,>=2.5 in /usr/local/lib/python3.7/dist-packages (from requests->pytorch-transformers) (2.10)\n",
            "Requirement already satisfied: chardet<4,>=3.0.2 in /usr/local/lib/python3.7/dist-packages (from requests->pytorch-transformers) (3.0.4)\n",
            "  Downloading urllib3-1.25.11-py2.py3-none-any.whl (127 kB)\n",
            "\u001b[K     |████████████████████████████████| 127 kB 77.6 MB/s \n",
            "\u001b[?25hRequirement already satisfied: click in /usr/local/lib/python3.7/dist-packages (from sacremoses->pytorch-transformers) (7.1.2)\n",
            "Requirement already satisfied: joblib in /usr/local/lib/python3.7/dist-packages (from sacremoses->pytorch-transformers) (1.1.0)\n",
            "Building wheels for collected packages: sacremoses\n",
            "  Building wheel for sacremoses (setup.py) ... \u001b[?25l\u001b[?25hdone\n",
            "  Created wheel for sacremoses: filename=sacremoses-0.0.53-py3-none-any.whl size=895260 sha256=449b0fc3382d8d0cabad470614c6d26c18ea45fe51f918b1c36a6e2b2aafd075\n",
            "  Stored in directory: /root/.cache/pip/wheels/87/39/dd/a83eeef36d0bf98e7a4d1933a4ad2d660295a40613079bafc9\n",
            "Successfully built sacremoses\n",
            "Installing collected packages: urllib3, jmespath, botocore, s3transfer, sentencepiece, sacremoses, boto3, pytorch-transformers\n",
            "  Attempting uninstall: urllib3\n",
            "    Found existing installation: urllib3 1.24.3\n",
            "    Uninstalling urllib3-1.24.3:\n",
            "      Successfully uninstalled urllib3-1.24.3\n",
            "\u001b[31mERROR: pip's dependency resolver does not currently take into account all the packages that are installed. This behaviour is the source of the following dependency conflicts.\n",
            "datascience 0.10.6 requires folium==0.2.1, but you have folium 0.8.3 which is incompatible.\u001b[0m\n",
            "Successfully installed boto3-1.24.22 botocore-1.27.22 jmespath-1.0.1 pytorch-transformers-1.2.0 s3transfer-0.6.0 sacremoses-0.0.53 sentencepiece-0.1.96 urllib3-1.25.11\n",
            "--2022-07-05 06:52:42--  https://raw.githubusercontent.com/gilbutITbook/080289/main/chap10/data/training.txt\n",
            "Resolving raw.githubusercontent.com (raw.githubusercontent.com)... 185.199.108.133, 185.199.109.133, 185.199.110.133, ...\n",
            "Connecting to raw.githubusercontent.com (raw.githubusercontent.com)|185.199.108.133|:443... connected.\n",
            "HTTP request sent, awaiting response... 200 OK\n",
            "Length: 1996951 (1.9M) [text/plain]\n",
            "Saving to: ‘train.txt’\n",
            "\n",
            "train.txt           100%[===================>]   1.90M  --.-KB/s    in 0.006s  \n",
            "\n",
            "2022-07-05 06:52:44 (326 MB/s) - ‘train.txt’ saved [1996951/1996951]\n",
            "\n",
            "--2022-07-05 06:52:44--  https://raw.githubusercontent.com/gilbutITbook/080289/main/chap10/data/validing.txt\n",
            "Resolving raw.githubusercontent.com (raw.githubusercontent.com)... 185.199.108.133, 185.199.109.133, 185.199.110.133, ...\n",
            "Connecting to raw.githubusercontent.com (raw.githubusercontent.com)|185.199.108.133|:443... connected.\n",
            "HTTP request sent, awaiting response... 200 OK\n",
            "Length: 1949991 (1.9M) [text/plain]\n",
            "Saving to: ‘valid.txt’\n",
            "\n",
            "valid.txt           100%[===================>]   1.86M  --.-KB/s    in 0.006s  \n",
            "\n",
            "2022-07-05 06:52:45 (287 MB/s) - ‘valid.txt’ saved [1949991/1949991]\n",
            "\n",
            "--2022-07-05 06:52:45--  https://raw.githubusercontent.com/gilbutITbook/080289/main/chap10/data/testing.txt\n",
            "Resolving raw.githubusercontent.com (raw.githubusercontent.com)... 185.199.108.133, 185.199.109.133, 185.199.110.133, ...\n",
            "Connecting to raw.githubusercontent.com (raw.githubusercontent.com)|185.199.108.133|:443... connected.\n",
            "HTTP request sent, awaiting response... 200 OK\n",
            "Length: 1063209 (1.0M) [text/plain]\n",
            "Saving to: ‘test.txt’\n",
            "\n",
            "test.txt            100%[===================>]   1.01M  --.-KB/s    in 0.009s  \n",
            "\n",
            "2022-07-05 06:52:46 (108 MB/s) - ‘test.txt’ saved [1063209/1063209]\n",
            "\n"
          ]
        }
      ],
      "source": [
        "!pip install transformers\n",
        "!pip install pytorch-transformers\n",
        "\n",
        "!wget -O train.txt https://raw.githubusercontent.com/gilbutITbook/080289/main/chap10/data/training.txt\n",
        "!wget -O valid.txt https://raw.githubusercontent.com/gilbutITbook/080289/main/chap10/data/validing.txt\n",
        "!wget -O test.txt https://raw.githubusercontent.com/gilbutITbook/080289/main/chap10/data/testing.txt\n",
        "\n",
        "!mkdir /content/data"
      ]
    },
    {
      "cell_type": "code",
      "source": [
        "# 라이브러리 호출\n",
        "import pandas as pd\n",
        "import seaborn as sns\n",
        "import matplotlib.pyplot as plt\n",
        "\n",
        "import torch\n",
        "import torch.nn as nn\n",
        "import torch.optim as optim\n",
        "import torch.nn.functional as F\n",
        "\n",
        "from torch.utils.data import Dataset, DataLoader\n",
        "from pytorch_transformers import BertTokenizer, BertForSequenceClassification\n",
        "from sklearn.metrics import accuracy_score, classification_report, confusion_matrix\n",
        "\n",
        "device = torch.device('cuda' if torch.cuda.is_available() else 'cpu')"
      ],
      "metadata": {
        "id": "AbNvpnjN78w5"
      },
      "execution_count": null,
      "outputs": []
    },
    {
      "cell_type": "code",
      "source": [
        "# 데이터셋 불러오기\n",
        "train_df = pd.read_csv('train.txt', sep='\\t')\n",
        "valid_df = pd.read_csv('valid.txt', sep='\\t')\n",
        "test_df = pd.read_csv('test.txt', sep='\\t')"
      ],
      "metadata": {
        "id": "SxfF6htP8q7T"
      },
      "execution_count": null,
      "outputs": []
    },
    {
      "cell_type": "code",
      "source": [
        "# 불러온 데이터셋 중 일부만 사용\n",
        "train_df = train_df.sample(frac=0.1, random_state=500)\n",
        "valid_df = valid_df.sample(frac=0.1, random_state=500)\n",
        "test_df = test_df.sample(frac=0.1, random_state=500)"
      ],
      "metadata": {
        "id": "Cu_DH2wl-SFp"
      },
      "execution_count": null,
      "outputs": []
    },
    {
      "cell_type": "code",
      "source": [
        "# 데이터셋 생성\n",
        "class Datasets(Dataset):\n",
        "  def __init__(self, df):\n",
        "    self.df = df\n",
        "\n",
        "  def __len__(self):\n",
        "    return len(self.df)\n",
        "\n",
        "  def __getitem__(self, idx):\n",
        "    text = self.df.iloc[idx, 1]\n",
        "    label = self.df.iloc[idx, 2]\n",
        "    return text, label"
      ],
      "metadata": {
        "id": "H5rQ5mb1-d4Q"
      },
      "execution_count": null,
      "outputs": []
    },
    {
      "cell_type": "code",
      "source": [
        "# 데이터셋의 데이터를 데이터로더로 전달\n",
        "train_dataset = Datasets(train_df)\n",
        "train_loader = DataLoader(train_dataset, batch_size=2, shuffle=True, num_workers=0)\n",
        "\n",
        "valid_dataset = Datasets(valid_df)\n",
        "valid_loader = DataLoader(valid_dataset, batch_size=2, shuffle=True, num_workers=0)\n",
        "\n",
        "test_dataset = Datasets(test_df)\n",
        "test_loader = DataLoader(test_dataset, batch_size=2, shuffle=True, num_workers=0)"
      ],
      "metadata": {
        "id": "2nVHffU7_ZSf"
      },
      "execution_count": null,
      "outputs": []
    },
    {
      "cell_type": "code",
      "source": [
        "# 버트 토크나이저 내려받기\n",
        "tokenizer = BertTokenizer.from_pretrained('bert-base-uncased')\n",
        "model = BertForSequenceClassification.from_pretrained('bert-base-uncased')\n",
        "model.to(device)"
      ],
      "metadata": {
        "colab": {
          "base_uri": "https://localhost:8080/"
        },
        "id": "zQZDM5BA_3o0",
        "outputId": "d9236883-9071-41dd-81f2-e321dc330c46"
      },
      "execution_count": null,
      "outputs": [
        {
          "output_type": "stream",
          "name": "stderr",
          "text": [
            "100%|██████████| 231508/231508 [00:00<00:00, 360338.49B/s]\n",
            "100%|██████████| 433/433 [00:00<00:00, 177183.77B/s]\n",
            "100%|██████████| 440473133/440473133 [00:39<00:00, 11065504.66B/s]\n"
          ]
        },
        {
          "output_type": "execute_result",
          "data": {
            "text/plain": [
              "BertForSequenceClassification(\n",
              "  (bert): BertModel(\n",
              "    (embeddings): BertEmbeddings(\n",
              "      (word_embeddings): Embedding(30522, 768, padding_idx=0)\n",
              "      (position_embeddings): Embedding(512, 768)\n",
              "      (token_type_embeddings): Embedding(2, 768)\n",
              "      (LayerNorm): LayerNorm((768,), eps=1e-12, elementwise_affine=True)\n",
              "      (dropout): Dropout(p=0.1, inplace=False)\n",
              "    )\n",
              "    (encoder): BertEncoder(\n",
              "      (layer): ModuleList(\n",
              "        (0): BertLayer(\n",
              "          (attention): BertAttention(\n",
              "            (self): BertSelfAttention(\n",
              "              (query): Linear(in_features=768, out_features=768, bias=True)\n",
              "              (key): Linear(in_features=768, out_features=768, bias=True)\n",
              "              (value): Linear(in_features=768, out_features=768, bias=True)\n",
              "              (dropout): Dropout(p=0.1, inplace=False)\n",
              "            )\n",
              "            (output): BertSelfOutput(\n",
              "              (dense): Linear(in_features=768, out_features=768, bias=True)\n",
              "              (LayerNorm): LayerNorm((768,), eps=1e-12, elementwise_affine=True)\n",
              "              (dropout): Dropout(p=0.1, inplace=False)\n",
              "            )\n",
              "          )\n",
              "          (intermediate): BertIntermediate(\n",
              "            (dense): Linear(in_features=768, out_features=3072, bias=True)\n",
              "          )\n",
              "          (output): BertOutput(\n",
              "            (dense): Linear(in_features=3072, out_features=768, bias=True)\n",
              "            (LayerNorm): LayerNorm((768,), eps=1e-12, elementwise_affine=True)\n",
              "            (dropout): Dropout(p=0.1, inplace=False)\n",
              "          )\n",
              "        )\n",
              "        (1): BertLayer(\n",
              "          (attention): BertAttention(\n",
              "            (self): BertSelfAttention(\n",
              "              (query): Linear(in_features=768, out_features=768, bias=True)\n",
              "              (key): Linear(in_features=768, out_features=768, bias=True)\n",
              "              (value): Linear(in_features=768, out_features=768, bias=True)\n",
              "              (dropout): Dropout(p=0.1, inplace=False)\n",
              "            )\n",
              "            (output): BertSelfOutput(\n",
              "              (dense): Linear(in_features=768, out_features=768, bias=True)\n",
              "              (LayerNorm): LayerNorm((768,), eps=1e-12, elementwise_affine=True)\n",
              "              (dropout): Dropout(p=0.1, inplace=False)\n",
              "            )\n",
              "          )\n",
              "          (intermediate): BertIntermediate(\n",
              "            (dense): Linear(in_features=768, out_features=3072, bias=True)\n",
              "          )\n",
              "          (output): BertOutput(\n",
              "            (dense): Linear(in_features=3072, out_features=768, bias=True)\n",
              "            (LayerNorm): LayerNorm((768,), eps=1e-12, elementwise_affine=True)\n",
              "            (dropout): Dropout(p=0.1, inplace=False)\n",
              "          )\n",
              "        )\n",
              "        (2): BertLayer(\n",
              "          (attention): BertAttention(\n",
              "            (self): BertSelfAttention(\n",
              "              (query): Linear(in_features=768, out_features=768, bias=True)\n",
              "              (key): Linear(in_features=768, out_features=768, bias=True)\n",
              "              (value): Linear(in_features=768, out_features=768, bias=True)\n",
              "              (dropout): Dropout(p=0.1, inplace=False)\n",
              "            )\n",
              "            (output): BertSelfOutput(\n",
              "              (dense): Linear(in_features=768, out_features=768, bias=True)\n",
              "              (LayerNorm): LayerNorm((768,), eps=1e-12, elementwise_affine=True)\n",
              "              (dropout): Dropout(p=0.1, inplace=False)\n",
              "            )\n",
              "          )\n",
              "          (intermediate): BertIntermediate(\n",
              "            (dense): Linear(in_features=768, out_features=3072, bias=True)\n",
              "          )\n",
              "          (output): BertOutput(\n",
              "            (dense): Linear(in_features=3072, out_features=768, bias=True)\n",
              "            (LayerNorm): LayerNorm((768,), eps=1e-12, elementwise_affine=True)\n",
              "            (dropout): Dropout(p=0.1, inplace=False)\n",
              "          )\n",
              "        )\n",
              "        (3): BertLayer(\n",
              "          (attention): BertAttention(\n",
              "            (self): BertSelfAttention(\n",
              "              (query): Linear(in_features=768, out_features=768, bias=True)\n",
              "              (key): Linear(in_features=768, out_features=768, bias=True)\n",
              "              (value): Linear(in_features=768, out_features=768, bias=True)\n",
              "              (dropout): Dropout(p=0.1, inplace=False)\n",
              "            )\n",
              "            (output): BertSelfOutput(\n",
              "              (dense): Linear(in_features=768, out_features=768, bias=True)\n",
              "              (LayerNorm): LayerNorm((768,), eps=1e-12, elementwise_affine=True)\n",
              "              (dropout): Dropout(p=0.1, inplace=False)\n",
              "            )\n",
              "          )\n",
              "          (intermediate): BertIntermediate(\n",
              "            (dense): Linear(in_features=768, out_features=3072, bias=True)\n",
              "          )\n",
              "          (output): BertOutput(\n",
              "            (dense): Linear(in_features=3072, out_features=768, bias=True)\n",
              "            (LayerNorm): LayerNorm((768,), eps=1e-12, elementwise_affine=True)\n",
              "            (dropout): Dropout(p=0.1, inplace=False)\n",
              "          )\n",
              "        )\n",
              "        (4): BertLayer(\n",
              "          (attention): BertAttention(\n",
              "            (self): BertSelfAttention(\n",
              "              (query): Linear(in_features=768, out_features=768, bias=True)\n",
              "              (key): Linear(in_features=768, out_features=768, bias=True)\n",
              "              (value): Linear(in_features=768, out_features=768, bias=True)\n",
              "              (dropout): Dropout(p=0.1, inplace=False)\n",
              "            )\n",
              "            (output): BertSelfOutput(\n",
              "              (dense): Linear(in_features=768, out_features=768, bias=True)\n",
              "              (LayerNorm): LayerNorm((768,), eps=1e-12, elementwise_affine=True)\n",
              "              (dropout): Dropout(p=0.1, inplace=False)\n",
              "            )\n",
              "          )\n",
              "          (intermediate): BertIntermediate(\n",
              "            (dense): Linear(in_features=768, out_features=3072, bias=True)\n",
              "          )\n",
              "          (output): BertOutput(\n",
              "            (dense): Linear(in_features=3072, out_features=768, bias=True)\n",
              "            (LayerNorm): LayerNorm((768,), eps=1e-12, elementwise_affine=True)\n",
              "            (dropout): Dropout(p=0.1, inplace=False)\n",
              "          )\n",
              "        )\n",
              "        (5): BertLayer(\n",
              "          (attention): BertAttention(\n",
              "            (self): BertSelfAttention(\n",
              "              (query): Linear(in_features=768, out_features=768, bias=True)\n",
              "              (key): Linear(in_features=768, out_features=768, bias=True)\n",
              "              (value): Linear(in_features=768, out_features=768, bias=True)\n",
              "              (dropout): Dropout(p=0.1, inplace=False)\n",
              "            )\n",
              "            (output): BertSelfOutput(\n",
              "              (dense): Linear(in_features=768, out_features=768, bias=True)\n",
              "              (LayerNorm): LayerNorm((768,), eps=1e-12, elementwise_affine=True)\n",
              "              (dropout): Dropout(p=0.1, inplace=False)\n",
              "            )\n",
              "          )\n",
              "          (intermediate): BertIntermediate(\n",
              "            (dense): Linear(in_features=768, out_features=3072, bias=True)\n",
              "          )\n",
              "          (output): BertOutput(\n",
              "            (dense): Linear(in_features=3072, out_features=768, bias=True)\n",
              "            (LayerNorm): LayerNorm((768,), eps=1e-12, elementwise_affine=True)\n",
              "            (dropout): Dropout(p=0.1, inplace=False)\n",
              "          )\n",
              "        )\n",
              "        (6): BertLayer(\n",
              "          (attention): BertAttention(\n",
              "            (self): BertSelfAttention(\n",
              "              (query): Linear(in_features=768, out_features=768, bias=True)\n",
              "              (key): Linear(in_features=768, out_features=768, bias=True)\n",
              "              (value): Linear(in_features=768, out_features=768, bias=True)\n",
              "              (dropout): Dropout(p=0.1, inplace=False)\n",
              "            )\n",
              "            (output): BertSelfOutput(\n",
              "              (dense): Linear(in_features=768, out_features=768, bias=True)\n",
              "              (LayerNorm): LayerNorm((768,), eps=1e-12, elementwise_affine=True)\n",
              "              (dropout): Dropout(p=0.1, inplace=False)\n",
              "            )\n",
              "          )\n",
              "          (intermediate): BertIntermediate(\n",
              "            (dense): Linear(in_features=768, out_features=3072, bias=True)\n",
              "          )\n",
              "          (output): BertOutput(\n",
              "            (dense): Linear(in_features=3072, out_features=768, bias=True)\n",
              "            (LayerNorm): LayerNorm((768,), eps=1e-12, elementwise_affine=True)\n",
              "            (dropout): Dropout(p=0.1, inplace=False)\n",
              "          )\n",
              "        )\n",
              "        (7): BertLayer(\n",
              "          (attention): BertAttention(\n",
              "            (self): BertSelfAttention(\n",
              "              (query): Linear(in_features=768, out_features=768, bias=True)\n",
              "              (key): Linear(in_features=768, out_features=768, bias=True)\n",
              "              (value): Linear(in_features=768, out_features=768, bias=True)\n",
              "              (dropout): Dropout(p=0.1, inplace=False)\n",
              "            )\n",
              "            (output): BertSelfOutput(\n",
              "              (dense): Linear(in_features=768, out_features=768, bias=True)\n",
              "              (LayerNorm): LayerNorm((768,), eps=1e-12, elementwise_affine=True)\n",
              "              (dropout): Dropout(p=0.1, inplace=False)\n",
              "            )\n",
              "          )\n",
              "          (intermediate): BertIntermediate(\n",
              "            (dense): Linear(in_features=768, out_features=3072, bias=True)\n",
              "          )\n",
              "          (output): BertOutput(\n",
              "            (dense): Linear(in_features=3072, out_features=768, bias=True)\n",
              "            (LayerNorm): LayerNorm((768,), eps=1e-12, elementwise_affine=True)\n",
              "            (dropout): Dropout(p=0.1, inplace=False)\n",
              "          )\n",
              "        )\n",
              "        (8): BertLayer(\n",
              "          (attention): BertAttention(\n",
              "            (self): BertSelfAttention(\n",
              "              (query): Linear(in_features=768, out_features=768, bias=True)\n",
              "              (key): Linear(in_features=768, out_features=768, bias=True)\n",
              "              (value): Linear(in_features=768, out_features=768, bias=True)\n",
              "              (dropout): Dropout(p=0.1, inplace=False)\n",
              "            )\n",
              "            (output): BertSelfOutput(\n",
              "              (dense): Linear(in_features=768, out_features=768, bias=True)\n",
              "              (LayerNorm): LayerNorm((768,), eps=1e-12, elementwise_affine=True)\n",
              "              (dropout): Dropout(p=0.1, inplace=False)\n",
              "            )\n",
              "          )\n",
              "          (intermediate): BertIntermediate(\n",
              "            (dense): Linear(in_features=768, out_features=3072, bias=True)\n",
              "          )\n",
              "          (output): BertOutput(\n",
              "            (dense): Linear(in_features=3072, out_features=768, bias=True)\n",
              "            (LayerNorm): LayerNorm((768,), eps=1e-12, elementwise_affine=True)\n",
              "            (dropout): Dropout(p=0.1, inplace=False)\n",
              "          )\n",
              "        )\n",
              "        (9): BertLayer(\n",
              "          (attention): BertAttention(\n",
              "            (self): BertSelfAttention(\n",
              "              (query): Linear(in_features=768, out_features=768, bias=True)\n",
              "              (key): Linear(in_features=768, out_features=768, bias=True)\n",
              "              (value): Linear(in_features=768, out_features=768, bias=True)\n",
              "              (dropout): Dropout(p=0.1, inplace=False)\n",
              "            )\n",
              "            (output): BertSelfOutput(\n",
              "              (dense): Linear(in_features=768, out_features=768, bias=True)\n",
              "              (LayerNorm): LayerNorm((768,), eps=1e-12, elementwise_affine=True)\n",
              "              (dropout): Dropout(p=0.1, inplace=False)\n",
              "            )\n",
              "          )\n",
              "          (intermediate): BertIntermediate(\n",
              "            (dense): Linear(in_features=768, out_features=3072, bias=True)\n",
              "          )\n",
              "          (output): BertOutput(\n",
              "            (dense): Linear(in_features=3072, out_features=768, bias=True)\n",
              "            (LayerNorm): LayerNorm((768,), eps=1e-12, elementwise_affine=True)\n",
              "            (dropout): Dropout(p=0.1, inplace=False)\n",
              "          )\n",
              "        )\n",
              "        (10): BertLayer(\n",
              "          (attention): BertAttention(\n",
              "            (self): BertSelfAttention(\n",
              "              (query): Linear(in_features=768, out_features=768, bias=True)\n",
              "              (key): Linear(in_features=768, out_features=768, bias=True)\n",
              "              (value): Linear(in_features=768, out_features=768, bias=True)\n",
              "              (dropout): Dropout(p=0.1, inplace=False)\n",
              "            )\n",
              "            (output): BertSelfOutput(\n",
              "              (dense): Linear(in_features=768, out_features=768, bias=True)\n",
              "              (LayerNorm): LayerNorm((768,), eps=1e-12, elementwise_affine=True)\n",
              "              (dropout): Dropout(p=0.1, inplace=False)\n",
              "            )\n",
              "          )\n",
              "          (intermediate): BertIntermediate(\n",
              "            (dense): Linear(in_features=768, out_features=3072, bias=True)\n",
              "          )\n",
              "          (output): BertOutput(\n",
              "            (dense): Linear(in_features=3072, out_features=768, bias=True)\n",
              "            (LayerNorm): LayerNorm((768,), eps=1e-12, elementwise_affine=True)\n",
              "            (dropout): Dropout(p=0.1, inplace=False)\n",
              "          )\n",
              "        )\n",
              "        (11): BertLayer(\n",
              "          (attention): BertAttention(\n",
              "            (self): BertSelfAttention(\n",
              "              (query): Linear(in_features=768, out_features=768, bias=True)\n",
              "              (key): Linear(in_features=768, out_features=768, bias=True)\n",
              "              (value): Linear(in_features=768, out_features=768, bias=True)\n",
              "              (dropout): Dropout(p=0.1, inplace=False)\n",
              "            )\n",
              "            (output): BertSelfOutput(\n",
              "              (dense): Linear(in_features=768, out_features=768, bias=True)\n",
              "              (LayerNorm): LayerNorm((768,), eps=1e-12, elementwise_affine=True)\n",
              "              (dropout): Dropout(p=0.1, inplace=False)\n",
              "            )\n",
              "          )\n",
              "          (intermediate): BertIntermediate(\n",
              "            (dense): Linear(in_features=768, out_features=3072, bias=True)\n",
              "          )\n",
              "          (output): BertOutput(\n",
              "            (dense): Linear(in_features=3072, out_features=768, bias=True)\n",
              "            (LayerNorm): LayerNorm((768,), eps=1e-12, elementwise_affine=True)\n",
              "            (dropout): Dropout(p=0.1, inplace=False)\n",
              "          )\n",
              "        )\n",
              "      )\n",
              "    )\n",
              "    (pooler): BertPooler(\n",
              "      (dense): Linear(in_features=768, out_features=768, bias=True)\n",
              "      (activation): Tanh()\n",
              "    )\n",
              "  )\n",
              "  (dropout): Dropout(p=0.1, inplace=False)\n",
              "  (classifier): Linear(in_features=768, out_features=2, bias=True)\n",
              ")"
            ]
          },
          "metadata": {},
          "execution_count": 7
        }
      ]
    },
    {
      "cell_type": "code",
      "source": [
        "# 최적화 모델 저장\n",
        "def save_checkpoint(save_path, model, valid_loss):  # 모델 평가를 위한 훈련 과정을 저장\n",
        "  if save_path == None:\n",
        "    return\n",
        "  state_dict = {'model_state_dict': model.state_dict(), 'valid_loss':valid_loss}\n",
        "  torch.save(state_dict, save_path)\n",
        "  print(f'Model saved to ==> {save_path}')\n",
        "\n",
        "def load_checkpoint(load_path, model):      # save_checkpoint 함수에서 저장된 모델을 로드\n",
        "  if load_path == None:\n",
        "    return\n",
        "  state_dict = torch.load(load_path, map_location=device)\n",
        "  print(f'Model loaded to <== {load_path}')\n",
        "  model.load_state_dict(state_dict['model_state_dict'])\n",
        "  return state_dict['valid_loss']\n",
        "\n",
        "def save_metrics(save_path, train_loss_list, valid_loss_list, global_steps_list):  # 훈련, 검증에 대한 오차와 에포크를 저장\n",
        "  if save_path == None:\n",
        "    return\n",
        "  state_dict = {'train_loss_list': train_loss_list,\n",
        "                'valid_loss_list': valid_loss_list,\n",
        "                'global_steps_list': global_steps_list}\n",
        "  torch.save(state_dict, save_path)\n",
        "  print(f'Model saved to ==> {save_path}')\n",
        "\n",
        "def load_metrics(load_path):\n",
        "  if load_path == None:\n",
        "    return \n",
        "  state_dict = torch.load(load_path, map_location=device)\n",
        "  print(f'Model loaded to <== {load_path}')\n",
        "  return state_dict['train_loss_list'], state_dict['valid_loss_list'], state_dict['global_steps_list']"
      ],
      "metadata": {
        "id": "7e2F5exGAb1C"
      },
      "execution_count": null,
      "outputs": []
    },
    {
      "cell_type": "markdown",
      "source": [
        "`model.state_dict()`:  \n",
        "Pytorch에서 `torch.nn.Module` 모델의 학습 가능한 매개변수(예: 가중치, 편향)들은 모델의 매개변수에 포함되어 있다.(model.paratemers()로 접근 가능). `state_dict()`은 각 계층을 매개변수 텐서로 매핑되는 Pytorch 사전 객체다. `state_dict()`객체는 Python의 dictionary이기 때문에 쉽게 저장, 업데이트, 복원 및 변경을 할 수 있다. "
      ],
      "metadata": {
        "id": "jLB44fmLuHrp"
      }
    },
    {
      "cell_type": "code",
      "source": [
        "# 모델 훈련 함수 정의\n",
        "def train(model, \n",
        "          optimizer, \n",
        "          criterion=nn.BCELoss(),  # 영화 리뷰는 좋고 나쁨만 있으므로 BinaryCrossEntropy를 사용\n",
        "          num_epochs=5, \n",
        "          eval_every=len(train_loader)//2,\n",
        "          best_valid_loss=float('Inf')):\n",
        "  \n",
        "  total_correct= 0.0\n",
        "  total_len = 0.0\n",
        "  running_loss = 0.0\n",
        "  valid_running_loss = 0.0\n",
        "  global_step = 0\n",
        "  train_loss_list = []\n",
        "  valid_loss_list = []\n",
        "  global_steps_list = []\n",
        "\n",
        "  model.train()\n",
        "  for epoch in range(num_epochs):\n",
        "    for text, label in train_loader:\n",
        "      optimizer.zero_grad()\n",
        "      # text의 글들을 토크나이징\n",
        "      encoded_list = [tokenizer.encode(t, add_special_tokens=True) for t in text]\n",
        "      # 토크나이즈한 텐서를 512의 크기로 고정\n",
        "      padded_list = [ e+[0] * (512-len(e)) for e in encoded_list ] \n",
        "      sample = torch.tensor(padded_list)\n",
        "      sample, label = sample.to(device), label.to(device)\n",
        "      labels = torch.tensor(label)\n",
        "      outputs = model(sample, labels=labels)\n",
        "      loss, logits = outputs\n",
        "\n",
        "      pred = torch.argmax(F.softmax(logits), dim=1)\n",
        "      correct = pred.eq(labels) # labels와 pred의 원소들을 비교하여 같으면 True를 반환\n",
        "      total_correct += correct.sum().item()\n",
        "      total_len += len(labels)\n",
        "      running_loss += loss.item()\n",
        "      loss.backward()\n",
        "      optimizer.step()\n",
        "      global_step += 1\n",
        "\n",
        "      if global_step % eval_every == 0:\n",
        "        model.eval()\n",
        "        with torch.no_grad():\n",
        "          for text, label in valid_loader:\n",
        "            encoded_list = [tokenizer.encode(t, add_special_tokens=True) for t in text]\n",
        "            padded_list = [ e+[0] * (512-len(e)) for e in encoded_list ]\n",
        "            sample = torch.tensor(padded_list)\n",
        "            sample, label = sample.to(device), label.to(device)\n",
        "            labels = torch.tensor(label)\n",
        "            outputs = model(sample, labels=labels)\n",
        "            loss, logits = outputs\n",
        "            valid_running_loss += loss.item()\n",
        "\n",
        "        average_train_loss = running_loss / eval_every\n",
        "        average_valid_loss = valid_running_loss / eval_every\n",
        "        train_loss_list.append(average_train_loss)\n",
        "        valid_loss_list.append(average_valid_loss)\n",
        "        global_steps_list.append(global_step)\n",
        "\n",
        "        running_loss = 0.0\n",
        "        valid_running_loss = 0.0\n",
        "        model.train()\n",
        "\n",
        "        print('Epoch [{}/{}], Step[{}/{}], Train Loss: {:.4f}, Valid Loss: {:.4f}'\\\n",
        "              .format(epoch+1, num_epochs, global_step, num_epochs*len(train_loader), average_train_loss, average_valid_loss))\n",
        "        \n",
        "        if best_valid_loss > average_valid_loss:\n",
        "          best_valid_loss = average_valid_loss\n",
        "          save_checkpoint('/content/data/model.pt', model, best_valid_loss)    # 오차가 작아지면 모델 저장\n",
        "          save_metrics('/content/data/metrics.pt', train_loss_list, valid_loss_list, global_steps_list) # 평가에 사용된 훈련 오차, 검증 오차, 에포크(스텝)를 저장\n",
        "      \n",
        "  # 최종으로 사용된 훈련 오차, 검증 오차, 에포크(스텝)을 저장\n",
        "  save_metrics('/content/data/metrics.pt', train_loss_list, valid_loss_list, global_steps_list)\n",
        "  print('훈련 종료!')"
      ],
      "metadata": {
        "id": "Ac3D7D-QvOVi"
      },
      "execution_count": null,
      "outputs": []
    },
    {
      "cell_type": "code",
      "source": [
        "# 모델의 파라미터(옵티마이저) 미세조정 및 모델 훈련\n",
        "optimizer = optim.Adam(model.parameters(), lr=2e-5) # 옵티마이저와 적절한 학습률로 BERT 모델을 fine-tunning\n",
        "train(model=model, optimizer=optimizer)"
      ],
      "metadata": {
        "colab": {
          "base_uri": "https://localhost:8080/"
        },
        "id": "mb13xjWCxIRx",
        "outputId": "201554cf-fccc-49d6-ab43-cd87d6a84911"
      },
      "execution_count": null,
      "outputs": [
        {
          "output_type": "stream",
          "name": "stderr",
          "text": [
            "/usr/local/lib/python3.7/dist-packages/ipykernel_launcher.py:28: UserWarning: To copy construct from a tensor, it is recommended to use sourceTensor.clone().detach() or sourceTensor.clone().detach().requires_grad_(True), rather than torch.tensor(sourceTensor).\n",
            "/usr/local/lib/python3.7/dist-packages/ipykernel_launcher.py:32: UserWarning: Implicit dimension choice for softmax has been deprecated. Change the call to include dim=X as an argument.\n",
            "/usr/local/lib/python3.7/dist-packages/ipykernel_launcher.py:49: UserWarning: To copy construct from a tensor, it is recommended to use sourceTensor.clone().detach() or sourceTensor.clone().detach().requires_grad_(True), rather than torch.tensor(sourceTensor).\n"
          ]
        },
        {
          "output_type": "stream",
          "name": "stdout",
          "text": [
            "Epoch [1/5], Step[510/5100], Train Loss: 0.7066, Valid Loss: 1.3696\n",
            "Model saved to ==> /content/data/model.pt\n",
            "Model saved to ==> /content/data/metrics.pt\n",
            "Epoch [1/5], Step[1020/5100], Train Loss: 0.7025, Valid Loss: 1.3731\n",
            "Epoch [2/5], Step[1530/5100], Train Loss: 0.7065, Valid Loss: 1.3696\n",
            "Model saved to ==> /content/data/model.pt\n",
            "Model saved to ==> /content/data/metrics.pt\n",
            "Epoch [2/5], Step[2040/5100], Train Loss: 0.7068, Valid Loss: 1.3658\n",
            "Model saved to ==> /content/data/model.pt\n",
            "Model saved to ==> /content/data/metrics.pt\n",
            "Epoch [3/5], Step[2550/5100], Train Loss: 0.7018, Valid Loss: 1.3700\n",
            "Epoch [3/5], Step[3060/5100], Train Loss: 0.6988, Valid Loss: 1.3791\n",
            "Epoch [4/5], Step[3570/5100], Train Loss: 0.7046, Valid Loss: 1.3674\n",
            "Epoch [4/5], Step[4080/5100], Train Loss: 0.7115, Valid Loss: 1.3626\n",
            "Model saved to ==> /content/data/model.pt\n",
            "Model saved to ==> /content/data/metrics.pt\n",
            "Epoch [5/5], Step[4590/5100], Train Loss: 0.7079, Valid Loss: 1.3840\n",
            "Epoch [5/5], Step[5100/5100], Train Loss: 0.7023, Valid Loss: 1.3636\n",
            "Model saved to ==> /content/data/metrics.pt\n",
            "훈련 종료!\n"
          ]
        }
      ]
    },
    {
      "cell_type": "code",
      "source": [
        "# 오차 정보를 그래프로 확인\n",
        "train_loss_list, valid_loss_list, global_steps_list = load_metrics('/content/data/metrics.pt') # 최종적으로 저장된 모델을 로드\n",
        "\n",
        "plt.plot(global_steps_list, train_loss_list, label='Train')\n",
        "plt.plot(global_steps_list, valid_loss_list, label='Valid')\n",
        "plt.xlabel('Global Steps')\n",
        "plt.ylabel('Loss')\n",
        "plt.legend();"
      ],
      "metadata": {
        "colab": {
          "base_uri": "https://localhost:8080/",
          "height": 297
        },
        "id": "r2QX7_Ql4HWg",
        "outputId": "f6b899f8-ee91-41bf-83b7-c5fd1a927a46"
      },
      "execution_count": null,
      "outputs": [
        {
          "output_type": "stream",
          "name": "stdout",
          "text": [
            "Model loaded to <== /content/data/metrics.pt\n"
          ]
        },
        {
          "output_type": "display_data",
          "data": {
            "text/plain": [
              "<Figure size 432x288 with 1 Axes>"
            ],
            "image/png": "[encoded data removed]"
          },
          "metadata": {
            "needs_background": "light"
          }
        }
      ]
    },
    {
      "cell_type": "code",
      "source": [
        "# 모델 평가 함수 정의\n",
        "def evaluate(model, test_loader):\n",
        "  y_pred = []\n",
        "  y_true = []\n",
        "\n",
        "  model.eval()\n",
        "  with torch.no_grad():\n",
        "    for text, label in test_loader:\n",
        "      encoded_list = [tokenizer.encode(t, add_special_tokens=True) for t in text]\n",
        "      padded_list = [e + [0] * (512-len(e)) for e in encoded_list]\n",
        "      sample = torch.tensor(padded_list)\n",
        "      sample, label = sample.to(device), label.to(device)\n",
        "      labels = torch.tensor(label)\n",
        "      output = model(sample, labels=label)\n",
        "      _, output = output\n",
        "      y_pred.extend(torch.argmax(output, 1).tolist())\n",
        "      y_true.extend(labels.tolist())\n",
        "\n",
        "  print('Classification 결과')\n",
        "  print(classification_report(y_true, y_pred, labels=[1,0], digits=4))\n",
        "\n",
        "  cm = confusion_matrix(y_true, y_pred, labels=[1,0])\n",
        "  ax = plt.subplot()\n",
        "  sns.heatmap(cm, annot=True, ax=ax, cmap='Blues', fmt=\"d\")\n",
        "  ax.set_title('Confusion Matrix')\n",
        "  ax.set_xlabel('Predicted Labels')\n",
        "  ax.set_ylabel('True Labels')\n",
        "  ax.xaxis.set_ticklabels(['0', '1'])\n",
        "  ax.yaxis.set_ticklabels(['0', '1'])"
      ],
      "metadata": {
        "id": "i1OB4g8_6FQ0"
      },
      "execution_count": null,
      "outputs": []
    },
    {
      "cell_type": "code",
      "source": [
        "# 모델 평가\n",
        "best_model = model.to(device)\n",
        "load_checkpoint('/content/data/model.pt', best_model)\n",
        "evaluate(best_model, test_loader)"
      ],
      "metadata": {
        "colab": {
          "base_uri": "https://localhost:8080/",
          "height": 662
        },
        "id": "HoXjaiWw9OAt",
        "outputId": "5ab5c771-f0bb-4f24-a127-8ccfcde285eb"
      },
      "execution_count": null,
      "outputs": [
        {
          "output_type": "stream",
          "name": "stdout",
          "text": [
            "Model loaded to <== /content/data/model.pt\n"
          ]
        },
        {
          "output_type": "stream",
          "name": "stderr",
          "text": [
            "/usr/local/lib/python3.7/dist-packages/ipykernel_launcher.py:13: UserWarning: To copy construct from a tensor, it is recommended to use sourceTensor.clone().detach() or sourceTensor.clone().detach().requires_grad_(True), rather than torch.tensor(sourceTensor).\n",
            "  del sys.path[0]\n"
          ]
        },
        {
          "output_type": "stream",
          "name": "stdout",
          "text": [
            "Classification 결과\n",
            "              precision    recall  f1-score   support\n",
            "\n",
            "           1     0.5091    1.0000    0.6747       558\n",
            "           0     0.0000    0.0000    0.0000       538\n",
            "\n",
            "    accuracy                         0.5091      1096\n",
            "   macro avg     0.2546    0.5000    0.3374      1096\n",
            "weighted avg     0.2592    0.5091    0.3435      1096\n",
            "\n"
          ]
        },
        {
          "output_type": "stream",
          "name": "stderr",
          "text": [
            "/usr/local/lib/python3.7/dist-packages/sklearn/metrics/_classification.py:1318: UndefinedMetricWarning: Precision and F-score are ill-defined and being set to 0.0 in labels with no predicted samples. Use `zero_division` parameter to control this behavior.\n",
            "  _warn_prf(average, modifier, msg_start, len(result))\n",
            "/usr/local/lib/python3.7/dist-packages/sklearn/metrics/_classification.py:1318: UndefinedMetricWarning: Precision and F-score are ill-defined and being set to 0.0 in labels with no predicted samples. Use `zero_division` parameter to control this behavior.\n",
            "  _warn_prf(average, modifier, msg_start, len(result))\n",
            "/usr/local/lib/python3.7/dist-packages/sklearn/metrics/_classification.py:1318: UndefinedMetricWarning: Precision and F-score are ill-defined and being set to 0.0 in labels with no predicted samples. Use `zero_division` parameter to control this behavior.\n",
            "  _warn_prf(average, modifier, msg_start, len(result))\n"
          ]
        },
        {
          "output_type": "display_data",
          "data": {
            "text/plain": [
              "<Figure size 432x288 with 2 Axes>"
            ],
            "image/png": "[encoded data removed]"
          },
          "metadata": {
            "needs_background": "light"
          }
        }
      ]
    },
    {
      "cell_type": "markdown",
      "source": [
        "결과가 좋지 않다. 모델을 훈련하기 위한 데이터가 작았을 뿐더러, 사전 훈련된 모델도 다국어를 지원하는 모델이 아니었다. "
      ],
      "metadata": {
        "id": "jIqGj0aJ_hmD"
      }
    },
    {
      "cell_type": "markdown",
      "source": [
        "# 한국어 임베딩\n",
        "- 다국어용 버트 모델인 `bert-base-multilingual-cased`를 사용하여 한국어 임베딩을 시도"
      ],
      "metadata": {
        "id": "iaXzgs90_qoD"
      }
    },
    {
      "cell_type": "code",
      "source": [
        "!pip install 'git+https://github.com/SKTBrain/KoBERT.git#egg=kobert_tokenizer&subdirectory=kobert_hf'"
      ],
      "metadata": {
        "id": "y2Hv2XKOBbBc",
        "colab": {
          "base_uri": "https://localhost:8080/"
        },
        "outputId": "d7c2c5e0-966a-4e79-d30d-b0691d1f277f"
      },
      "execution_count": null,
      "outputs": [
        {
          "output_type": "stream",
          "name": "stdout",
          "text": [
            "Looking in indexes: https://pypi.org/simple, https://us-python.pkg.dev/colab-wheels/public/simple/\n",
            "Collecting kobert_tokenizer\n",
            "  Cloning https://github.com/SKTBrain/KoBERT.git to /tmp/pip-install-8tom6iy_/kobert-tokenizer_ef7fdea594b040b28fa60d68dbde7a54\n",
            "  Running command git clone -q https://github.com/SKTBrain/KoBERT.git /tmp/pip-install-8tom6iy_/kobert-tokenizer_ef7fdea594b040b28fa60d68dbde7a54\n",
            "Building wheels for collected packages: kobert-tokenizer\n",
            "  Building wheel for kobert-tokenizer (setup.py) ... \u001b[?25l\u001b[?25hdone\n",
            "  Created wheel for kobert-tokenizer: filename=kobert_tokenizer-0.1-py3-none-any.whl size=4649 sha256=afcb9377dd288e77e15355293754e24279f67bb1633680a7264f65bd530bbe6a\n",
            "  Stored in directory: /tmp/pip-ephem-wheel-cache-jxe1epol/wheels/10/b4/d9/cb627bbfaefa266657b0b4e8127f7bf96d27376fa1a23897b4\n",
            "Successfully built kobert-tokenizer\n",
            "Installing collected packages: kobert-tokenizer\n",
            "Successfully installed kobert-tokenizer-0.1\n"
          ]
        }
      ]
    },
    {
      "cell_type": "code",
      "source": [
        "# 라이브러리 호출\n",
        "import torch\n",
        "\n",
        "from transformers import BertTokenizer, BertModel\n",
        "from kobert_tokenizer import KoBERTTokenizer\n",
        "\n",
        "bert_tokenizer = BertTokenizer.from_pretrained('bert-base-multilingual-cased') # 다국어를 위한 버트 토크나이저\n",
        "kobert_tokenizer = KoBERTTokenizer.from_pretrained('skt/kobert-base-v1')"
      ],
      "metadata": {
        "colab": {
          "base_uri": "https://localhost:8080/",
          "height": 264,
          "referenced_widgets": [
            "310d34d0a35b413d95ae06c1d649087a",
            "54cac0fb52d84d2ea95786b31ec5e240",
            "459254a561e140df8d49da62987ae6bd",
            "e334f1a3e1004628aa5aad5b5cf30298",
            "852a41ce6bc14a42bc005376ec6e7565",
            "c7acc9d6923c4389a80dd098513e49af",
            "3b1265b3600f40feac05fd9066d119b8",
            "4bb41fe94a554c5eba37d016c72aa887",
            "9e064f1c31f644df89bcc79f79433cad",
            "4b5d5c137150485bab70973093f6cb82",
            "d9ae3e465f9c47e8a9e161408a9e98da",
            "d5157e09fbb7480f9332b771aa05c28d",
            "ba0ac3f751ff4f7b95e0290bd75ad6c9",
            "8ad8d8061f8f45109a89ae82c10a7ffb",
            "ebf913db78d0431693a2ba94c6aea2e7",
            "c06d1e7b2c86452dbd67dc8d1c6255b9",
            "e46557d29f024c30a66973b435138e55",
            "dd2453ff84634c189c5664691bb16125",
            "cbda416950ba4fa5ac32c770bc2f969b",
            "45eab16560b543d88a392fb38d24e601",
            "3d308c867aa84cecae6d5af3c48bcced",
            "2f1be892b51344d5ba09f90a5d5b7743",
            "e906a3e371324e74a5e5925ff790da60",
            "8ca5b4c4040140ed80a109edeff97c44",
            "9dfc8c0fb344457bad5365fa2f8caf6d",
            "e4aa0131e0024c109c1f0998ea69173e",
            "cdf917c57dec4283bb180d8acc3fa337",
            "7065f5ec517248f181d4ca428052926c",
            "92f002f3ca084da183b834f64bd42c50",
            "91b60fae9f614373b08cf168acf56ed7",
            "4245befc78494cc7b6efe2da80185657",
            "824f5b388cfa4ceb903950c7bbcf7c9a",
            "24280aef0bc34537960585198c23bab0",
            "1123fac776cb4ae691e1f15e1eb18885",
            "f761c1d538ae49a180fca556da6fc05e",
            "17731fd7ed514849aab6ac72e0afba8c",
            "c852698b50074007bc1d2ef6ea4dcfba",
            "3791933df395446cbcabeff47871ea0f",
            "ddc4c3e5d64b4df5b30f9bb7d0ec2dec",
            "769eb04cdd4a44dc8b9575c8a9dff3f6",
            "c4e7f0a7bcd5439b86fda3c24b993646",
            "69aba5a831d1435d8e27698c08677eee",
            "e94262d0d4bc4f92ad711827132cc1c1",
            "cca9ccbe6f1f4635800feefd3de3df82",
            "86f3395aa40d49eabfd7dd0ae975f39e",
            "bfa2dfdf1a534ddd96d06bd3d83be2f1",
            "42ba2250e7fc4ebeb717dc5513b1c5af",
            "1e85f5678ab447459efd7b33359eaee5",
            "13ecbe04e2844f0582416b8a90f29c65",
            "fa50c1bd33104dc9b0b903842bf0cd83",
            "a3d11432f71842b8a9e716a1cd3b3852",
            "baf3a77e8cca43c88fd0f693792564ea",
            "dc2bbd61770b4e909701b05eb735c935",
            "ace5657e03594cff8e219180451edb3a",
            "4fb875f1c6064c41983257d5ea5d9051",
            "47b769d3fbf6452a9d3a66e84c192a62",
            "82e183d674304fb998397fa1caf40ecd",
            "01ba90ef5dbb4812ac216af1817a2adb",
            "012e5749cdd74821b3c28839d54d6807",
            "8f822315fcdb4b6cb5eaace6241078b0",
            "2d2155c98d6344bb96a60a1353a76159",
            "56ed81509361410b898c4ee1e549c14b",
            "f0d2bb44b04c44f98464a1f59755d482",
            "73ea078193ae4c0f87f61f44b689caf2",
            "6e5630ecfd9c46bc9707d1c9eb836dc7",
            "93e7129c10e949708876ad549a8c2c77"
          ]
        },
        "id": "Kq9jhcFm_sVg",
        "outputId": "ac08862c-d298-4493-ea80-b66f9f738c8c"
      },
      "execution_count": null,
      "outputs": [
        {
          "output_type": "display_data",
          "data": {
            "text/plain": [
              "Downloading:   0%|          | 0.00/972k [00:00<?, ?B/s]"
            ],
            "application/vnd.jupyter.widget-view+json": {
              "version_major": 2,
              "version_minor": 0,
              "model_id": "310d34d0a35b413d95ae06c1d649087a"
            }
          },
          "metadata": {}
        },
        {
          "output_type": "display_data",
          "data": {
            "text/plain": [
              "Downloading:   0%|          | 0.00/29.0 [00:00<?, ?B/s]"
            ],
            "application/vnd.jupyter.widget-view+json": {
              "version_major": 2,
              "version_minor": 0,
              "model_id": "d5157e09fbb7480f9332b771aa05c28d"
            }
          },
          "metadata": {}
        },
        {
          "output_type": "display_data",
          "data": {
            "text/plain": [
              "Downloading:   0%|          | 0.00/625 [00:00<?, ?B/s]"
            ],
            "application/vnd.jupyter.widget-view+json": {
              "version_major": 2,
              "version_minor": 0,
              "model_id": "e906a3e371324e74a5e5925ff790da60"
            }
          },
          "metadata": {}
        },
        {
          "output_type": "display_data",
          "data": {
            "text/plain": [
              "Downloading:   0%|          | 0.00/363k [00:00<?, ?B/s]"
            ],
            "application/vnd.jupyter.widget-view+json": {
              "version_major": 2,
              "version_minor": 0,
              "model_id": "1123fac776cb4ae691e1f15e1eb18885"
            }
          },
          "metadata": {}
        },
        {
          "output_type": "display_data",
          "data": {
            "text/plain": [
              "Downloading:   0%|          | 0.00/244 [00:00<?, ?B/s]"
            ],
            "application/vnd.jupyter.widget-view+json": {
              "version_major": 2,
              "version_minor": 0,
              "model_id": "86f3395aa40d49eabfd7dd0ae975f39e"
            }
          },
          "metadata": {}
        },
        {
          "output_type": "display_data",
          "data": {
            "text/plain": [
              "Downloading:   0%|          | 0.00/432 [00:00<?, ?B/s]"
            ],
            "application/vnd.jupyter.widget-view+json": {
              "version_major": 2,
              "version_minor": 0,
              "model_id": "47b769d3fbf6452a9d3a66e84c192a62"
            }
          },
          "metadata": {}
        },
        {
          "output_type": "stream",
          "name": "stderr",
          "text": [
            "The tokenizer class you load from this checkpoint is not the same type as the class this function is called from. It may result in unexpected tokenization. \n",
            "The tokenizer class you load from this checkpoint is 'XLNetTokenizer'. \n",
            "The class this function is called from is 'KoBERTTokenizer'.\n"
          ]
        }
      ]
    },
    {
      "cell_type": "code",
      "source": [
        "# 문장 토크나이징\n",
        "text = '나는 파이토치를 이용한 딥러닝을 학습중이다.'\n",
        "marked_text = '[CLS] ' + text + ' [SEP]'  # 문장의 시작은 [CLS], 문장의 끝은 [SEP]의 형태를 맞춤\n",
        "bert_tokenized_text = bert_tokenizer.tokenize(marked_text)\n",
        "kobert_tokenized_text = kobert_tokenizer.tokenize(marked_text)\n",
        "\n",
        "print('multilingual-bert:\\n', bert_tokenized_text)\n",
        "print('kobert:\\n', kobert_tokenized_text)"
      ],
      "metadata": {
        "colab": {
          "base_uri": "https://localhost:8080/"
        },
        "id": "zu1sHouOAieA",
        "outputId": "1a0dea50-d25a-49fe-b197-16bc73b23cd3"
      },
      "execution_count": null,
      "outputs": [
        {
          "output_type": "stream",
          "name": "stdout",
          "text": [
            "multilingual-bert:\n",
            " ['[CLS]', '나는', '파', '##이', '##토', '##치를', '이', '##용한', '딥', '##러', '##닝', '##을', '학', '##습', '##중', '##이다', '.', '[SEP]']\n",
            "kobert:\n",
            " ['[CLS]', '▁나는', '▁파', '이', '토', '치를', '▁이용한', '▁', '딥', '러', '닝', '을', '▁학습', '중', '이다', '.', '[SEP]']\n"
          ]
        }
      ]
    },
    {
      "cell_type": "markdown",
      "source": [
        "multilingual-bert의 경우 쪼개진 단어가 정확하지 않음을 확인할 수 있다.\n",
        "- 이것은 버트 토크나이저가 단어의 가장 작은 조각을 기준으로 쪼개도록 설계되었기 때문이다. \n",
        "- 따라서 과하다 싶을 정도로 잘게 쪼개져 있다.\n",
        "- 영어의 경우 단어 기준으로 쪼개지기는 하지만 영어가 아닌 경우 토크나이징이 정확하지 않을 수 있다."
      ],
      "metadata": {
        "id": "P2dADP3wFWvy"
      }
    },
    {
      "cell_type": "code",
      "source": [
        "# 모델을 훈련시킬 텍스트 정의\n",
        "text = '과수원에 사과가 많았다.'\\\n",
        "       '친구가 나에게 사과했다.'\\\n",
        "       '백설공주는 독이 든 사과를 먹었다.'\n",
        "marked_text = '[CLS] ' + text + ' [SEP]'\n",
        "\n",
        "bert_tokenized_text = bert_tokenizer.tokenize(marked_text)  # 문장을 토큰으로 분리\n",
        "bert_indexed_tokens = bert_tokenizer.convert_tokens_to_ids(bert_tokenized_text) # 토큰 문자열에 인덱스를 매핑\n",
        "\n",
        "kobert_tokenized_text = kobert_tokenizer.tokenize(marked_text)\n",
        "kobert_indexed_tokens = kobert_tokenizer.convert_tokens_to_ids(bert_tokenized_text)"
      ],
      "metadata": {
        "id": "nZErZD_vBGfq"
      },
      "execution_count": null,
      "outputs": []
    },
    {
      "cell_type": "code",
      "source": [
        "# bert-base-multilingual-cased의 단어와 인덱스 출력\n",
        "for tup in zip(bert_tokenized_text, bert_indexed_tokens):\n",
        "  print('{:<12} {:<6,}'.format(tup[0], tup[1]))"
      ],
      "metadata": {
        "colab": {
          "base_uri": "https://localhost:8080/"
        },
        "id": "mv73_GumDve5",
        "outputId": "f7ab9589-4f42-4cc4-b4b3-e8238e010172"
      },
      "execution_count": null,
      "outputs": [
        {
          "output_type": "stream",
          "name": "stdout",
          "text": [
            "[CLS]        101   \n",
            "과            8,898 \n",
            "##수          15,891\n",
            "##원에         108,280\n",
            "사            9,405 \n",
            "##과          11,882\n",
            "##가          11,287\n",
            "많            9,249 \n",
            "##았다         27,303\n",
            ".            119   \n",
            "친            9,781 \n",
            "##구          17,196\n",
            "##가          11,287\n",
            "나            8,982 \n",
            "##에게         26,212\n",
            "사            9,405 \n",
            "##과          11,882\n",
            "##했다         12,490\n",
            ".            119   \n",
            "백            9,331 \n",
            "##설          31,928\n",
            "##공          28,000\n",
            "##주는         100,633\n",
            "독            9,088 \n",
            "##이          10,739\n",
            "든            9,115 \n",
            "사            9,405 \n",
            "##과          11,882\n",
            "##를          11,513\n",
            "먹            9,266 \n",
            "##었다         17,706\n",
            ".            119   \n",
            "[SEP]        102   \n"
          ]
        }
      ]
    },
    {
      "cell_type": "code",
      "source": [
        "# KoBERT의 단어와 인덱스 출력\n",
        "for tup in zip(kobert_tokenized_text, kobert_indexed_tokens):\n",
        "  print('{:<12} {:<6,}'.format(tup[0], tup[1]))"
      ],
      "metadata": {
        "colab": {
          "base_uri": "https://localhost:8080/"
        },
        "id": "yQFJNsbwEbI4",
        "outputId": "b8d3b41f-2947-4612-c96c-ce927ab31da8"
      },
      "execution_count": null,
      "outputs": [
        {
          "output_type": "stream",
          "name": "stdout",
          "text": [
            "[CLS]        2     \n",
            "▁            5,468 \n",
            "과            0     \n",
            "수원           0     \n",
            "에            6,493 \n",
            "▁사과          0     \n",
            "가            0     \n",
            "▁많았다         6,158 \n",
            ".            0     \n",
            "친            54    \n",
            "구            7,489 \n",
            "가            0     \n",
            "▁나           0     \n",
            "에게           5,655 \n",
            "▁사과          0     \n",
            "했다           6,493 \n",
            ".            0     \n",
            "백            0     \n",
            "설            54    \n",
            "공            6,314 \n",
            "주는           0     \n",
            "▁독           0     \n",
            "이            0     \n",
            "▁            5,865 \n",
            "든            0     \n",
            "▁사과          5,928 \n",
            "를            6,493 \n",
            "▁먹           0     \n",
            "었다           0     \n",
            ".            6,183 \n",
            "[SEP]        0     \n"
          ]
        }
      ]
    },
    {
      "cell_type": "markdown",
      "source": [
        "multilingual-bert의 경우 문장을 구별하기 위해 1과 0을 사용한다. 즉, 문장이 바뀔 때마다 0에서 1로 바뀌고, 또다시 문장이 바뀌면 1에서 0으로 바뀐다. 예를 들어 [0,0,1,1,1,0,0,0]이라는 결과가 있다면 이것은 세 개의 문장으로 구성되었음을 의미한다.  \n",
        "\n",
        "예제에서는 하나의 문장으로 인식시키기 위해 33개의 토큰에 벡터 1을 부여한다."
      ],
      "metadata": {
        "id": "ukS7drHOGH74"
      }
    },
    {
      "cell_type": "code",
      "source": [
        "# 문장 인식 단위 지정\n",
        "bert_segments_ids = [1] * len(bert_tokenized_text)\n",
        "kobert_segments_ids = [1] * len(kobert_tokenized_text)\n",
        "\n",
        "print('multilingual-bert:\\n', bert_segments_ids)\n",
        "print('kobert:\\n', kobert_segments_ids)"
      ],
      "metadata": {
        "colab": {
          "base_uri": "https://localhost:8080/"
        },
        "id": "ixaSBwoBEiCq",
        "outputId": "f68c2f6f-e6cd-4bec-8989-643e5a8c56ed"
      },
      "execution_count": null,
      "outputs": [
        {
          "output_type": "stream",
          "name": "stdout",
          "text": [
            "multilingual-bert:\n",
            " [1, 1, 1, 1, 1, 1, 1, 1, 1, 1, 1, 1, 1, 1, 1, 1, 1, 1, 1, 1, 1, 1, 1, 1, 1, 1, 1, 1, 1, 1, 1, 1, 1]\n",
            "kobert:\n",
            " [1, 1, 1, 1, 1, 1, 1, 1, 1, 1, 1, 1, 1, 1, 1, 1, 1, 1, 1, 1, 1, 1, 1, 1, 1, 1, 1, 1, 1, 1, 1]\n"
          ]
        }
      ]
    },
    {
      "cell_type": "code",
      "source": [
        "# 모델 생성\n",
        "model = BertModel.from_pretrained('bert-base-multilingual-cased', output_hidden_states=True)\n",
        "model.eval()"
      ],
      "metadata": {
        "id": "s13xIrGzHUtr"
      },
      "execution_count": null,
      "outputs": []
    },
    {
      "cell_type": "code",
      "source": [
        "# 인덱스와 토크나이징 결과를 텐서로 변환\n",
        "tokens_tensor = torch.tensor([bert_indexed_tokens])\n",
        "segments_tensors = torch.tensor([bert_segments_ids])"
      ],
      "metadata": {
        "id": "eSpwvhI4G5HV"
      },
      "execution_count": null,
      "outputs": []
    },
    {
      "cell_type": "code",
      "source": [
        "# 모델 훈련\n",
        "with torch.no_grad():   # 모델을 평가할 때는 기울기를 계산하지 않는다.\n",
        "  outputs = model(tokens_tensor, segments_tensors)\n",
        "  hidden_states = outputs[2]  # 네트워크의 은닉상태를 가져옴"
      ],
      "metadata": {
        "id": "i8fIEIntK7YL"
      },
      "execution_count": null,
      "outputs": []
    },
    {
      "cell_type": "code",
      "source": [
        "# 모델의 은닉 상태 정보 확인\n",
        "print('계층 개수: ', len(hidden_states), \"(initial embeddings + 12 BERT layers)\")\n",
        "layer_i=0\n",
        "\n",
        "print('배치 개수: ', len(hidden_states[layer_i]))\n",
        "batch_i=0\n",
        "\n",
        "print('토큰 개수: ', len(hidden_states[layer_i][batch_i]))\n",
        "\n",
        "token_i=0\n",
        "print('은닉층의 유닛 수: ', len(hidden_states[layer_i][batch_i][token_i]))"
      ],
      "metadata": {
        "id": "qloCCPoEORy4",
        "colab": {
          "base_uri": "https://localhost:8080/"
        },
        "outputId": "734cb500-f8d7-4d60-def0-865d87866717"
      },
      "execution_count": null,
      "outputs": [
        {
          "output_type": "stream",
          "name": "stdout",
          "text": [
            "계층 개수:  13 (initial embeddings + 12 BERT layers)\n",
            "배치 개수:  1\n",
            "토큰 개수:  33\n",
            "은닉층의 유닛 수:  768\n"
          ]
        }
      ]
    },
    {
      "cell_type": "markdown",
      "source": [
        "계층 개수(13개의 계층으로 구성), 배치 개수(한 개의 문장으로 구성), 토큰 개수(33개의 토큰으로 구성), 은닉층의 유닛 개수(768 특성)로 구성되어 있는 것을 확인 가능. 원래 버트는 12개의 계층으로 구성되어 있지만 최종 13개로 표현되는 이유는 첫번째 임베딩 계층이 포함되었기 때문.  \n",
        "\n",
        "현재는 네 개의 차원(계층/배치/토큰/은닉층 유닛)으로 구성되어 있지만 이것을 세 개의 차원(토큰/계층/은닉층 유닛)으로 변환해보자."
      ],
      "metadata": {
        "id": "ulPEl6n_TjCi"
      }
    },
    {
      "cell_type": "code",
      "source": [
        "# 모델의 은닉 상태 정보 확인\n",
        "print('은닉 상태의 유형: ', type(hidden_states))\n",
        "print('각 계층에서의 텐서 형태: ', hidden_states[0].size())"
      ],
      "metadata": {
        "colab": {
          "base_uri": "https://localhost:8080/"
        },
        "id": "ice3EuU9UJ-4",
        "outputId": "1c478cb7-1358-47ad-d12e-c82ed0a78f8a"
      },
      "execution_count": null,
      "outputs": [
        {
          "output_type": "stream",
          "name": "stdout",
          "text": [
            "은닉 상태의 유형:  <class 'tuple'>\n",
            "각 계층에서의 텐서 형태:  torch.Size([1, 33, 768])\n"
          ]
        }
      ]
    },
    {
      "cell_type": "markdown",
      "source": [
        "각 계층에서의 텐서는 [1, 33, 768]의 형태를 갖는다. 이를 하나의 텐서로 결합하여 보자"
      ],
      "metadata": {
        "id": "O8sMxid2UbRH"
      }
    },
    {
      "cell_type": "code",
      "source": [
        "# 텐서의 형태 변경\n",
        "token_embeddings = torch.stack(hidden_states, dim=0) # 각 계층의 텐서 결합\n",
        "token_embeddings.size()"
      ],
      "metadata": {
        "colab": {
          "base_uri": "https://localhost:8080/"
        },
        "id": "WCufjafsUUvN",
        "outputId": "4dfc8899-904a-4184-cc0f-75449d8ce0a2"
      },
      "execution_count": null,
      "outputs": [
        {
          "output_type": "execute_result",
          "data": {
            "text/plain": [
              "torch.Size([13, 1, 33, 768])"
            ]
          },
          "metadata": {},
          "execution_count": 35
        }
      ]
    },
    {
      "cell_type": "markdown",
      "source": [
        "우리는 지금 하나의 문장만을 사용하기 때문에 배치 사이즈의 차원은 불필요하다.  \n",
        "위의 텐서에서 불필요한 '배치' 차원만을 제거해보자"
      ],
      "metadata": {
        "id": "hLWTUEXCVQjH"
      }
    },
    {
      "cell_type": "code",
      "source": [
        "# 텐서의 형태 변경\n",
        "token_embeddings = torch.squeeze(token_embeddings, dim=1)\n",
        "token_embeddings.size()"
      ],
      "metadata": {
        "colab": {
          "base_uri": "https://localhost:8080/"
        },
        "id": "LhoXiwD0UzPB",
        "outputId": "701f966e-1e1c-45e9-ea82-1a1620ab2e81"
      },
      "execution_count": null,
      "outputs": [
        {
          "output_type": "execute_result",
          "data": {
            "text/plain": [
              "torch.Size([13, 33, 768])"
            ]
          },
          "metadata": {},
          "execution_count": 36
        }
      ]
    },
    {
      "cell_type": "markdown",
      "source": [
        "마지막으로 `permute`를 사용하여 '계층 개수와 '토큰 개수'에 대한 차원의 위치를 바꾸어준다."
      ],
      "metadata": {
        "id": "ExRaFVQMV4Bu"
      }
    },
    {
      "cell_type": "code",
      "source": [
        "# 텐서의 차원 변경\n",
        "token_embeddings = token_embeddings.permute(1,0,2)\n",
        "token_embeddings.size()"
      ],
      "metadata": {
        "colab": {
          "base_uri": "https://localhost:8080/"
        },
        "id": "EQoDAravVzLv",
        "outputId": "ed9b4a0f-a394-4392-9591-45eb211dbc83"
      },
      "execution_count": null,
      "outputs": [
        {
          "output_type": "execute_result",
          "data": {
            "text/plain": [
              "torch.Size([33, 13, 768])"
            ]
          },
          "metadata": {},
          "execution_count": 37
        }
      ]
    },
    {
      "cell_type": "code",
      "source": [
        "# 각 단어에 대한 벡터 형태 확인\n",
        "token_vecs_cat = []\n",
        "\n",
        "for token in token_embeddings:\n",
        "  cat_vec = torch.cat((token[-1], token[-2], token[-3], token[-4]), dim=0)\n",
        "  token_vecs_cat.append(cat_vec)\n",
        "\n",
        "print('형태는 %d x %d' % (len(token_vecs_cat), len(token_vecs_cat[0])))"
      ],
      "metadata": {
        "colab": {
          "base_uri": "https://localhost:8080/"
        },
        "id": "T_9xBtb3WJhb",
        "outputId": "1acaa3d9-843c-487e-eb2f-76d9b6120610"
      },
      "execution_count": null,
      "outputs": [
        {
          "output_type": "stream",
          "name": "stdout",
          "text": [
            "형태는 33 x 3072\n"
          ]
        }
      ]
    },
    {
      "cell_type": "markdown",
      "source": [
        "개별적인 토큰은 [12 × 768]의 형태를 가지며, 네 개의 계층을 이어 붙이면 각 계층의 벡터는 768개의 값을 갖게 되므로, 'cat_vec'의 길이는 3072개가 된다. 이때 'cat_vec'는 토큰을 의미한다.\n",
        "\n",
        "마지막으로 4개의 계층을 연결하여 단어 벡터를 생성한다."
      ],
      "metadata": {
        "id": "k8c1eHCVXL2j"
      }
    },
    {
      "cell_type": "code",
      "source": [
        "# 계층을 결합하여 최종 단어 벡터 생성\n",
        "token_vecs_sum = []\n",
        "\n",
        "for token in token_embeddings:\n",
        "  sum_vec = torch.sum(token[-4:], dim=0)\n",
        "  token_vecs_sum.append(sum_vec)\n",
        "\n",
        "print('형태는 %d x %d' % (len(token_vecs_sum), len(token_vecs_sum[0])))"
      ],
      "metadata": {
        "colab": {
          "base_uri": "https://localhost:8080/"
        },
        "id": "NP252x4bXHnC",
        "outputId": "4c509ff9-fe7d-4118-b0e4-3083e8f08ec4"
      },
      "execution_count": null,
      "outputs": [
        {
          "output_type": "stream",
          "name": "stdout",
          "text": [
            "형태는 33 x 768\n"
          ]
        }
      ]
    },
    {
      "cell_type": "markdown",
      "source": [
        "이제 전체 문장에 대한 단일 벡터를 구해야 한다. 간단하게 768 길이의 벡터를 생성하는 각 토큰의 두 번째에서 마지막 은닉 계층을 평균화하면 구할 수 있다."
      ],
      "metadata": {
        "id": "WpQ24TBagB2o"
      }
    },
    {
      "cell_type": "code",
      "source": [
        "# 문장 벡터\n",
        "token_vecs = hidden_states[2][0]\n",
        "sentence_embedding = torch.mean(token_vecs, dim=0)\n",
        "print('최종 임베딩 벡터의 형태', sentence_embedding.size())"
      ],
      "metadata": {
        "colab": {
          "base_uri": "https://localhost:8080/"
        },
        "id": "21HWDcn-fgtr",
        "outputId": "6a675205-2215-463c-c5ad-717af54cca5e"
      },
      "execution_count": null,
      "outputs": [
        {
          "output_type": "stream",
          "name": "stdout",
          "text": [
            "최종 임베딩 벡터의 형태 torch.Size([768])\n"
          ]
        }
      ]
    },
    {
      "cell_type": "markdown",
      "source": [
        "tokenized_text에서 토큰들을 꺼내서 인덱스와 함께 출력"
      ],
      "metadata": {
        "id": "Wa_6ECGCgeTL"
      }
    },
    {
      "cell_type": "code",
      "source": [
        "# 토큰과 인덱스 출력\n",
        "for i, token_str in enumerate(bert_tokenized_text):\n",
        "  print(i, token_str)"
      ],
      "metadata": {
        "colab": {
          "base_uri": "https://localhost:8080/"
        },
        "id": "QFSk8RHfgd0y",
        "outputId": "b4f160c0-54e6-4202-9604-827a0cf2f22d"
      },
      "execution_count": null,
      "outputs": [
        {
          "output_type": "stream",
          "name": "stdout",
          "text": [
            "0 [CLS]\n",
            "1 과\n",
            "2 ##수\n",
            "3 ##원에\n",
            "4 사\n",
            "5 ##과\n",
            "6 ##가\n",
            "7 많\n",
            "8 ##았다\n",
            "9 .\n",
            "10 친\n",
            "11 ##구\n",
            "12 ##가\n",
            "13 나\n",
            "14 ##에게\n",
            "15 사\n",
            "16 ##과\n",
            "17 ##했다\n",
            "18 .\n",
            "19 백\n",
            "20 ##설\n",
            "21 ##공\n",
            "22 ##주는\n",
            "23 독\n",
            "24 ##이\n",
            "25 든\n",
            "26 사\n",
            "27 ##과\n",
            "28 ##를\n",
            "29 먹\n",
            "30 ##었다\n",
            "31 .\n",
            "32 [SEP]\n"
          ]
        }
      ]
    },
    {
      "cell_type": "markdown",
      "source": [
        "코드에서 '사과'는 4, 5, 15, 16, 26, 27에 있다. 원래는 붙어 있어야 하나의 단어가 되지만 쪼개진 상태에서 어떠한 결과를 보여 주는지 알아보도록 한다."
      ],
      "metadata": {
        "id": "Gw5PwqT8hSZp"
      }
    },
    {
      "cell_type": "code",
      "source": [
        "# 단어 벡터 확인\n",
        "print('사과가 많았다.', str(token_vecs_sum[6][:5]))\n",
        "print('나에게 사과했다.', str(token_vecs_sum[10][:5]))\n",
        "print('사과를 먹었다', str(token_vecs_sum[19][:5]))"
      ],
      "metadata": {
        "colab": {
          "base_uri": "https://localhost:8080/"
        },
        "id": "U0SPkmhug03X",
        "outputId": "f430905e-6e15-483a-9405-9785fe2380d4"
      },
      "execution_count": null,
      "outputs": [
        {
          "output_type": "stream",
          "name": "stdout",
          "text": [
            "사과가 많았다. tensor([-0.5844, -4.0836,  0.4906,  0.8915, -1.8054])\n",
            "나에게 사과했다. tensor([-0.8631, -3.4047, -0.7351,  0.9805, -2.6700])\n",
            "사과를 먹었다 tensor([ 0.6756, -0.3618,  0.0586,  2.2050, -2.4193])\n"
          ]
        }
      ]
    },
    {
      "cell_type": "markdown",
      "source": [
        "정확한 비교를 위해 코사인 유사도를 측정해보자"
      ],
      "metadata": {
        "id": "ULIKTd1BiJB5"
      }
    },
    {
      "cell_type": "code",
      "source": [
        "# 코사인 유사도 계산\n",
        "from scipy.spatial.distance import cosine\n",
        "\n",
        "# '사과가 많았다'와 '나에게 사과했다'에서 단어 '사과' 사이의 코사인 유사도를 계산\n",
        "diff_apple = 1 - cosine(token_vecs_sum[5], token_vecs_sum[27])  \n",
        "\n",
        "# '사과가 많았다'와 '사과를 먹었다'에서 단어 '사과' 사이의 코사인 유사도를 계산\n",
        "same_apple = 1 - cosine(token_vecs_sum[5], token_vecs_sum[19])\n",
        "\n",
        "print('*유사한* 의미에 대한 벡터 유사성:  %.2f' % same_apple)\n",
        "print('*다른* 의미에 대한 벡터 유사성:  %.2f' % diff_apple)"
      ],
      "metadata": {
        "colab": {
          "base_uri": "https://localhost:8080/"
        },
        "id": "FMqozdYliGeD",
        "outputId": "223c0f71-80f2-4039-9542-255d9d54dca9"
      },
      "execution_count": null,
      "outputs": [
        {
          "output_type": "stream",
          "name": "stdout",
          "text": [
            "*유사한* 의미에 대한 벡터 유사성:  0.58\n",
            "*다른* 의미에 대한 벡터 유사성:  0.91\n"
          ]
        }
      ]
    },
    {
      "cell_type": "markdown",
      "source": [
        "다국어 버트 모델을 사용하더라도 한국어에 대해서는 정확한 판별이 쉽지 않음을 볼 수 있다. 또한 사과라는 단어가 한 번 더 쪼개져 있기 때문에 정확한 결과라고 하기도 힘들다. 한국어에 대한 임베딩은 국내에서 개발된 모델을 이용하는 것이 정확도가 더 높기 때문에 KoBert 같은 모델을 사용하는 것이 좋다."
      ],
      "metadata": {
        "id": "bhGioUjBi8NK"
      }
    }
  ]
}